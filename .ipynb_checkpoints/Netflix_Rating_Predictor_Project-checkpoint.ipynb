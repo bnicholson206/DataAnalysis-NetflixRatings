{
 "cells": [
  {
   "cell_type": "markdown",
   "metadata": {},
   "source": [
    "# Netflix Ratings: IMDB Score Predictors!"
   ]
  },
  {
   "cell_type": "markdown",
   "metadata": {},
   "source": [
    "![Image of Netflix](https://help.nflxext.com/0af6ce3e-b27a-4722-a5f0-e32af4df3045_what_is_netflix_5_en.png)"
   ]
  },
  {
   "cell_type": "markdown",
   "metadata": {},
   "source": [
    "## Looking at the 'Big Picture'..."
   ]
  },
  {
   "cell_type": "markdown",
   "metadata": {},
   "source": [
    "### Frame the Problem"
   ]
  },
  {
   "cell_type": "markdown",
   "metadata": {},
   "source": [
    "**What is the objective of this project?**\n",
    "\n",
    "The objective for this project is to look at trends in the Netflix library of original content.\n",
    "\n",
    "** How will the solution be used? **\n",
    "The output of this project should be able to predict the IMDB Score of a particular Netflix title based on a variety of qualitative (Genre, Director, Language) and quantitative (Runtime, Days Since Premiere) features.\n",
    "\n",
    "** How should the problem be framed? **\n",
    "We should use a regression algorithm as we are looking to predict a continuous quantitative measure."
   ]
  },
  {
   "cell_type": "markdown",
   "metadata": {},
   "source": [
    "### Selecting a Performance Measure"
   ]
  },
  {
   "cell_type": "markdown",
   "metadata": {},
   "source": [
    "** How should performance be measured? **\n",
    "Performance will be measured using Root Mean Squared Error and Mean Absolute Error. "
   ]
  },
  {
   "cell_type": "markdown",
   "metadata": {},
   "source": [
    "$ RMSE(\\textbf{X}, \\textit{h}) = \\sqrt{\\frac{1}{m} \\sum_{i=1}^{m} ( h(\\textbf{X}^{(i)}) - y^{(i)} )^{2} } $\n",
    "\n",
    "$ MAE(\\textbf{X}, \\textit{h}) = \\frac{1}{m} \\sum_{i=1}^{m} | h(\\textbf{X}^{(i)}) - y^{(i)} |  $"
   ]
  },
  {
   "cell_type": "markdown",
   "metadata": {},
   "source": [
    "** Is the performance measure aligned with business objectives? **\n",
    "The method of performance measurement should give *reasonable confidence* that the predictor is yielding results that give the best possible estimation based on the most impactful features."
   ]
  },
  {
   "cell_type": "markdown",
   "metadata": {},
   "source": [
    "### Other Discovery Questions\n",
    "\n",
    "** What would be the minimum performance needed to reach the business objective? **\n",
    "\n",
    "** What are comparable problems? Can you resuse experience or tools? **\n",
    "\n",
    "** Is human expertise available? **\n",
    "\n",
    "** How would you solve the problem manually? **\n",
    "\n",
    "** List the assumptions made so far **\n",
    "\n",
    "** Verify assumptions if possible **"
   ]
  },
  {
   "cell_type": "markdown",
   "metadata": {},
   "source": [
    "Load initial packages and set parameters for matplotlib"
   ]
  },
  {
   "cell_type": "code",
   "execution_count": 2,
   "metadata": {
    "collapsed": true
   },
   "outputs": [],
   "source": [
    "# To support both python 2 and python 3\n",
    "from __future__ import division, print_function, unicode_literals\n",
    "\n",
    "# Common imports\n",
    "import numpy as np #will need this to manipulate arrays\n",
    "import pandas as pd #will need this to handle DataFrames and Series\n",
    "import os #will help access file paths when retreiving data\n",
    "import datetime #will help handle dates\n",
    "from dateutil.relativedelta import relativedelta\n",
    "from datetime import date\n",
    "\n",
    "# To plot pretty figures\n",
    "%matplotlib inline\n",
    "import matplotlib\n",
    "import matplotlib.pyplot as plt\n",
    "plt.rcParams['axes.labelsize'] = 14\n",
    "plt.rcParams['xtick.labelsize'] = 12\n",
    "plt.rcParams['ytick.labelsize'] = 12\n",
    "\n",
    "import seaborn as sns\n",
    "from scipy import stats\n",
    "\n",
    "from sklearn.preprocessing import StandardScaler\n",
    "from sklearn.linear_model import LogisticRegression\n",
    "from sklearn.pipeline import make_pipeline\n",
    "from sklearn.datasets import load_iris\n",
    "from sklearn.model_selection import train_test_split\n",
    "from sklearn.metrics import accuracy_score\n",
    "\n",
    "# Where to save the figures\n",
    "PROJECT_ROOT_DIR = \".\"\n",
    "CHAPTER_ID = \"end_to_end_project\"\n",
    "IMAGES_PATH = os.path.join(PROJECT_ROOT_DIR, \"images\", CHAPTER_ID)\n",
    "\n",
    "def save_fig(fig_id, tight_layout=True, fig_extension=\"png\", resolution=300):\n",
    "    path = os.path.join(IMAGES_PATH, fig_id + \".\" + fig_extension)\n",
    "    print(\"Saving figure\", fig_id)\n",
    "    if tight_layout:\n",
    "        plt.tight_layout()\n",
    "    plt.savefig(path, format=fig_extension, dpi=resolution)\n",
    "\n",
    "# Ignore useless warnings (see SciPy issue #5998)\n",
    "import warnings\n",
    "warnings.filterwarnings(action=\"ignore\", module=\"scipy\", message=\"^internal gelsd\")"
   ]
  },
  {
   "cell_type": "markdown",
   "metadata": {},
   "source": [
    "## Get the Data"
   ]
  },
  {
   "cell_type": "markdown",
   "metadata": {},
   "source": [
    "** List the data you need and how much you need **\n",
    "\n",
    "Will need data from Netflix at the grain of single movies/shows/programs."
   ]
  },
  {
   "cell_type": "markdown",
   "metadata": {},
   "source": [
    "** Find and document where you can get that data **\n",
    "\n",
    "We can get the data from Kaggle. Here are some good candidates:\n",
    "\n",
    "https://www.kaggle.com/luiscorter/netflix-original-films-imdb-scores *[Using this so far]*\n",
    "\n",
    "https://www.kaggle.com/shivamb/netflix-shows *[TBD! Will use this in V2]*"
   ]
  },
  {
   "cell_type": "markdown",
   "metadata": {},
   "source": [
    "**Other data questions to check**\n",
    "\n",
    "Check how much space it will take.\n",
    "\n",
    "Check legal obligations, and get authorization if necessary.\n",
    "\n",
    "Get access authorizations.\n",
    "\n",
    "Create workspace (with enough storage space)."
   ]
  },
  {
   "cell_type": "markdown",
   "metadata": {},
   "source": [
    "**Get the data (forreal!)**\n",
    "\n",
    "Ok - now let's get the data. In this case I've saved this file to my local computer. Depending on the volume of data, it might be smarter to only extract some of this data."
   ]
  },
  {
   "cell_type": "code",
   "execution_count": 3,
   "metadata": {
    "collapsed": true
   },
   "outputs": [],
   "source": [
    "init_path = '/Users/blakenicholson/documents/personal/coding/handson-ml'\n",
    "\n",
    "# /Users/blakenicholson/Documents/Personal/Coding/handson-ml/datasets/NetflixOriginals.csv\n",
    "\n",
    "HOUSING_PATH = os.path.join(init_path,\"datasets\")\n",
    "\n",
    "\n",
    "def load_netflixorigs_data(housing_path=HOUSING_PATH):\n",
    "    csv_path = os.path.join(housing_path, \"NetflixOriginals.csv\")\n",
    "    return pd.read_csv(csv_path, encoding = \"latin-1\")\n",
    "\n",
    "netflix_data = load_netflixorigs_data()\n"
   ]
  },
  {
   "cell_type": "markdown",
   "metadata": {},
   "source": [
    "** Check how much space it will take **"
   ]
  },
  {
   "cell_type": "code",
   "execution_count": 4,
   "metadata": {},
   "outputs": [
    {
     "data": {
      "text/plain": [
       "(584, 6)"
      ]
     },
     "execution_count": 4,
     "metadata": {},
     "output_type": "execute_result"
    }
   ],
   "source": [
    "netflix_data.shape"
   ]
  },
  {
   "cell_type": "markdown",
   "metadata": {},
   "source": [
    "## Checking out the data structure"
   ]
  },
  {
   "cell_type": "markdown",
   "metadata": {},
   "source": [
    "Ideally before jumping into this step, we'd have asked the experts about the data.\n",
    "\n",
    "- Create a copy of the data for exploration.\n",
    "\n",
    "- Create a Jupyter Notebook to keep a record of your data exploration.\n",
    "\n",
    "- Study each attribute and its characterisitics:\n",
    "    - Name\n",
    "    - Type (categorical, int/float, bounded/unbounded, text, structured, etc.)\n",
    "    - % of missing values\n",
    "    - Noisiness and type of noise (stochastic, outliers, rounding errors, etc.)\n",
    "    - Possibly useful for the task\n",
    "    - Types of distribution (Gaussian, uniform, logarithmic, etc.)\n",
    "\n",
    "- For supervised learning tasks, identify the target attribute(s).\n",
    "    - Visualize the data\n",
    "    - Study the correlation between attributes.\n",
    "    - Study how you would solve the problem manually.\n",
    "    - Identfiy the promising transformations you may want to apply.\n",
    "    - Identify extra data that would be useful.\n",
    "    - Document what you learn."
   ]
  },
  {
   "cell_type": "markdown",
   "metadata": {},
   "source": [
    "**Prepare the Data**\n",
    "\n",
    "Notes:\n",
    "\n",
    "- Work on copies of the data (keep the original dataset intact)\n",
    "\n",
    "- Write functions for all data transformations you apply, for five reasons:\n",
    "    - So you can easily prepare the data the next time you get a fresh dataset\n",
    "    - So you can apply these transformations in future projects.\n",
    "    - To clean and prepare the test set.\n",
    "    - To clean and prepare new data instances once your solution is live.\n",
    "    - To make it easy to treat your preparation choices as hyperparameters."
   ]
  },
  {
   "cell_type": "markdown",
   "metadata": {},
   "source": [
    "1. Data cleaning:\n",
    "    - Fix or remove outliers (optional).\n",
    "    - Fill in missing values (e.g., with zero, mean, median,...) or drop their rows (or columns)\n",
    "\n",
    "2. Feature selection (optional):\n",
    "    - Drop the attributes that provide no useful information for the task.\n",
    "\n",
    "3. Feature Engineering, where appropriate:\n",
    "    - Discretize continuous features.\n",
    "    - Decompose features (e.g., categorical, date/time, etc.).\n",
    "    - Add promising transformations of features (e.g., log(x), sqrt(x), x^2, etc.)\n",
    "    - Aggregate features into promising new features.\n",
    "\n",
    "4. Feature scaling: standardize or normalize features."
   ]
  },
  {
   "cell_type": "markdown",
   "metadata": {},
   "source": [
    "Check out the first few rows in the dataframe"
   ]
  },
  {
   "cell_type": "code",
   "execution_count": 5,
   "metadata": {},
   "outputs": [
    {
     "data": {
      "text/html": [
       "<div>\n",
       "<style scoped>\n",
       "    .dataframe tbody tr th:only-of-type {\n",
       "        vertical-align: middle;\n",
       "    }\n",
       "\n",
       "    .dataframe tbody tr th {\n",
       "        vertical-align: top;\n",
       "    }\n",
       "\n",
       "    .dataframe thead th {\n",
       "        text-align: right;\n",
       "    }\n",
       "</style>\n",
       "<table border=\"1\" class=\"dataframe\">\n",
       "  <thead>\n",
       "    <tr style=\"text-align: right;\">\n",
       "      <th></th>\n",
       "      <th>Title</th>\n",
       "      <th>Genre</th>\n",
       "      <th>Premiere</th>\n",
       "      <th>Runtime</th>\n",
       "      <th>IMDB Score</th>\n",
       "      <th>Language</th>\n",
       "    </tr>\n",
       "  </thead>\n",
       "  <tbody>\n",
       "    <tr>\n",
       "      <th>0</th>\n",
       "      <td>Enter the Anime</td>\n",
       "      <td>Documentary</td>\n",
       "      <td>8/5/19</td>\n",
       "      <td>58</td>\n",
       "      <td>2.5</td>\n",
       "      <td>English/Japanese</td>\n",
       "    </tr>\n",
       "    <tr>\n",
       "      <th>1</th>\n",
       "      <td>Dark Forces</td>\n",
       "      <td>Thriller</td>\n",
       "      <td>8/21/20</td>\n",
       "      <td>81</td>\n",
       "      <td>2.6</td>\n",
       "      <td>Spanish</td>\n",
       "    </tr>\n",
       "    <tr>\n",
       "      <th>2</th>\n",
       "      <td>The App</td>\n",
       "      <td>Science fiction/Drama</td>\n",
       "      <td>12/26/19</td>\n",
       "      <td>79</td>\n",
       "      <td>2.6</td>\n",
       "      <td>Italian</td>\n",
       "    </tr>\n",
       "    <tr>\n",
       "      <th>3</th>\n",
       "      <td>The Open House</td>\n",
       "      <td>Horror thriller</td>\n",
       "      <td>1/19/18</td>\n",
       "      <td>94</td>\n",
       "      <td>3.2</td>\n",
       "      <td>English</td>\n",
       "    </tr>\n",
       "    <tr>\n",
       "      <th>4</th>\n",
       "      <td>Kaali Khuhi</td>\n",
       "      <td>Mystery</td>\n",
       "      <td>10/30/20</td>\n",
       "      <td>90</td>\n",
       "      <td>3.4</td>\n",
       "      <td>Hindi</td>\n",
       "    </tr>\n",
       "  </tbody>\n",
       "</table>\n",
       "</div>"
      ],
      "text/plain": [
       "             Title                  Genre  Premiere  Runtime  IMDB Score  \\\n",
       "0  Enter the Anime            Documentary    8/5/19       58         2.5   \n",
       "1      Dark Forces               Thriller   8/21/20       81         2.6   \n",
       "2          The App  Science fiction/Drama  12/26/19       79         2.6   \n",
       "3   The Open House        Horror thriller   1/19/18       94         3.2   \n",
       "4      Kaali Khuhi                Mystery  10/30/20       90         3.4   \n",
       "\n",
       "           Language  \n",
       "0  English/Japanese  \n",
       "1           Spanish  \n",
       "2           Italian  \n",
       "3           English  \n",
       "4             Hindi  "
      ]
     },
     "execution_count": 5,
     "metadata": {},
     "output_type": "execute_result"
    }
   ],
   "source": [
    "netflix_data.head()"
   ]
  },
  {
   "cell_type": "markdown",
   "metadata": {},
   "source": [
    "Look at the descriptive statistics of the dataframe"
   ]
  },
  {
   "cell_type": "code",
   "execution_count": 6,
   "metadata": {},
   "outputs": [
    {
     "data": {
      "text/html": [
       "<div>\n",
       "<style scoped>\n",
       "    .dataframe tbody tr th:only-of-type {\n",
       "        vertical-align: middle;\n",
       "    }\n",
       "\n",
       "    .dataframe tbody tr th {\n",
       "        vertical-align: top;\n",
       "    }\n",
       "\n",
       "    .dataframe thead th {\n",
       "        text-align: right;\n",
       "    }\n",
       "</style>\n",
       "<table border=\"1\" class=\"dataframe\">\n",
       "  <thead>\n",
       "    <tr style=\"text-align: right;\">\n",
       "      <th></th>\n",
       "      <th>Runtime</th>\n",
       "      <th>IMDB Score</th>\n",
       "    </tr>\n",
       "  </thead>\n",
       "  <tbody>\n",
       "    <tr>\n",
       "      <th>count</th>\n",
       "      <td>584.000000</td>\n",
       "      <td>584.000000</td>\n",
       "    </tr>\n",
       "    <tr>\n",
       "      <th>mean</th>\n",
       "      <td>93.577055</td>\n",
       "      <td>6.271747</td>\n",
       "    </tr>\n",
       "    <tr>\n",
       "      <th>std</th>\n",
       "      <td>27.761683</td>\n",
       "      <td>0.979256</td>\n",
       "    </tr>\n",
       "    <tr>\n",
       "      <th>min</th>\n",
       "      <td>4.000000</td>\n",
       "      <td>2.500000</td>\n",
       "    </tr>\n",
       "    <tr>\n",
       "      <th>25%</th>\n",
       "      <td>86.000000</td>\n",
       "      <td>5.700000</td>\n",
       "    </tr>\n",
       "    <tr>\n",
       "      <th>50%</th>\n",
       "      <td>97.000000</td>\n",
       "      <td>6.350000</td>\n",
       "    </tr>\n",
       "    <tr>\n",
       "      <th>75%</th>\n",
       "      <td>108.000000</td>\n",
       "      <td>7.000000</td>\n",
       "    </tr>\n",
       "    <tr>\n",
       "      <th>max</th>\n",
       "      <td>209.000000</td>\n",
       "      <td>9.000000</td>\n",
       "    </tr>\n",
       "  </tbody>\n",
       "</table>\n",
       "</div>"
      ],
      "text/plain": [
       "          Runtime  IMDB Score\n",
       "count  584.000000  584.000000\n",
       "mean    93.577055    6.271747\n",
       "std     27.761683    0.979256\n",
       "min      4.000000    2.500000\n",
       "25%     86.000000    5.700000\n",
       "50%     97.000000    6.350000\n",
       "75%    108.000000    7.000000\n",
       "max    209.000000    9.000000"
      ]
     },
     "execution_count": 6,
     "metadata": {},
     "output_type": "execute_result"
    }
   ],
   "source": [
    "netflix_data.describe()"
   ]
  },
  {
   "cell_type": "code",
   "execution_count": 7,
   "metadata": {},
   "outputs": [
    {
     "name": "stdout",
     "output_type": "stream",
     "text": [
      "Mean of Runtime: 93.57705479452055\n"
     ]
    }
   ],
   "source": [
    "print('Mean of Runtime: {0}'.format(np.mean(netflix_data['Runtime'])))"
   ]
  },
  {
   "cell_type": "markdown",
   "metadata": {},
   "source": [
    "The first thing we notice is that we only have two continuous measures (*Runtime* and *IMDB Score*), so we may need to create more features to work with."
   ]
  },
  {
   "cell_type": "code",
   "execution_count": 8,
   "metadata": {},
   "outputs": [
    {
     "name": "stdout",
     "output_type": "stream",
     "text": [
      "<class 'pandas.core.frame.DataFrame'>\n",
      "RangeIndex: 584 entries, 0 to 583\n",
      "Data columns (total 6 columns):\n",
      " #   Column      Non-Null Count  Dtype  \n",
      "---  ------      --------------  -----  \n",
      " 0   Title       584 non-null    object \n",
      " 1   Genre       584 non-null    object \n",
      " 2   Premiere    584 non-null    object \n",
      " 3   Runtime     584 non-null    int64  \n",
      " 4   IMDB Score  584 non-null    float64\n",
      " 5   Language    584 non-null    object \n",
      "dtypes: float64(1), int64(1), object(4)\n",
      "memory usage: 27.5+ KB\n"
     ]
    }
   ],
   "source": [
    "netflix_data.info()"
   ]
  },
  {
   "cell_type": "markdown",
   "metadata": {},
   "source": [
    "We are going to create another continuous feature that looks at the number of days between the Premiere date and today's date. We will create the 'days_since_premiere' column and add it back into our dataframe."
   ]
  },
  {
   "cell_type": "code",
   "execution_count": 9,
   "metadata": {
    "scrolled": true
   },
   "outputs": [
    {
     "data": {
      "text/html": [
       "<div>\n",
       "<style scoped>\n",
       "    .dataframe tbody tr th:only-of-type {\n",
       "        vertical-align: middle;\n",
       "    }\n",
       "\n",
       "    .dataframe tbody tr th {\n",
       "        vertical-align: top;\n",
       "    }\n",
       "\n",
       "    .dataframe thead th {\n",
       "        text-align: right;\n",
       "    }\n",
       "</style>\n",
       "<table border=\"1\" class=\"dataframe\">\n",
       "  <thead>\n",
       "    <tr style=\"text-align: right;\">\n",
       "      <th></th>\n",
       "      <th>Title</th>\n",
       "      <th>Genre</th>\n",
       "      <th>Premiere</th>\n",
       "      <th>Runtime</th>\n",
       "      <th>IMDB Score</th>\n",
       "      <th>Language</th>\n",
       "      <th>days_since_premiere</th>\n",
       "    </tr>\n",
       "  </thead>\n",
       "  <tbody>\n",
       "    <tr>\n",
       "      <th>0</th>\n",
       "      <td>Enter the Anime</td>\n",
       "      <td>Documentary</td>\n",
       "      <td>8/5/19</td>\n",
       "      <td>58</td>\n",
       "      <td>2.5</td>\n",
       "      <td>English/Japanese</td>\n",
       "      <td>698.0</td>\n",
       "    </tr>\n",
       "    <tr>\n",
       "      <th>1</th>\n",
       "      <td>Dark Forces</td>\n",
       "      <td>Thriller</td>\n",
       "      <td>8/21/20</td>\n",
       "      <td>81</td>\n",
       "      <td>2.6</td>\n",
       "      <td>Spanish</td>\n",
       "      <td>316.0</td>\n",
       "    </tr>\n",
       "    <tr>\n",
       "      <th>2</th>\n",
       "      <td>The App</td>\n",
       "      <td>Science fiction/Drama</td>\n",
       "      <td>12/26/19</td>\n",
       "      <td>79</td>\n",
       "      <td>2.6</td>\n",
       "      <td>Italian</td>\n",
       "      <td>555.0</td>\n",
       "    </tr>\n",
       "    <tr>\n",
       "      <th>3</th>\n",
       "      <td>The Open House</td>\n",
       "      <td>Horror thriller</td>\n",
       "      <td>1/19/18</td>\n",
       "      <td>94</td>\n",
       "      <td>3.2</td>\n",
       "      <td>English</td>\n",
       "      <td>1261.0</td>\n",
       "    </tr>\n",
       "    <tr>\n",
       "      <th>4</th>\n",
       "      <td>Kaali Khuhi</td>\n",
       "      <td>Mystery</td>\n",
       "      <td>10/30/20</td>\n",
       "      <td>90</td>\n",
       "      <td>3.4</td>\n",
       "      <td>Hindi</td>\n",
       "      <td>246.0</td>\n",
       "    </tr>\n",
       "  </tbody>\n",
       "</table>\n",
       "</div>"
      ],
      "text/plain": [
       "             Title                  Genre  Premiere  Runtime  IMDB Score  \\\n",
       "0  Enter the Anime            Documentary    8/5/19       58         2.5   \n",
       "1      Dark Forces               Thriller   8/21/20       81         2.6   \n",
       "2          The App  Science fiction/Drama  12/26/19       79         2.6   \n",
       "3   The Open House        Horror thriller   1/19/18       94         3.2   \n",
       "4      Kaali Khuhi                Mystery  10/30/20       90         3.4   \n",
       "\n",
       "           Language  days_since_premiere  \n",
       "0  English/Japanese                698.0  \n",
       "1           Spanish                316.0  \n",
       "2           Italian                555.0  \n",
       "3           English               1261.0  \n",
       "4             Hindi                246.0  "
      ]
     },
     "execution_count": 9,
     "metadata": {},
     "output_type": "execute_result"
    }
   ],
   "source": [
    "date1 = netflix_data[\"Premiere\"]\n",
    "date2 = pd.Series(data=date.today(), index=np.arange(len(date1)), name=\"Today\").values.astype('datetime64[D]')\n",
    "date1 = pd.to_datetime(date1).values.astype('datetime64[D]')\n",
    "date_df = pd.DataFrame(dict(Start_date = date1, End_date = date2))\n",
    "date_df['diff_days'] = date_df['End_date'] - date_df['Start_date']\n",
    "date_df['diff_days'] = date_df['diff_days'] / np.timedelta64(1,'D')\n",
    "netflix_data['days_since_premiere'] = date_df['diff_days']\n",
    "netflix_data.head()"
   ]
  },
  {
   "cell_type": "markdown",
   "metadata": {},
   "source": [
    "Let's now look at some histograms of each measure to see what our distributions look like. IMDB Score and Runtime both seem to follow a normal distribution but days_since_premiere seems to follow a negative linear trend (which makes sense as more time goes by and the oldest movies continue to get older)."
   ]
  },
  {
   "cell_type": "code",
   "execution_count": 10,
   "metadata": {
    "scrolled": true
   },
   "outputs": [
    {
     "data": {
      "image/png": "[encoded data removed]",
      "text/plain": [
       "<Figure size 1440x1080 with 4 Axes>"
      ]
     },
     "metadata": {},
     "output_type": "display_data"
    }
   ],
   "source": [
    "%matplotlib inline\n",
    "import matplotlib.pyplot as plt\n",
    "netflix_data.hist(bins=50, figsize=(20,15))\n",
    "# save_fig(\"melb_attribute_histogram_plots\")\n",
    "plt.show()"
   ]
  },
  {
   "cell_type": "code",
   "execution_count": 11,
   "metadata": {
    "scrolled": true
   },
   "outputs": [
    {
     "data": {
      "text/plain": [
       "<AxesSubplot:xlabel='Runtime'>"
      ]
     },
     "execution_count": 11,
     "metadata": {},
     "output_type": "execute_result"
    },
    {
     "data": {
      "image/png": "[encoded data removed]",
      "text/plain": [
       "<Figure size 720x288 with 1 Axes>"
      ]
     },
     "metadata": {},
     "output_type": "display_data"
    }
   ],
   "source": [
    "# netflix_data[\"Runtime\"].hist(bins=100)\n",
    "\n",
    "fig, ax = plt.subplots(1,1,figsize=(10, 4))\n",
    "\n",
    "sns.distplot(netflix_data['Runtime'])"
   ]
  },
  {
   "cell_type": "code",
   "execution_count": 12,
   "metadata": {
    "scrolled": true
   },
   "outputs": [
    {
     "data": {
      "text/html": [
       "<div>\n",
       "<style scoped>\n",
       "    .dataframe tbody tr th:only-of-type {\n",
       "        vertical-align: middle;\n",
       "    }\n",
       "\n",
       "    .dataframe tbody tr th {\n",
       "        vertical-align: top;\n",
       "    }\n",
       "\n",
       "    .dataframe thead th {\n",
       "        text-align: right;\n",
       "    }\n",
       "</style>\n",
       "<table border=\"1\" class=\"dataframe\">\n",
       "  <thead>\n",
       "    <tr style=\"text-align: right;\">\n",
       "      <th></th>\n",
       "      <th>Runtime</th>\n",
       "      <th>IMDB Score</th>\n",
       "      <th>days_since_premiere</th>\n",
       "    </tr>\n",
       "  </thead>\n",
       "  <tbody>\n",
       "    <tr>\n",
       "      <th>Runtime</th>\n",
       "      <td>1.000000</td>\n",
       "      <td>-0.040896</td>\n",
       "      <td>-0.063521</td>\n",
       "    </tr>\n",
       "    <tr>\n",
       "      <th>IMDB Score</th>\n",
       "      <td>-0.040896</td>\n",
       "      <td>1.000000</td>\n",
       "      <td>0.122174</td>\n",
       "    </tr>\n",
       "    <tr>\n",
       "      <th>days_since_premiere</th>\n",
       "      <td>-0.063521</td>\n",
       "      <td>0.122174</td>\n",
       "      <td>1.000000</td>\n",
       "    </tr>\n",
       "  </tbody>\n",
       "</table>\n",
       "</div>"
      ],
      "text/plain": [
       "                      Runtime  IMDB Score  days_since_premiere\n",
       "Runtime              1.000000   -0.040896            -0.063521\n",
       "IMDB Score          -0.040896    1.000000             0.122174\n",
       "days_since_premiere -0.063521    0.122174             1.000000"
      ]
     },
     "execution_count": 12,
     "metadata": {},
     "output_type": "execute_result"
    }
   ],
   "source": [
    "netflix_data.corr()"
   ]
  },
  {
   "cell_type": "code",
   "execution_count": 13,
   "metadata": {},
   "outputs": [
    {
     "data": {
      "text/plain": [
       "<AxesSubplot:xlabel='IMDB Score', ylabel='Runtime'>"
      ]
     },
     "execution_count": 13,
     "metadata": {},
     "output_type": "execute_result"
    },
    {
     "data": {
      "image/png": "[encoded data removed]",
      "text/plain": [
       "<Figure size 432x288 with 1 Axes>"
      ]
     },
     "metadata": {},
     "output_type": "display_data"
    }
   ],
   "source": [
    "netflix_data.plot(kind=\"scatter\", x=\"IMDB Score\", y=\"Runtime\", alpha=0.4, s=netflix_data[\"Runtime\"]/10)"
   ]
  },
  {
   "cell_type": "code",
   "execution_count": 14,
   "metadata": {},
   "outputs": [
    {
     "data": {
      "text/plain": [
       "<AxesSubplot:xlabel='IMDB Score', ylabel='days_since_premiere'>"
      ]
     },
     "execution_count": 14,
     "metadata": {},
     "output_type": "execute_result"
    },
    {
     "data": {
      "image/png": "[encoded data removed]",
      "text/plain": [
       "<Figure size 432x288 with 1 Axes>"
      ]
     },
     "metadata": {},
     "output_type": "display_data"
    }
   ],
   "source": [
    "netflix_data.plot(kind=\"scatter\", x=\"IMDB Score\", y=\"days_since_premiere\", alpha=0.4, s=netflix_data[\"Runtime\"]/10)"
   ]
  },
  {
   "cell_type": "markdown",
   "metadata": {},
   "source": [
    "## Create a Test Set"
   ]
  },
  {
   "cell_type": "code",
   "execution_count": 15,
   "metadata": {
    "collapsed": true
   },
   "outputs": [],
   "source": [
    "from sklearn.model_selection import train_test_split\n",
    "\n",
    "train_set, test_set = train_test_split(netflix_data, test_size=0.2, random_state=42)"
   ]
  },
  {
   "cell_type": "code",
   "execution_count": 17,
   "metadata": {},
   "outputs": [
    {
     "name": "stdout",
     "output_type": "stream",
     "text": [
      "467 train + 117 test\n"
     ]
    }
   ],
   "source": [
    "print(len(train_set), \"train +\", len(test_set), \"test\")"
   ]
  },
  {
   "cell_type": "code",
   "execution_count": 18,
   "metadata": {},
   "outputs": [
    {
     "data": {
      "text/plain": [
       "(117, 7)"
      ]
     },
     "execution_count": 18,
     "metadata": {},
     "output_type": "execute_result"
    }
   ],
   "source": [
    "test_set.head()\n",
    "test_set.shape"
   ]
  },
  {
   "cell_type": "code",
   "execution_count": 19,
   "metadata": {},
   "outputs": [
    {
     "data": {
      "text/plain": [
       "(467, 7)"
      ]
     },
     "execution_count": 19,
     "metadata": {},
     "output_type": "execute_result"
    }
   ],
   "source": [
    "train_set.head()\n",
    "train_set.shape"
   ]
  },
  {
   "cell_type": "code",
   "execution_count": 20,
   "metadata": {},
   "outputs": [
    {
     "data": {
      "text/plain": [
       "<AxesSubplot:>"
      ]
     },
     "execution_count": 20,
     "metadata": {},
     "output_type": "execute_result"
    },
    {
     "data": {
      "image/png": "[encoded data removed]",
      "text/plain": [
       "<Figure size 432x288 with 1 Axes>"
      ]
     },
     "metadata": {},
     "output_type": "display_data"
    }
   ],
   "source": [
    "netflix_data[\"Runtime\"].hist()"
   ]
  },
  {
   "cell_type": "code",
   "execution_count": 21,
   "metadata": {
    "collapsed": true
   },
   "outputs": [],
   "source": [
    "netflix_data[\"runtime_cat\"] = np.ceil(netflix_data[\"Runtime\"] / 20)\n",
    "netflix_data[\"runtime_cat\"].where(netflix_data[\"runtime_cat\"] < 7, 7, inplace=True)\n",
    "# netflix_data[\"runtime_cat\"].where(netflix_data[\"runtime_cat\"] < 7, 7, inplace=True)"
   ]
  },
  {
   "cell_type": "code",
   "execution_count": 22,
   "metadata": {},
   "outputs": [
    {
     "data": {
      "image/png": "[encoded data removed]",
      "text/plain": [
       "<Figure size 1440x1080 with 4 Axes>"
      ]
     },
     "metadata": {},
     "output_type": "display_data"
    }
   ],
   "source": [
    "netflix_data.hist(bins=50, figsize=(20,15))\n",
    "# save_fig(\"melb_attribute_histogram_plots\")\n",
    "plt.show()"
   ]
  },
  {
   "cell_type": "code",
   "execution_count": 23,
   "metadata": {},
   "outputs": [
    {
     "data": {
      "text/plain": [
       "0    58\n",
       "1    81\n",
       "2    79\n",
       "3    94\n",
       "4    90\n",
       "Name: Runtime, dtype: int64"
      ]
     },
     "execution_count": 23,
     "metadata": {},
     "output_type": "execute_result"
    }
   ],
   "source": [
    "y = netflix_data[\"Runtime\"]\n",
    "y.head()"
   ]
  },
  {
   "cell_type": "code",
   "execution_count": 24,
   "metadata": {},
   "outputs": [
    {
     "data": {
      "text/html": [
       "<div>\n",
       "<style scoped>\n",
       "    .dataframe tbody tr th:only-of-type {\n",
       "        vertical-align: middle;\n",
       "    }\n",
       "\n",
       "    .dataframe tbody tr th {\n",
       "        vertical-align: top;\n",
       "    }\n",
       "\n",
       "    .dataframe thead th {\n",
       "        text-align: right;\n",
       "    }\n",
       "</style>\n",
       "<table border=\"1\" class=\"dataframe\">\n",
       "  <thead>\n",
       "    <tr style=\"text-align: right;\">\n",
       "      <th></th>\n",
       "      <th>IMDB Score</th>\n",
       "      <th>Runtime</th>\n",
       "    </tr>\n",
       "  </thead>\n",
       "  <tbody>\n",
       "    <tr>\n",
       "      <th>0</th>\n",
       "      <td>2.5</td>\n",
       "      <td>58</td>\n",
       "    </tr>\n",
       "    <tr>\n",
       "      <th>1</th>\n",
       "      <td>2.6</td>\n",
       "      <td>81</td>\n",
       "    </tr>\n",
       "    <tr>\n",
       "      <th>2</th>\n",
       "      <td>2.6</td>\n",
       "      <td>79</td>\n",
       "    </tr>\n",
       "    <tr>\n",
       "      <th>3</th>\n",
       "      <td>3.2</td>\n",
       "      <td>94</td>\n",
       "    </tr>\n",
       "    <tr>\n",
       "      <th>4</th>\n",
       "      <td>3.4</td>\n",
       "      <td>90</td>\n",
       "    </tr>\n",
       "  </tbody>\n",
       "</table>\n",
       "</div>"
      ],
      "text/plain": [
       "   IMDB Score  Runtime\n",
       "0         2.5       58\n",
       "1         2.6       81\n",
       "2         2.6       79\n",
       "3         3.2       94\n",
       "4         3.4       90"
      ]
     },
     "execution_count": 24,
     "metadata": {},
     "output_type": "execute_result"
    }
   ],
   "source": [
    "X = netflix_data.loc[:,['IMDB Score','Runtime']]\n",
    "X.head()"
   ]
  },
  {
   "cell_type": "code",
   "execution_count": 25,
   "metadata": {
    "collapsed": true
   },
   "outputs": [],
   "source": [
    "from sklearn.model_selection import StratifiedShuffleSplit\n",
    "\n",
    "split = StratifiedShuffleSplit(n_splits=1,test_size=0.10,random_state=42)\n",
    "\n",
    "# netflix_data.iloc[0:,1]\n",
    "for train_index, test_index in split.split(netflix_data, netflix_data[\"runtime_cat\"]):\n",
    "    strat_train_set = netflix_data.loc[train_index]\n",
    "    strat_test_set = netflix_data.loc[test_index]"
   ]
  },
  {
   "cell_type": "code",
   "execution_count": 26,
   "metadata": {},
   "outputs": [
    {
     "name": "stdout",
     "output_type": "stream",
     "text": [
      "StratifiedShuffleSplit(n_splits=1, random_state=42, test_size=0.1,\n",
      "            train_size=None)\n"
     ]
    }
   ],
   "source": [
    "print(split)"
   ]
  },
  {
   "cell_type": "code",
   "execution_count": 27,
   "metadata": {
    "scrolled": true
   },
   "outputs": [
    {
     "data": {
      "text/plain": [
       "sklearn.model_selection._split.StratifiedShuffleSplit"
      ]
     },
     "execution_count": 27,
     "metadata": {},
     "output_type": "execute_result"
    }
   ],
   "source": [
    "type(split)"
   ]
  },
  {
   "cell_type": "code",
   "execution_count": 28,
   "metadata": {},
   "outputs": [
    {
     "data": {
      "text/plain": [
       "5.0    0.423729\n",
       "6.0    0.288136\n",
       "7.0    0.118644\n",
       "4.0    0.067797\n",
       "2.0    0.050847\n",
       "3.0    0.033898\n",
       "1.0    0.016949\n",
       "Name: runtime_cat, dtype: float64"
      ]
     },
     "execution_count": 28,
     "metadata": {},
     "output_type": "execute_result"
    }
   ],
   "source": [
    "strat_test_set[\"runtime_cat\"].value_counts() / len(strat_test_set)"
   ]
  },
  {
   "cell_type": "code",
   "execution_count": 29,
   "metadata": {
    "scrolled": false
   },
   "outputs": [
    {
     "data": {
      "text/plain": [
       "<AxesSubplot:xlabel='IMDB Score', ylabel='Runtime'>"
      ]
     },
     "execution_count": 29,
     "metadata": {},
     "output_type": "execute_result"
    },
    {
     "data": {
      "image/png": "[encoded data removed]",
      "text/plain": [
       "<Figure size 432x288 with 1 Axes>"
      ]
     },
     "metadata": {},
     "output_type": "display_data"
    }
   ],
   "source": [
    "train_set.plot(kind=\"scatter\", x=\"IMDB Score\", y=\"Runtime\", alpha=0.4, s=train_set[\"Runtime\"]/10)"
   ]
  },
  {
   "cell_type": "code",
   "execution_count": 30,
   "metadata": {},
   "outputs": [
    {
     "data": {
      "text/plain": [
       "<AxesSubplot:xlabel='IMDB Score', ylabel='Runtime'>"
      ]
     },
     "execution_count": 30,
     "metadata": {},
     "output_type": "execute_result"
    },
    {
     "data": {
      "image/png": "[encoded data removed]",
      "text/plain": [
       "<Figure size 432x288 with 1 Axes>"
      ]
     },
     "metadata": {},
     "output_type": "display_data"
    }
   ],
   "source": [
    "test_set.plot(kind=\"scatter\", x=\"IMDB Score\", y=\"Runtime\", alpha=0.4, s=test_set[\"Runtime\"]/10)"
   ]
  },
  {
   "cell_type": "code",
   "execution_count": 31,
   "metadata": {
    "collapsed": true
   },
   "outputs": [],
   "source": [
    "def genre_proportions(data):\n",
    "    return data[\"Genre\"].value_counts() / len(data)\n",
    "\n",
    "def language_proportions(data):\n",
    "    return data[\"Language\"].value_counts() / len(data)\n",
    "\n",
    "train_set, test_set = train_test_split(netflix_data, test_size=0.2, random_state=42)\n",
    "\n",
    "# compare_props = pd.DataFrame({\n",
    "#     \"Overall\": genre_proportions(netflix_data),\n",
    "#     \"Stratified\": genre_proportions(strat_test_set),\n",
    "#     \"Random\": genre_proportions(test_set),\n",
    "# }).sort_index()\n",
    "\n",
    "compare_props = pd.DataFrame({\n",
    "    \"Overall\": language_proportions(netflix_data),\n",
    "    \"Stratified\": language_proportions(strat_test_set),\n",
    "    \"Random\": language_proportions(test_set),\n",
    "}).sort_index()\n",
    "\n",
    "compare_props[\"Rand. %error\"] = 100 * compare_props[\"Random\"] / compare_props[\"Overall\"] - 100\n",
    "compare_props[\"Strat. %error\"] = 100 * compare_props[\"Stratified\"] / compare_props[\"Overall\"] - 100"
   ]
  },
  {
   "cell_type": "code",
   "execution_count": 32,
   "metadata": {
    "scrolled": false
   },
   "outputs": [
    {
     "data": {
      "text/html": [
       "<div>\n",
       "<style scoped>\n",
       "    .dataframe tbody tr th:only-of-type {\n",
       "        vertical-align: middle;\n",
       "    }\n",
       "\n",
       "    .dataframe tbody tr th {\n",
       "        vertical-align: top;\n",
       "    }\n",
       "\n",
       "    .dataframe thead th {\n",
       "        text-align: right;\n",
       "    }\n",
       "</style>\n",
       "<table border=\"1\" class=\"dataframe\">\n",
       "  <thead>\n",
       "    <tr style=\"text-align: right;\">\n",
       "      <th></th>\n",
       "      <th>Overall</th>\n",
       "      <th>Stratified</th>\n",
       "      <th>Random</th>\n",
       "      <th>Rand. %error</th>\n",
       "      <th>Strat. %error</th>\n",
       "    </tr>\n",
       "  </thead>\n",
       "  <tbody>\n",
       "    <tr>\n",
       "      <th>English</th>\n",
       "      <td>0.686644</td>\n",
       "      <td>0.728814</td>\n",
       "      <td>0.675214</td>\n",
       "      <td>-1.664642</td>\n",
       "      <td>6.141426</td>\n",
       "    </tr>\n",
       "    <tr>\n",
       "      <th>Hindi</th>\n",
       "      <td>0.056507</td>\n",
       "      <td>0.050847</td>\n",
       "      <td>0.059829</td>\n",
       "      <td>5.879306</td>\n",
       "      <td>-10.015408</td>\n",
       "    </tr>\n",
       "    <tr>\n",
       "      <th>Spanish</th>\n",
       "      <td>0.053082</td>\n",
       "      <td>0.101695</td>\n",
       "      <td>0.051282</td>\n",
       "      <td>-3.391232</td>\n",
       "      <td>91.580098</td>\n",
       "    </tr>\n",
       "    <tr>\n",
       "      <th>French</th>\n",
       "      <td>0.034247</td>\n",
       "      <td>0.016949</td>\n",
       "      <td>0.017094</td>\n",
       "      <td>-50.085470</td>\n",
       "      <td>-50.508475</td>\n",
       "    </tr>\n",
       "    <tr>\n",
       "      <th>Italian</th>\n",
       "      <td>0.023973</td>\n",
       "      <td>0.016949</td>\n",
       "      <td>0.051282</td>\n",
       "      <td>113.919414</td>\n",
       "      <td>-29.297821</td>\n",
       "    </tr>\n",
       "    <tr>\n",
       "      <th>Portuguese</th>\n",
       "      <td>0.020548</td>\n",
       "      <td>NaN</td>\n",
       "      <td>0.025641</td>\n",
       "      <td>24.786325</td>\n",
       "      <td>NaN</td>\n",
       "    </tr>\n",
       "    <tr>\n",
       "      <th>Indonesian</th>\n",
       "      <td>0.015411</td>\n",
       "      <td>0.016949</td>\n",
       "      <td>0.025641</td>\n",
       "      <td>66.381766</td>\n",
       "      <td>9.981168</td>\n",
       "    </tr>\n",
       "    <tr>\n",
       "      <th>Korean</th>\n",
       "      <td>0.010274</td>\n",
       "      <td>NaN</td>\n",
       "      <td>0.008547</td>\n",
       "      <td>-16.809117</td>\n",
       "      <td>NaN</td>\n",
       "    </tr>\n",
       "    <tr>\n",
       "      <th>Japanese</th>\n",
       "      <td>0.010274</td>\n",
       "      <td>NaN</td>\n",
       "      <td>NaN</td>\n",
       "      <td>NaN</td>\n",
       "      <td>NaN</td>\n",
       "    </tr>\n",
       "    <tr>\n",
       "      <th>German</th>\n",
       "      <td>0.008562</td>\n",
       "      <td>0.016949</td>\n",
       "      <td>NaN</td>\n",
       "      <td>NaN</td>\n",
       "      <td>97.966102</td>\n",
       "    </tr>\n",
       "    <tr>\n",
       "      <th>Turkish</th>\n",
       "      <td>0.008562</td>\n",
       "      <td>NaN</td>\n",
       "      <td>0.034188</td>\n",
       "      <td>299.316239</td>\n",
       "      <td>NaN</td>\n",
       "    </tr>\n",
       "    <tr>\n",
       "      <th>English/Spanish</th>\n",
       "      <td>0.008562</td>\n",
       "      <td>0.016949</td>\n",
       "      <td>0.008547</td>\n",
       "      <td>-0.170940</td>\n",
       "      <td>97.966102</td>\n",
       "    </tr>\n",
       "    <tr>\n",
       "      <th>Dutch</th>\n",
       "      <td>0.005137</td>\n",
       "      <td>NaN</td>\n",
       "      <td>NaN</td>\n",
       "      <td>NaN</td>\n",
       "      <td>NaN</td>\n",
       "    </tr>\n",
       "    <tr>\n",
       "      <th>Marathi</th>\n",
       "      <td>0.005137</td>\n",
       "      <td>NaN</td>\n",
       "      <td>0.008547</td>\n",
       "      <td>66.381766</td>\n",
       "      <td>NaN</td>\n",
       "    </tr>\n",
       "    <tr>\n",
       "      <th>Polish</th>\n",
       "      <td>0.005137</td>\n",
       "      <td>NaN</td>\n",
       "      <td>NaN</td>\n",
       "      <td>NaN</td>\n",
       "      <td>NaN</td>\n",
       "    </tr>\n",
       "    <tr>\n",
       "      <th>Filipino</th>\n",
       "      <td>0.003425</td>\n",
       "      <td>NaN</td>\n",
       "      <td>0.008547</td>\n",
       "      <td>149.572650</td>\n",
       "      <td>NaN</td>\n",
       "    </tr>\n",
       "    <tr>\n",
       "      <th>Thai</th>\n",
       "      <td>0.003425</td>\n",
       "      <td>NaN</td>\n",
       "      <td>NaN</td>\n",
       "      <td>NaN</td>\n",
       "      <td>NaN</td>\n",
       "    </tr>\n",
       "    <tr>\n",
       "      <th>English/Mandarin</th>\n",
       "      <td>0.003425</td>\n",
       "      <td>NaN</td>\n",
       "      <td>NaN</td>\n",
       "      <td>NaN</td>\n",
       "      <td>NaN</td>\n",
       "    </tr>\n",
       "    <tr>\n",
       "      <th>English/Japanese</th>\n",
       "      <td>0.003425</td>\n",
       "      <td>NaN</td>\n",
       "      <td>NaN</td>\n",
       "      <td>NaN</td>\n",
       "      <td>NaN</td>\n",
       "    </tr>\n",
       "    <tr>\n",
       "      <th>English/Hindi</th>\n",
       "      <td>0.003425</td>\n",
       "      <td>NaN</td>\n",
       "      <td>0.008547</td>\n",
       "      <td>149.572650</td>\n",
       "      <td>NaN</td>\n",
       "    </tr>\n",
       "    <tr>\n",
       "      <th>Tamil</th>\n",
       "      <td>0.001712</td>\n",
       "      <td>NaN</td>\n",
       "      <td>NaN</td>\n",
       "      <td>NaN</td>\n",
       "      <td>NaN</td>\n",
       "    </tr>\n",
       "    <tr>\n",
       "      <th>English/Akan</th>\n",
       "      <td>0.001712</td>\n",
       "      <td>NaN</td>\n",
       "      <td>NaN</td>\n",
       "      <td>NaN</td>\n",
       "      <td>NaN</td>\n",
       "    </tr>\n",
       "    <tr>\n",
       "      <th>Swedish</th>\n",
       "      <td>0.001712</td>\n",
       "      <td>NaN</td>\n",
       "      <td>NaN</td>\n",
       "      <td>NaN</td>\n",
       "      <td>NaN</td>\n",
       "    </tr>\n",
       "    <tr>\n",
       "      <th>Spanish/English</th>\n",
       "      <td>0.001712</td>\n",
       "      <td>NaN</td>\n",
       "      <td>NaN</td>\n",
       "      <td>NaN</td>\n",
       "      <td>NaN</td>\n",
       "    </tr>\n",
       "    <tr>\n",
       "      <th>Spanish/Catalan</th>\n",
       "      <td>0.001712</td>\n",
       "      <td>NaN</td>\n",
       "      <td>NaN</td>\n",
       "      <td>NaN</td>\n",
       "      <td>NaN</td>\n",
       "    </tr>\n",
       "    <tr>\n",
       "      <th>Thia/English</th>\n",
       "      <td>0.001712</td>\n",
       "      <td>NaN</td>\n",
       "      <td>NaN</td>\n",
       "      <td>NaN</td>\n",
       "      <td>NaN</td>\n",
       "    </tr>\n",
       "    <tr>\n",
       "      <th>Spanish/Basque</th>\n",
       "      <td>0.001712</td>\n",
       "      <td>NaN</td>\n",
       "      <td>NaN</td>\n",
       "      <td>NaN</td>\n",
       "      <td>NaN</td>\n",
       "    </tr>\n",
       "    <tr>\n",
       "      <th>English/Swedish</th>\n",
       "      <td>0.001712</td>\n",
       "      <td>NaN</td>\n",
       "      <td>0.008547</td>\n",
       "      <td>399.145299</td>\n",
       "      <td>NaN</td>\n",
       "    </tr>\n",
       "    <tr>\n",
       "      <th>Malay</th>\n",
       "      <td>0.001712</td>\n",
       "      <td>NaN</td>\n",
       "      <td>NaN</td>\n",
       "      <td>NaN</td>\n",
       "      <td>NaN</td>\n",
       "    </tr>\n",
       "    <tr>\n",
       "      <th>English/Arabic</th>\n",
       "      <td>0.001712</td>\n",
       "      <td>NaN</td>\n",
       "      <td>NaN</td>\n",
       "      <td>NaN</td>\n",
       "      <td>NaN</td>\n",
       "    </tr>\n",
       "    <tr>\n",
       "      <th>Norwegian</th>\n",
       "      <td>0.001712</td>\n",
       "      <td>0.016949</td>\n",
       "      <td>NaN</td>\n",
       "      <td>NaN</td>\n",
       "      <td>889.830508</td>\n",
       "    </tr>\n",
       "    <tr>\n",
       "      <th>English/Taiwanese/Mandarin</th>\n",
       "      <td>0.001712</td>\n",
       "      <td>NaN</td>\n",
       "      <td>NaN</td>\n",
       "      <td>NaN</td>\n",
       "      <td>NaN</td>\n",
       "    </tr>\n",
       "    <tr>\n",
       "      <th>Khmer/English/French</th>\n",
       "      <td>0.001712</td>\n",
       "      <td>NaN</td>\n",
       "      <td>NaN</td>\n",
       "      <td>NaN</td>\n",
       "      <td>NaN</td>\n",
       "    </tr>\n",
       "    <tr>\n",
       "      <th>English/Korean</th>\n",
       "      <td>0.001712</td>\n",
       "      <td>NaN</td>\n",
       "      <td>NaN</td>\n",
       "      <td>NaN</td>\n",
       "      <td>NaN</td>\n",
       "    </tr>\n",
       "    <tr>\n",
       "      <th>English/Russian</th>\n",
       "      <td>0.001712</td>\n",
       "      <td>0.016949</td>\n",
       "      <td>NaN</td>\n",
       "      <td>NaN</td>\n",
       "      <td>889.830508</td>\n",
       "    </tr>\n",
       "    <tr>\n",
       "      <th>Georgian</th>\n",
       "      <td>0.001712</td>\n",
       "      <td>NaN</td>\n",
       "      <td>NaN</td>\n",
       "      <td>NaN</td>\n",
       "      <td>NaN</td>\n",
       "    </tr>\n",
       "    <tr>\n",
       "      <th>English/Ukranian/Russian</th>\n",
       "      <td>0.001712</td>\n",
       "      <td>NaN</td>\n",
       "      <td>0.008547</td>\n",
       "      <td>399.145299</td>\n",
       "      <td>NaN</td>\n",
       "    </tr>\n",
       "    <tr>\n",
       "      <th>Bengali</th>\n",
       "      <td>0.001712</td>\n",
       "      <td>NaN</td>\n",
       "      <td>NaN</td>\n",
       "      <td>NaN</td>\n",
       "      <td>NaN</td>\n",
       "    </tr>\n",
       "  </tbody>\n",
       "</table>\n",
       "</div>"
      ],
      "text/plain": [
       "                             Overall  Stratified    Random  Rand. %error  \\\n",
       "English                     0.686644    0.728814  0.675214     -1.664642   \n",
       "Hindi                       0.056507    0.050847  0.059829      5.879306   \n",
       "Spanish                     0.053082    0.101695  0.051282     -3.391232   \n",
       "French                      0.034247    0.016949  0.017094    -50.085470   \n",
       "Italian                     0.023973    0.016949  0.051282    113.919414   \n",
       "Portuguese                  0.020548         NaN  0.025641     24.786325   \n",
       "Indonesian                  0.015411    0.016949  0.025641     66.381766   \n",
       "Korean                      0.010274         NaN  0.008547    -16.809117   \n",
       "Japanese                    0.010274         NaN       NaN           NaN   \n",
       "German                      0.008562    0.016949       NaN           NaN   \n",
       "Turkish                     0.008562         NaN  0.034188    299.316239   \n",
       "English/Spanish             0.008562    0.016949  0.008547     -0.170940   \n",
       "Dutch                       0.005137         NaN       NaN           NaN   \n",
       "Marathi                     0.005137         NaN  0.008547     66.381766   \n",
       "Polish                      0.005137         NaN       NaN           NaN   \n",
       "Filipino                    0.003425         NaN  0.008547    149.572650   \n",
       "Thai                        0.003425         NaN       NaN           NaN   \n",
       "English/Mandarin            0.003425         NaN       NaN           NaN   \n",
       "English/Japanese            0.003425         NaN       NaN           NaN   \n",
       "English/Hindi               0.003425         NaN  0.008547    149.572650   \n",
       "Tamil                       0.001712         NaN       NaN           NaN   \n",
       "English/Akan                0.001712         NaN       NaN           NaN   \n",
       "Swedish                     0.001712         NaN       NaN           NaN   \n",
       "Spanish/English             0.001712         NaN       NaN           NaN   \n",
       "Spanish/Catalan             0.001712         NaN       NaN           NaN   \n",
       "Thia/English                0.001712         NaN       NaN           NaN   \n",
       "Spanish/Basque              0.001712         NaN       NaN           NaN   \n",
       "English/Swedish             0.001712         NaN  0.008547    399.145299   \n",
       "Malay                       0.001712         NaN       NaN           NaN   \n",
       "English/Arabic              0.001712         NaN       NaN           NaN   \n",
       "Norwegian                   0.001712    0.016949       NaN           NaN   \n",
       "English/Taiwanese/Mandarin  0.001712         NaN       NaN           NaN   \n",
       "Khmer/English/French        0.001712         NaN       NaN           NaN   \n",
       "English/Korean              0.001712         NaN       NaN           NaN   \n",
       "English/Russian             0.001712    0.016949       NaN           NaN   \n",
       "Georgian                    0.001712         NaN       NaN           NaN   \n",
       "English/Ukranian/Russian    0.001712         NaN  0.008547    399.145299   \n",
       "Bengali                     0.001712         NaN       NaN           NaN   \n",
       "\n",
       "                            Strat. %error  \n",
       "English                          6.141426  \n",
       "Hindi                          -10.015408  \n",
       "Spanish                         91.580098  \n",
       "French                         -50.508475  \n",
       "Italian                        -29.297821  \n",
       "Portuguese                            NaN  \n",
       "Indonesian                       9.981168  \n",
       "Korean                                NaN  \n",
       "Japanese                              NaN  \n",
       "German                          97.966102  \n",
       "Turkish                               NaN  \n",
       "English/Spanish                 97.966102  \n",
       "Dutch                                 NaN  \n",
       "Marathi                               NaN  \n",
       "Polish                                NaN  \n",
       "Filipino                              NaN  \n",
       "Thai                                  NaN  \n",
       "English/Mandarin                      NaN  \n",
       "English/Japanese                      NaN  \n",
       "English/Hindi                         NaN  \n",
       "Tamil                                 NaN  \n",
       "English/Akan                          NaN  \n",
       "Swedish                               NaN  \n",
       "Spanish/English                       NaN  \n",
       "Spanish/Catalan                       NaN  \n",
       "Thia/English                          NaN  \n",
       "Spanish/Basque                        NaN  \n",
       "English/Swedish                       NaN  \n",
       "Malay                                 NaN  \n",
       "English/Arabic                        NaN  \n",
       "Norwegian                      889.830508  \n",
       "English/Taiwanese/Mandarin            NaN  \n",
       "Khmer/English/French                  NaN  \n",
       "English/Korean                        NaN  \n",
       "English/Russian                889.830508  \n",
       "Georgian                              NaN  \n",
       "English/Ukranian/Russian              NaN  \n",
       "Bengali                               NaN  "
      ]
     },
     "execution_count": 32,
     "metadata": {},
     "output_type": "execute_result"
    }
   ],
   "source": [
    "compare_props.sort_values(by=\"Overall\", ascending=False)"
   ]
  },
  {
   "cell_type": "markdown",
   "metadata": {},
   "source": [
    "# Discover and visualize the data to gain insights"
   ]
  },
  {
   "cell_type": "code",
   "execution_count": 33,
   "metadata": {},
   "outputs": [
    {
     "data": {
      "text/html": [
       "<div>\n",
       "<style scoped>\n",
       "    .dataframe tbody tr th:only-of-type {\n",
       "        vertical-align: middle;\n",
       "    }\n",
       "\n",
       "    .dataframe tbody tr th {\n",
       "        vertical-align: top;\n",
       "    }\n",
       "\n",
       "    .dataframe thead th {\n",
       "        text-align: right;\n",
       "    }\n",
       "</style>\n",
       "<table border=\"1\" class=\"dataframe\">\n",
       "  <thead>\n",
       "    <tr style=\"text-align: right;\">\n",
       "      <th></th>\n",
       "      <th>Title</th>\n",
       "      <th>Genre</th>\n",
       "      <th>Premiere</th>\n",
       "      <th>Runtime</th>\n",
       "      <th>IMDB Score</th>\n",
       "      <th>Language</th>\n",
       "      <th>days_since_premiere</th>\n",
       "      <th>runtime_cat</th>\n",
       "    </tr>\n",
       "  </thead>\n",
       "  <tbody>\n",
       "    <tr>\n",
       "      <th>383</th>\n",
       "      <td>Paper Lives</td>\n",
       "      <td>Drama</td>\n",
       "      <td>3/12/21</td>\n",
       "      <td>97</td>\n",
       "      <td>6.7</td>\n",
       "      <td>Turkish</td>\n",
       "      <td>113.0</td>\n",
       "      <td>5.0</td>\n",
       "    </tr>\n",
       "    <tr>\n",
       "      <th>422</th>\n",
       "      <td>Outlaw King</td>\n",
       "      <td>Historical-epic</td>\n",
       "      <td>11/9/18</td>\n",
       "      <td>121</td>\n",
       "      <td>6.9</td>\n",
       "      <td>English</td>\n",
       "      <td>967.0</td>\n",
       "      <td>7.0</td>\n",
       "    </tr>\n",
       "    <tr>\n",
       "      <th>90</th>\n",
       "      <td>Things Heard &amp; Seen</td>\n",
       "      <td>Horror</td>\n",
       "      <td>4/29/21</td>\n",
       "      <td>121</td>\n",
       "      <td>5.3</td>\n",
       "      <td>English</td>\n",
       "      <td>65.0</td>\n",
       "      <td>7.0</td>\n",
       "    </tr>\n",
       "    <tr>\n",
       "      <th>472</th>\n",
       "      <td>ReMastered: Tricky Dick &amp; the Man in Black</td>\n",
       "      <td>Documentary</td>\n",
       "      <td>11/2/18</td>\n",
       "      <td>58</td>\n",
       "      <td>7.1</td>\n",
       "      <td>English</td>\n",
       "      <td>974.0</td>\n",
       "      <td>3.0</td>\n",
       "    </tr>\n",
       "    <tr>\n",
       "      <th>522</th>\n",
       "      <td>Long Shot</td>\n",
       "      <td>Documentary</td>\n",
       "      <td>9/29/17</td>\n",
       "      <td>40</td>\n",
       "      <td>7.4</td>\n",
       "      <td>English</td>\n",
       "      <td>1373.0</td>\n",
       "      <td>2.0</td>\n",
       "    </tr>\n",
       "  </tbody>\n",
       "</table>\n",
       "</div>"
      ],
      "text/plain": [
       "                                          Title            Genre Premiere  \\\n",
       "383                                 Paper Lives            Drama  3/12/21   \n",
       "422                                 Outlaw King  Historical-epic  11/9/18   \n",
       "90                          Things Heard & Seen           Horror  4/29/21   \n",
       "472  ReMastered: Tricky Dick & the Man in Black      Documentary  11/2/18   \n",
       "522                                   Long Shot      Documentary  9/29/17   \n",
       "\n",
       "     Runtime  IMDB Score Language  days_since_premiere  runtime_cat  \n",
       "383       97         6.7  Turkish                113.0          5.0  \n",
       "422      121         6.9  English                967.0          7.0  \n",
       "90       121         5.3  English                 65.0          7.0  \n",
       "472       58         7.1  English                974.0          3.0  \n",
       "522       40         7.4  English               1373.0          2.0  "
      ]
     },
     "execution_count": 33,
     "metadata": {},
     "output_type": "execute_result"
    }
   ],
   "source": [
    "netflix = test_set.copy()\n",
    "netflix.head()"
   ]
  },
  {
   "cell_type": "code",
   "execution_count": 34,
   "metadata": {},
   "outputs": [
    {
     "data": {
      "text/plain": [
       "<AxesSubplot:xlabel='Runtime', ylabel='IMDB Score'>"
      ]
     },
     "execution_count": 34,
     "metadata": {},
     "output_type": "execute_result"
    },
    {
     "data": {
      "image/png": "[encoded data removed]",
      "text/plain": [
       "<Figure size 432x288 with 1 Axes>"
      ]
     },
     "metadata": {},
     "output_type": "display_data"
    }
   ],
   "source": [
    "netflix.plot(kind=\"scatter\", x=\"Runtime\", y=\"IMDB Score\")"
   ]
  },
  {
   "cell_type": "code",
   "execution_count": 35,
   "metadata": {},
   "outputs": [
    {
     "data": {
      "text/plain": [
       "<AxesSubplot:xlabel='Runtime', ylabel='IMDB Score'>"
      ]
     },
     "execution_count": 35,
     "metadata": {},
     "output_type": "execute_result"
    },
    {
     "data": {
      "image/png": "[encoded data removed]",
      "text/plain": [
       "<Figure size 432x288 with 1 Axes>"
      ]
     },
     "metadata": {},
     "output_type": "display_data"
    }
   ],
   "source": [
    "netflix.plot(kind=\"scatter\", x=\"Runtime\", y=\"IMDB Score\", alpha=0.5)"
   ]
  },
  {
   "cell_type": "code",
   "execution_count": 36,
   "metadata": {},
   "outputs": [
    {
     "data": {
      "text/plain": [
       "<matplotlib.legend.Legend at 0x1a183cee80>"
      ]
     },
     "execution_count": 36,
     "metadata": {},
     "output_type": "execute_result"
    },
    {
     "data": {
      "image/png": "[encoded data removed]",
      "text/plain": [
       "<Figure size 720x504 with 2 Axes>"
      ]
     },
     "metadata": {},
     "output_type": "display_data"
    }
   ],
   "source": [
    "netflix.plot(kind=\"scatter\", x=\"Runtime\", y=\"IMDB Score\", alpha=0.5,\n",
    "    s=netflix[\"IMDB Score\"], label=\"IMDB Score\", figsize=(10,7),\n",
    "    c=\"IMDB Score\", cmap=plt.get_cmap(\"jet\"), colorbar=True,\n",
    "    sharex=False)\n",
    "plt.legend()"
   ]
  },
  {
   "cell_type": "code",
   "execution_count": 37,
   "metadata": {
    "collapsed": true
   },
   "outputs": [],
   "source": [
    "corr_matrix = netflix.corr()"
   ]
  },
  {
   "cell_type": "code",
   "execution_count": 38,
   "metadata": {},
   "outputs": [
    {
     "data": {
      "text/plain": [
       "IMDB Score             1.000000\n",
       "days_since_premiere    0.079922\n",
       "runtime_cat           -0.051355\n",
       "Runtime               -0.056810\n",
       "Name: IMDB Score, dtype: float64"
      ]
     },
     "execution_count": 38,
     "metadata": {},
     "output_type": "execute_result"
    }
   ],
   "source": [
    "corr_matrix[\"IMDB Score\"].sort_values(ascending=False)"
   ]
  },
  {
   "cell_type": "code",
   "execution_count": 39,
   "metadata": {},
   "outputs": [
    {
     "data": {
      "text/plain": [
       "array([[<AxesSubplot:xlabel='IMDB Score', ylabel='IMDB Score'>,\n",
       "        <AxesSubplot:xlabel='runtime_cat', ylabel='IMDB Score'>,\n",
       "        <AxesSubplot:xlabel='Runtime', ylabel='IMDB Score'>,\n",
       "        <AxesSubplot:xlabel='days_since_premiere', ylabel='IMDB Score'>],\n",
       "       [<AxesSubplot:xlabel='IMDB Score', ylabel='runtime_cat'>,\n",
       "        <AxesSubplot:xlabel='runtime_cat', ylabel='runtime_cat'>,\n",
       "        <AxesSubplot:xlabel='Runtime', ylabel='runtime_cat'>,\n",
       "        <AxesSubplot:xlabel='days_since_premiere', ylabel='runtime_cat'>],\n",
       "       [<AxesSubplot:xlabel='IMDB Score', ylabel='Runtime'>,\n",
       "        <AxesSubplot:xlabel='runtime_cat', ylabel='Runtime'>,\n",
       "        <AxesSubplot:xlabel='Runtime', ylabel='Runtime'>,\n",
       "        <AxesSubplot:xlabel='days_since_premiere', ylabel='Runtime'>],\n",
       "       [<AxesSubplot:xlabel='IMDB Score', ylabel='days_since_premiere'>,\n",
       "        <AxesSubplot:xlabel='runtime_cat', ylabel='days_since_premiere'>,\n",
       "        <AxesSubplot:xlabel='Runtime', ylabel='days_since_premiere'>,\n",
       "        <AxesSubplot:xlabel='days_since_premiere', ylabel='days_since_premiere'>]],\n",
       "      dtype=object)"
      ]
     },
     "execution_count": 39,
     "metadata": {},
     "output_type": "execute_result"
    },
    {
     "data": {
      "image/png": "[encoded data removed]",
      "text/plain": [
       "<Figure size 864x576 with 16 Axes>"
      ]
     },
     "metadata": {},
     "output_type": "display_data"
    }
   ],
   "source": [
    "# from pandas.tools.plotting import scatter_matrix # For older versions of Pandas\n",
    "from pandas.plotting import scatter_matrix\n",
    "\n",
    "attributes = [\"IMDB Score\", \"runtime_cat\", \"Runtime\",\"days_since_premiere\"]\n",
    "scatter_matrix(netflix[attributes], figsize=(12, 8))\n",
    "# save_fig(\"scatter_matrix_plot\")"
   ]
  },
  {
   "cell_type": "code",
   "execution_count": 41,
   "metadata": {},
   "outputs": [
    {
     "data": {
      "text/plain": [
       "(0.0, 3000.0, 0.0, 200.0)"
      ]
     },
     "execution_count": 41,
     "metadata": {},
     "output_type": "execute_result"
    },
    {
     "data": {
      "image/png": "[encoded data removed]",
      "text/plain": [
       "<Figure size 432x288 with 1 Axes>"
      ]
     },
     "metadata": {},
     "output_type": "display_data"
    }
   ],
   "source": [
    "netflix.plot(kind=\"scatter\", x=\"days_since_premiere\", y=\"Runtime\",\n",
    "             alpha=0.1)\n",
    "plt.axis([0, 3000, 0, 200])"
   ]
  },
  {
   "cell_type": "markdown",
   "metadata": {},
   "source": [
    "# Prepare the data for Machine Learning Algorithms"
   ]
  },
  {
   "cell_type": "code",
   "execution_count": 42,
   "metadata": {
    "collapsed": true
   },
   "outputs": [],
   "source": [
    "netflix = strat_train_set.drop(\"Runtime\", axis=1) # drop labels for training set\n",
    "netflix_labels = strat_train_set[\"Runtime\"].copy()"
   ]
  },
  {
   "cell_type": "code",
   "execution_count": 43,
   "metadata": {},
   "outputs": [
    {
     "data": {
      "text/html": [
       "<div>\n",
       "<style scoped>\n",
       "    .dataframe tbody tr th:only-of-type {\n",
       "        vertical-align: middle;\n",
       "    }\n",
       "\n",
       "    .dataframe tbody tr th {\n",
       "        vertical-align: top;\n",
       "    }\n",
       "\n",
       "    .dataframe thead th {\n",
       "        text-align: right;\n",
       "    }\n",
       "</style>\n",
       "<table border=\"1\" class=\"dataframe\">\n",
       "  <thead>\n",
       "    <tr style=\"text-align: right;\">\n",
       "      <th></th>\n",
       "      <th>Title</th>\n",
       "      <th>Genre</th>\n",
       "      <th>Premiere</th>\n",
       "      <th>IMDB Score</th>\n",
       "      <th>Language</th>\n",
       "      <th>days_since_premiere</th>\n",
       "      <th>runtime_cat</th>\n",
       "    </tr>\n",
       "  </thead>\n",
       "  <tbody>\n",
       "  </tbody>\n",
       "</table>\n",
       "</div>"
      ],
      "text/plain": [
       "Empty DataFrame\n",
       "Columns: [Title, Genre, Premiere, IMDB Score, Language, days_since_premiere, runtime_cat]\n",
       "Index: []"
      ]
     },
     "execution_count": 43,
     "metadata": {},
     "output_type": "execute_result"
    }
   ],
   "source": [
    "sample_incomplete_rows = netflix[netflix.isnull().any(axis=1)].head()\n",
    "sample_incomplete_rows"
   ]
  },
  {
   "cell_type": "code",
   "execution_count": 44,
   "metadata": {},
   "outputs": [
    {
     "data": {
      "text/html": [
       "<div>\n",
       "<style scoped>\n",
       "    .dataframe tbody tr th:only-of-type {\n",
       "        vertical-align: middle;\n",
       "    }\n",
       "\n",
       "    .dataframe tbody tr th {\n",
       "        vertical-align: top;\n",
       "    }\n",
       "\n",
       "    .dataframe thead th {\n",
       "        text-align: right;\n",
       "    }\n",
       "</style>\n",
       "<table border=\"1\" class=\"dataframe\">\n",
       "  <thead>\n",
       "    <tr style=\"text-align: right;\">\n",
       "      <th></th>\n",
       "      <th>Title</th>\n",
       "      <th>Genre</th>\n",
       "      <th>Premiere</th>\n",
       "      <th>IMDB Score</th>\n",
       "      <th>Language</th>\n",
       "      <th>days_since_premiere</th>\n",
       "      <th>runtime_cat</th>\n",
       "    </tr>\n",
       "  </thead>\n",
       "  <tbody>\n",
       "  </tbody>\n",
       "</table>\n",
       "</div>"
      ],
      "text/plain": [
       "Empty DataFrame\n",
       "Columns: [Title, Genre, Premiere, IMDB Score, Language, days_since_premiere, runtime_cat]\n",
       "Index: []"
      ]
     },
     "execution_count": 44,
     "metadata": {},
     "output_type": "execute_result"
    }
   ],
   "source": [
    "median = netflix[\"IMDB Score\"].median()\n",
    "sample_incomplete_rows[\"IMDB Score\"].fillna(median, inplace=True) # option 3\n",
    "sample_incomplete_rows"
   ]
  },
  {
   "cell_type": "code",
   "execution_count": 48,
   "metadata": {},
   "outputs": [],
   "source": [
    "from sklearn.impute import SimpleImputer\n",
    "\n",
    "imputer = SimpleImputer(strategy=\"median\")"
   ]
  },
  {
   "cell_type": "markdown",
   "metadata": {},
   "source": [
    "Remove the text attribute because median can only be calculated on numerical attributes:"
   ]
  },
  {
   "cell_type": "code",
   "execution_count": 49,
   "metadata": {},
   "outputs": [
    {
     "data": {
      "text/html": [
       "<div>\n",
       "<style scoped>\n",
       "    .dataframe tbody tr th:only-of-type {\n",
       "        vertical-align: middle;\n",
       "    }\n",
       "\n",
       "    .dataframe tbody tr th {\n",
       "        vertical-align: top;\n",
       "    }\n",
       "\n",
       "    .dataframe thead th {\n",
       "        text-align: right;\n",
       "    }\n",
       "</style>\n",
       "<table border=\"1\" class=\"dataframe\">\n",
       "  <thead>\n",
       "    <tr style=\"text-align: right;\">\n",
       "      <th></th>\n",
       "      <th>IMDB Score</th>\n",
       "      <th>days_since_premiere</th>\n",
       "      <th>runtime_cat</th>\n",
       "    </tr>\n",
       "  </thead>\n",
       "  <tbody>\n",
       "    <tr>\n",
       "      <th>322</th>\n",
       "      <td>6.5</td>\n",
       "      <td>309.0</td>\n",
       "      <td>5.0</td>\n",
       "    </tr>\n",
       "    <tr>\n",
       "      <th>245</th>\n",
       "      <td>6.2</td>\n",
       "      <td>38.0</td>\n",
       "      <td>5.0</td>\n",
       "    </tr>\n",
       "    <tr>\n",
       "      <th>404</th>\n",
       "      <td>6.8</td>\n",
       "      <td>1320.0</td>\n",
       "      <td>4.0</td>\n",
       "    </tr>\n",
       "    <tr>\n",
       "      <th>91</th>\n",
       "      <td>5.3</td>\n",
       "      <td>1105.0</td>\n",
       "      <td>5.0</td>\n",
       "    </tr>\n",
       "    <tr>\n",
       "      <th>286</th>\n",
       "      <td>6.3</td>\n",
       "      <td>827.0</td>\n",
       "      <td>5.0</td>\n",
       "    </tr>\n",
       "  </tbody>\n",
       "</table>\n",
       "</div>"
      ],
      "text/plain": [
       "     IMDB Score  days_since_premiere  runtime_cat\n",
       "322         6.5                309.0          5.0\n",
       "245         6.2                 38.0          5.0\n",
       "404         6.8               1320.0          4.0\n",
       "91          5.3               1105.0          5.0\n",
       "286         6.3                827.0          5.0"
      ]
     },
     "execution_count": 49,
     "metadata": {},
     "output_type": "execute_result"
    }
   ],
   "source": [
    "# housing_num = housing.drop('ocean_proximity', axis=1)\n",
    "netflix_num = netflix.select_dtypes(include=[np.number])\n",
    "netflix_num.head()"
   ]
  },
  {
   "cell_type": "code",
   "execution_count": 50,
   "metadata": {},
   "outputs": [
    {
     "data": {
      "text/plain": [
       "SimpleImputer(strategy='median')"
      ]
     },
     "execution_count": 50,
     "metadata": {},
     "output_type": "execute_result"
    }
   ],
   "source": [
    "imputer.fit(netflix_num)"
   ]
  },
  {
   "cell_type": "code",
   "execution_count": 51,
   "metadata": {},
   "outputs": [
    {
     "data": {
      "text/plain": [
       "array([  6.3, 619. ,   5. ])"
      ]
     },
     "execution_count": 51,
     "metadata": {},
     "output_type": "execute_result"
    }
   ],
   "source": [
    "imputer.statistics_"
   ]
  },
  {
   "cell_type": "code",
   "execution_count": 52,
   "metadata": {},
   "outputs": [
    {
     "data": {
      "text/plain": [
       "array([  6.3, 619. ,   5. ])"
      ]
     },
     "execution_count": 52,
     "metadata": {},
     "output_type": "execute_result"
    }
   ],
   "source": [
    "netflix_num.median().values"
   ]
  },
  {
   "cell_type": "code",
   "execution_count": 53,
   "metadata": {
    "collapsed": true
   },
   "outputs": [],
   "source": [
    "X = imputer.transform(netflix_num)"
   ]
  },
  {
   "cell_type": "code",
   "execution_count": 54,
   "metadata": {
    "collapsed": true
   },
   "outputs": [],
   "source": [
    "netflix_tr = pd.DataFrame(X, columns=netflix_num.columns,\n",
    "                          index = list(netflix.index.values))"
   ]
  },
  {
   "cell_type": "code",
   "execution_count": 55,
   "metadata": {
    "scrolled": true
   },
   "outputs": [
    {
     "data": {
      "text/html": [
       "<div>\n",
       "<style scoped>\n",
       "    .dataframe tbody tr th:only-of-type {\n",
       "        vertical-align: middle;\n",
       "    }\n",
       "\n",
       "    .dataframe tbody tr th {\n",
       "        vertical-align: top;\n",
       "    }\n",
       "\n",
       "    .dataframe thead th {\n",
       "        text-align: right;\n",
       "    }\n",
       "</style>\n",
       "<table border=\"1\" class=\"dataframe\">\n",
       "  <thead>\n",
       "    <tr style=\"text-align: right;\">\n",
       "      <th></th>\n",
       "      <th>IMDB Score</th>\n",
       "      <th>days_since_premiere</th>\n",
       "      <th>runtime_cat</th>\n",
       "    </tr>\n",
       "  </thead>\n",
       "  <tbody>\n",
       "  </tbody>\n",
       "</table>\n",
       "</div>"
      ],
      "text/plain": [
       "Empty DataFrame\n",
       "Columns: [IMDB Score, days_since_premiere, runtime_cat]\n",
       "Index: []"
      ]
     },
     "execution_count": 55,
     "metadata": {},
     "output_type": "execute_result"
    }
   ],
   "source": [
    "netflix_tr.loc[sample_incomplete_rows.index.values]"
   ]
  },
  {
   "cell_type": "code",
   "execution_count": 56,
   "metadata": {},
   "outputs": [
    {
     "data": {
      "text/plain": [
       "'median'"
      ]
     },
     "execution_count": 56,
     "metadata": {},
     "output_type": "execute_result"
    }
   ],
   "source": [
    "imputer.strategy"
   ]
  },
  {
   "cell_type": "code",
   "execution_count": 57,
   "metadata": {},
   "outputs": [
    {
     "data": {
      "text/html": [
       "<div>\n",
       "<style scoped>\n",
       "    .dataframe tbody tr th:only-of-type {\n",
       "        vertical-align: middle;\n",
       "    }\n",
       "\n",
       "    .dataframe tbody tr th {\n",
       "        vertical-align: top;\n",
       "    }\n",
       "\n",
       "    .dataframe thead th {\n",
       "        text-align: right;\n",
       "    }\n",
       "</style>\n",
       "<table border=\"1\" class=\"dataframe\">\n",
       "  <thead>\n",
       "    <tr style=\"text-align: right;\">\n",
       "      <th></th>\n",
       "      <th>IMDB Score</th>\n",
       "      <th>days_since_premiere</th>\n",
       "      <th>runtime_cat</th>\n",
       "    </tr>\n",
       "  </thead>\n",
       "  <tbody>\n",
       "    <tr>\n",
       "      <th>0</th>\n",
       "      <td>6.5</td>\n",
       "      <td>309.0</td>\n",
       "      <td>5.0</td>\n",
       "    </tr>\n",
       "    <tr>\n",
       "      <th>1</th>\n",
       "      <td>6.2</td>\n",
       "      <td>38.0</td>\n",
       "      <td>5.0</td>\n",
       "    </tr>\n",
       "    <tr>\n",
       "      <th>2</th>\n",
       "      <td>6.8</td>\n",
       "      <td>1320.0</td>\n",
       "      <td>4.0</td>\n",
       "    </tr>\n",
       "    <tr>\n",
       "      <th>3</th>\n",
       "      <td>5.3</td>\n",
       "      <td>1105.0</td>\n",
       "      <td>5.0</td>\n",
       "    </tr>\n",
       "    <tr>\n",
       "      <th>4</th>\n",
       "      <td>6.3</td>\n",
       "      <td>827.0</td>\n",
       "      <td>5.0</td>\n",
       "    </tr>\n",
       "  </tbody>\n",
       "</table>\n",
       "</div>"
      ],
      "text/plain": [
       "   IMDB Score  days_since_premiere  runtime_cat\n",
       "0         6.5                309.0          5.0\n",
       "1         6.2                 38.0          5.0\n",
       "2         6.8               1320.0          4.0\n",
       "3         5.3               1105.0          5.0\n",
       "4         6.3                827.0          5.0"
      ]
     },
     "execution_count": 57,
     "metadata": {},
     "output_type": "execute_result"
    }
   ],
   "source": [
    "netflix_tr = pd.DataFrame(X, columns=netflix_num.columns)\n",
    "netflix_tr.head()"
   ]
  },
  {
   "cell_type": "markdown",
   "metadata": {},
   "source": [
    "Now let's preprocess the categorical input feature, ocean_proximity:"
   ]
  },
  {
   "cell_type": "code",
   "execution_count": 58,
   "metadata": {},
   "outputs": [
    {
     "data": {
      "text/plain": [
       "322              Drama\n",
       "245             Biopic\n",
       "404        Documentary\n",
       "91     Romantic comedy\n",
       "286        Documentary\n",
       "Name: Genre, dtype: object"
      ]
     },
     "execution_count": 58,
     "metadata": {},
     "output_type": "execute_result"
    }
   ],
   "source": [
    "# housing_cat = housing[['Suburb','Type','Method','SellerG','CouncilArea','Regionname']]\n",
    "netflix_cat = netflix['Genre']\n",
    "netflix_cat.head()"
   ]
  },
  {
   "cell_type": "code",
   "execution_count": 76,
   "metadata": {},
   "outputs": [],
   "source": [
    "from sklearn.preprocessing import OrdinalEncoder"
   ]
  },
  {
   "cell_type": "code",
   "execution_count": 77,
   "metadata": {
    "scrolled": true
   },
   "outputs": [
    {
     "data": {
      "text/plain": [
       "count             525\n",
       "unique            109\n",
       "top       Documentary\n",
       "freq              141\n",
       "Name: Genre, dtype: object"
      ]
     },
     "execution_count": 77,
     "metadata": {},
     "output_type": "execute_result"
    }
   ],
   "source": [
    "netflix_cat.describe()"
   ]
  },
  {
   "cell_type": "code",
   "execution_count": 78,
   "metadata": {},
   "outputs": [
    {
     "data": {
      "text/plain": [
       "(525,)"
      ]
     },
     "execution_count": 78,
     "metadata": {},
     "output_type": "execute_result"
    }
   ],
   "source": [
    "netflix_cat.shape"
   ]
  },
  {
   "cell_type": "code",
   "execution_count": 84,
   "metadata": {},
   "outputs": [
    {
     "data": {
      "text/plain": [
       "array([[43.],\n",
       "       [25.],\n",
       "       [42.],\n",
       "       [78.],\n",
       "       [42.],\n",
       "       [30.],\n",
       "       [78.],\n",
       "       [30.],\n",
       "       [57.],\n",
       "       [42.]])"
      ]
     },
     "execution_count": 84,
     "metadata": {},
     "output_type": "execute_result"
    }
   ],
   "source": [
    "ordinal_encoder = OrdinalEncoder()\n",
    "netflix_cat_encoded = ordinal_encoder.fit_transform(netflix_cat.values.reshape(-1,1))\n",
    "netflix_cat_encoded[:10]"
   ]
  },
  {
   "cell_type": "code",
   "execution_count": 85,
   "metadata": {},
   "outputs": [
    {
     "data": {
      "text/plain": [
       "[array(['Action', 'Action comedy', 'Action thriller', 'Action-adventure',\n",
       "        'Action-thriller', 'Action/Comedy', 'Action/Science fiction',\n",
       "        'Adventure', 'Adventure-romance', 'Adventure/Comedy',\n",
       "        'Aftershow / Interview', 'Animated musical comedy', 'Animation',\n",
       "        'Animation / Comedy', 'Animation / Musicial',\n",
       "        'Animation / Science Fiction', 'Animation / Short',\n",
       "        'Animation/Christmas/Comedy/Adventure',\n",
       "        'Animation/Comedy/Adventure', 'Animation/Musical/Adventure',\n",
       "        'Animation/Superhero', 'Anime / Short', 'Anime/Fantasy',\n",
       "        'Anime/Science fiction', 'Biographical/Comedy', 'Biopic',\n",
       "        'Black comedy', 'Christian musical', 'Christmas comedy',\n",
       "        'Christmas/Fantasy/Adventure/Comedy', 'Comedy', 'Comedy / Musical',\n",
       "        'Comedy horror', 'Comedy mystery', 'Comedy-drama',\n",
       "        'Comedy/Fantasy/Family', 'Comedy/Horror', 'Concert Film',\n",
       "        'Crime drama', 'Crime thriller', 'Dance comedy', 'Dark comedy',\n",
       "        'Documentary', 'Drama', 'Drama / Short', 'Drama-Comedy',\n",
       "        'Drama/Horror', 'Family', 'Family film',\n",
       "        'Family/Christmas musical', 'Family/Comedy-drama', 'Fantasy',\n",
       "        'Heist', 'Heist film/Thriller', 'Hidden-camera prank comedy',\n",
       "        'Historical drama', 'Historical-epic', 'Horror',\n",
       "        'Horror anthology', 'Horror comedy', 'Horror thriller',\n",
       "        'Horror-thriller', 'Horror/Crime drama', 'Making-of',\n",
       "        'Mentalism special', 'Mockumentary', 'Musical', 'Musical / Short',\n",
       "        'Musical comedy', 'Musical/Western/Fantasy', 'Mystery',\n",
       "        'One-man show', 'Political thriller', 'Psychological horror',\n",
       "        'Psychological thriller', 'Psychological thriller drama',\n",
       "        'Romance', 'Romance drama', 'Romantic comedy',\n",
       "        'Romantic comedy-drama', 'Romantic comedy/Holiday',\n",
       "        'Romantic drama', 'Romantic teen drama', 'Romantic teenage drama',\n",
       "        'Romantic thriller', 'Satire', 'Science fiction',\n",
       "        'Science fiction thriller', 'Science fiction/Action',\n",
       "        'Science fiction/Drama', 'Science fiction/Thriller', 'Sports film',\n",
       "        'Sports-drama', 'Spy thriller', 'Stop Motion', 'Superhero',\n",
       "        'Superhero-Comedy', 'Superhero/Action', 'Teen comedy horror',\n",
       "        'Teen comedy-drama', 'Thriller', 'Urban fantasy', 'Variety Show',\n",
       "        'Variety show', 'War', 'War drama', 'War-Comedy', 'Western',\n",
       "        'Zombie/Heist'], dtype=object)]"
      ]
     },
     "execution_count": 85,
     "metadata": {},
     "output_type": "execute_result"
    }
   ],
   "source": [
    "ordinal_encoder.categories_"
   ]
  },
  {
   "cell_type": "code",
   "execution_count": 99,
   "metadata": {},
   "outputs": [
    {
     "data": {
      "text/plain": [
       "<1x525 sparse matrix of type '<class 'numpy.float64'>'\n",
       "\twith 525 stored elements in Compressed Sparse Row format>"
      ]
     },
     "execution_count": 99,
     "metadata": {},
     "output_type": "execute_result"
    }
   ],
   "source": [
    "from sklearn.preprocessing import OneHotEncoder\n",
    "\n",
    "cat_encoder = OneHotEncoder()\n",
    "netflix_cat_1hot = cat_encoder.fit_transform(netflix_cat.values.reshape(1,-1))\n",
    "netflix_cat_1hot"
   ]
  },
  {
   "cell_type": "markdown",
   "metadata": {},
   "source": [
    "By default, the OneHotEncoder class returns a sparse array, but we can convert it to a dense array if needed by calling the toarray() method:"
   ]
  },
  {
   "cell_type": "code",
   "execution_count": 100,
   "metadata": {},
   "outputs": [
    {
     "data": {
      "text/plain": [
       "array([[1., 1., 1., 1., 1., 1., 1., 1., 1., 1., 1., 1., 1., 1., 1., 1.,\n",
       "        1., 1., 1., 1., 1., 1., 1., 1., 1., 1., 1., 1., 1., 1., 1., 1.,\n",
       "        1., 1., 1., 1., 1., 1., 1., 1., 1., 1., 1., 1., 1., 1., 1., 1.,\n",
       "        1., 1., 1., 1., 1., 1., 1., 1., 1., 1., 1., 1., 1., 1., 1., 1.,\n",
       "        1., 1., 1., 1., 1., 1., 1., 1., 1., 1., 1., 1., 1., 1., 1., 1.,\n",
       "        1., 1., 1., 1., 1., 1., 1., 1., 1., 1., 1., 1., 1., 1., 1., 1.,\n",
       "        1., 1., 1., 1., 1., 1., 1., 1., 1., 1., 1., 1., 1., 1., 1., 1.,\n",
       "        1., 1., 1., 1., 1., 1., 1., 1., 1., 1., 1., 1., 1., 1., 1., 1.,\n",
       "        1., 1., 1., 1., 1., 1., 1., 1., 1., 1., 1., 1., 1., 1., 1., 1.,\n",
       "        1., 1., 1., 1., 1., 1., 1., 1., 1., 1., 1., 1., 1., 1., 1., 1.,\n",
       "        1., 1., 1., 1., 1., 1., 1., 1., 1., 1., 1., 1., 1., 1., 1., 1.,\n",
       "        1., 1., 1., 1., 1., 1., 1., 1., 1., 1., 1., 1., 1., 1., 1., 1.,\n",
       "        1., 1., 1., 1., 1., 1., 1., 1., 1., 1., 1., 1., 1., 1., 1., 1.,\n",
       "        1., 1., 1., 1., 1., 1., 1., 1., 1., 1., 1., 1., 1., 1., 1., 1.,\n",
       "        1., 1., 1., 1., 1., 1., 1., 1., 1., 1., 1., 1., 1., 1., 1., 1.,\n",
       "        1., 1., 1., 1., 1., 1., 1., 1., 1., 1., 1., 1., 1., 1., 1., 1.,\n",
       "        1., 1., 1., 1., 1., 1., 1., 1., 1., 1., 1., 1., 1., 1., 1., 1.,\n",
       "        1., 1., 1., 1., 1., 1., 1., 1., 1., 1., 1., 1., 1., 1., 1., 1.,\n",
       "        1., 1., 1., 1., 1., 1., 1., 1., 1., 1., 1., 1., 1., 1., 1., 1.,\n",
       "        1., 1., 1., 1., 1., 1., 1., 1., 1., 1., 1., 1., 1., 1., 1., 1.,\n",
       "        1., 1., 1., 1., 1., 1., 1., 1., 1., 1., 1., 1., 1., 1., 1., 1.,\n",
       "        1., 1., 1., 1., 1., 1., 1., 1., 1., 1., 1., 1., 1., 1., 1., 1.,\n",
       "        1., 1., 1., 1., 1., 1., 1., 1., 1., 1., 1., 1., 1., 1., 1., 1.,\n",
       "        1., 1., 1., 1., 1., 1., 1., 1., 1., 1., 1., 1., 1., 1., 1., 1.,\n",
       "        1., 1., 1., 1., 1., 1., 1., 1., 1., 1., 1., 1., 1., 1., 1., 1.,\n",
       "        1., 1., 1., 1., 1., 1., 1., 1., 1., 1., 1., 1., 1., 1., 1., 1.,\n",
       "        1., 1., 1., 1., 1., 1., 1., 1., 1., 1., 1., 1., 1., 1., 1., 1.,\n",
       "        1., 1., 1., 1., 1., 1., 1., 1., 1., 1., 1., 1., 1., 1., 1., 1.,\n",
       "        1., 1., 1., 1., 1., 1., 1., 1., 1., 1., 1., 1., 1., 1., 1., 1.,\n",
       "        1., 1., 1., 1., 1., 1., 1., 1., 1., 1., 1., 1., 1., 1., 1., 1.,\n",
       "        1., 1., 1., 1., 1., 1., 1., 1., 1., 1., 1., 1., 1., 1., 1., 1.,\n",
       "        1., 1., 1., 1., 1., 1., 1., 1., 1., 1., 1., 1., 1., 1., 1., 1.,\n",
       "        1., 1., 1., 1., 1., 1., 1., 1., 1., 1., 1., 1., 1.]])"
      ]
     },
     "execution_count": 100,
     "metadata": {},
     "output_type": "execute_result"
    }
   ],
   "source": [
    "netflix_cat_1hot.toarray()"
   ]
  },
  {
   "cell_type": "markdown",
   "metadata": {},
   "source": [
    "Alternatively, you can set `sparse=False` when creating the `OneHotEncoder`:"
   ]
  },
  {
   "cell_type": "code",
   "execution_count": 102,
   "metadata": {},
   "outputs": [
    {
     "data": {
      "text/plain": [
       "array([[1., 1., 1., 1., 1., 1., 1., 1., 1., 1., 1., 1., 1., 1., 1., 1.,\n",
       "        1., 1., 1., 1., 1., 1., 1., 1., 1., 1., 1., 1., 1., 1., 1., 1.,\n",
       "        1., 1., 1., 1., 1., 1., 1., 1., 1., 1., 1., 1., 1., 1., 1., 1.,\n",
       "        1., 1., 1., 1., 1., 1., 1., 1., 1., 1., 1., 1., 1., 1., 1., 1.,\n",
       "        1., 1., 1., 1., 1., 1., 1., 1., 1., 1., 1., 1., 1., 1., 1., 1.,\n",
       "        1., 1., 1., 1., 1., 1., 1., 1., 1., 1., 1., 1., 1., 1., 1., 1.,\n",
       "        1., 1., 1., 1., 1., 1., 1., 1., 1., 1., 1., 1., 1., 1., 1., 1.,\n",
       "        1., 1., 1., 1., 1., 1., 1., 1., 1., 1., 1., 1., 1., 1., 1., 1.,\n",
       "        1., 1., 1., 1., 1., 1., 1., 1., 1., 1., 1., 1., 1., 1., 1., 1.,\n",
       "        1., 1., 1., 1., 1., 1., 1., 1., 1., 1., 1., 1., 1., 1., 1., 1.,\n",
       "        1., 1., 1., 1., 1., 1., 1., 1., 1., 1., 1., 1., 1., 1., 1., 1.,\n",
       "        1., 1., 1., 1., 1., 1., 1., 1., 1., 1., 1., 1., 1., 1., 1., 1.,\n",
       "        1., 1., 1., 1., 1., 1., 1., 1., 1., 1., 1., 1., 1., 1., 1., 1.,\n",
       "        1., 1., 1., 1., 1., 1., 1., 1., 1., 1., 1., 1., 1., 1., 1., 1.,\n",
       "        1., 1., 1., 1., 1., 1., 1., 1., 1., 1., 1., 1., 1., 1., 1., 1.,\n",
       "        1., 1., 1., 1., 1., 1., 1., 1., 1., 1., 1., 1., 1., 1., 1., 1.,\n",
       "        1., 1., 1., 1., 1., 1., 1., 1., 1., 1., 1., 1., 1., 1., 1., 1.,\n",
       "        1., 1., 1., 1., 1., 1., 1., 1., 1., 1., 1., 1., 1., 1., 1., 1.,\n",
       "        1., 1., 1., 1., 1., 1., 1., 1., 1., 1., 1., 1., 1., 1., 1., 1.,\n",
       "        1., 1., 1., 1., 1., 1., 1., 1., 1., 1., 1., 1., 1., 1., 1., 1.,\n",
       "        1., 1., 1., 1., 1., 1., 1., 1., 1., 1., 1., 1., 1., 1., 1., 1.,\n",
       "        1., 1., 1., 1., 1., 1., 1., 1., 1., 1., 1., 1., 1., 1., 1., 1.,\n",
       "        1., 1., 1., 1., 1., 1., 1., 1., 1., 1., 1., 1., 1., 1., 1., 1.,\n",
       "        1., 1., 1., 1., 1., 1., 1., 1., 1., 1., 1., 1., 1., 1., 1., 1.,\n",
       "        1., 1., 1., 1., 1., 1., 1., 1., 1., 1., 1., 1., 1., 1., 1., 1.,\n",
       "        1., 1., 1., 1., 1., 1., 1., 1., 1., 1., 1., 1., 1., 1., 1., 1.,\n",
       "        1., 1., 1., 1., 1., 1., 1., 1., 1., 1., 1., 1., 1., 1., 1., 1.,\n",
       "        1., 1., 1., 1., 1., 1., 1., 1., 1., 1., 1., 1., 1., 1., 1., 1.,\n",
       "        1., 1., 1., 1., 1., 1., 1., 1., 1., 1., 1., 1., 1., 1., 1., 1.,\n",
       "        1., 1., 1., 1., 1., 1., 1., 1., 1., 1., 1., 1., 1., 1., 1., 1.,\n",
       "        1., 1., 1., 1., 1., 1., 1., 1., 1., 1., 1., 1., 1., 1., 1., 1.,\n",
       "        1., 1., 1., 1., 1., 1., 1., 1., 1., 1., 1., 1., 1., 1., 1., 1.,\n",
       "        1., 1., 1., 1., 1., 1., 1., 1., 1., 1., 1., 1., 1.]])"
      ]
     },
     "execution_count": 102,
     "metadata": {},
     "output_type": "execute_result"
    }
   ],
   "source": [
    "cat_encoder = OneHotEncoder(sparse=False)\n",
    "netflix_cat_1hot = cat_encoder.fit_transform(netflix_cat.values.reshape(1,-1))\n",
    "netflix_cat_1hot"
   ]
  },
  {
   "cell_type": "code",
   "execution_count": 103,
   "metadata": {},
   "outputs": [
    {
     "data": {
      "text/plain": [
       "[array(['Drama'], dtype=object),\n",
       " array(['Biopic'], dtype=object),\n",
       " array(['Documentary'], dtype=object),\n",
       " array(['Romantic comedy'], dtype=object),\n",
       " array(['Documentary'], dtype=object),\n",
       " array(['Comedy'], dtype=object),\n",
       " array(['Romantic comedy'], dtype=object),\n",
       " array(['Comedy'], dtype=object),\n",
       " array(['Horror'], dtype=object),\n",
       " array(['Documentary'], dtype=object),\n",
       " array(['Documentary'], dtype=object),\n",
       " array(['Documentary'], dtype=object),\n",
       " array(['Documentary'], dtype=object),\n",
       " array(['Documentary'], dtype=object),\n",
       " array(['Documentary'], dtype=object),\n",
       " array(['Action comedy'], dtype=object),\n",
       " array(['Anime/Fantasy'], dtype=object),\n",
       " array(['Documentary'], dtype=object),\n",
       " array(['Satire'], dtype=object),\n",
       " array(['Thriller'], dtype=object),\n",
       " array(['Romantic drama'], dtype=object),\n",
       " array(['Romantic comedy'], dtype=object),\n",
       " array(['Heist'], dtype=object),\n",
       " array(['Romantic comedy'], dtype=object),\n",
       " array(['Action'], dtype=object),\n",
       " array(['Animation/Musical/Adventure'], dtype=object),\n",
       " array(['Action comedy'], dtype=object),\n",
       " array(['Comedy'], dtype=object),\n",
       " array(['Spy thriller'], dtype=object),\n",
       " array(['Drama'], dtype=object),\n",
       " array(['Documentary'], dtype=object),\n",
       " array(['Documentary'], dtype=object),\n",
       " array(['Romance drama'], dtype=object),\n",
       " array(['Thriller'], dtype=object),\n",
       " array(['Aftershow / Interview'], dtype=object),\n",
       " array(['Comedy'], dtype=object),\n",
       " array(['Thriller'], dtype=object),\n",
       " array(['Romantic comedy'], dtype=object),\n",
       " array(['Romantic comedy'], dtype=object),\n",
       " array(['Action/Comedy'], dtype=object),\n",
       " array(['Documentary'], dtype=object),\n",
       " array(['Dark comedy'], dtype=object),\n",
       " array(['Western'], dtype=object),\n",
       " array(['Documentary'], dtype=object),\n",
       " array(['Crime drama'], dtype=object),\n",
       " array(['Musical'], dtype=object),\n",
       " array(['Documentary'], dtype=object),\n",
       " array(['Comedy'], dtype=object),\n",
       " array(['Drama'], dtype=object),\n",
       " array(['Drama'], dtype=object),\n",
       " array(['Documentary'], dtype=object),\n",
       " array(['Comedy mystery'], dtype=object),\n",
       " array(['Science fiction/Thriller'], dtype=object),\n",
       " array(['Comedy'], dtype=object),\n",
       " array(['Documentary'], dtype=object),\n",
       " array(['Action'], dtype=object),\n",
       " array(['Action'], dtype=object),\n",
       " array(['Romantic comedy'], dtype=object),\n",
       " array(['Comedy'], dtype=object),\n",
       " array(['Comedy / Musical'], dtype=object),\n",
       " array(['Comedy'], dtype=object),\n",
       " array(['Documentary'], dtype=object),\n",
       " array(['Thriller'], dtype=object),\n",
       " array(['Drama'], dtype=object),\n",
       " array(['Documentary'], dtype=object),\n",
       " array(['Sports-drama'], dtype=object),\n",
       " array(['Drama'], dtype=object),\n",
       " array(['Documentary'], dtype=object),\n",
       " array(['Teen comedy-drama'], dtype=object),\n",
       " array(['Drama'], dtype=object),\n",
       " array(['Biopic'], dtype=object),\n",
       " array(['Horror'], dtype=object),\n",
       " array(['Comedy/Horror'], dtype=object),\n",
       " array(['Comedy'], dtype=object),\n",
       " array(['Documentary'], dtype=object),\n",
       " array(['Romantic drama'], dtype=object),\n",
       " array(['Documentary'], dtype=object),\n",
       " array(['Western'], dtype=object),\n",
       " array(['Drama'], dtype=object),\n",
       " array(['Horror/Crime drama'], dtype=object),\n",
       " array(['Romantic comedy'], dtype=object),\n",
       " array(['Psychological thriller'], dtype=object),\n",
       " array(['Documentary'], dtype=object),\n",
       " array(['Thriller'], dtype=object),\n",
       " array(['Teen comedy horror'], dtype=object),\n",
       " array(['Comedy'], dtype=object),\n",
       " array(['Documentary'], dtype=object),\n",
       " array(['Historical drama'], dtype=object),\n",
       " array(['Black comedy'], dtype=object),\n",
       " array(['Drama'], dtype=object),\n",
       " array(['Romantic comedy'], dtype=object),\n",
       " array(['Documentary'], dtype=object),\n",
       " array(['Family film'], dtype=object),\n",
       " array(['Documentary'], dtype=object),\n",
       " array(['Documentary'], dtype=object),\n",
       " array(['Drama'], dtype=object),\n",
       " array(['Science fiction/Drama'], dtype=object),\n",
       " array(['Documentary'], dtype=object),\n",
       " array(['Thriller'], dtype=object),\n",
       " array(['Documentary'], dtype=object),\n",
       " array(['Drama'], dtype=object),\n",
       " array(['War drama'], dtype=object),\n",
       " array(['Superhero/Action'], dtype=object),\n",
       " array(['Drama'], dtype=object),\n",
       " array(['Horror-thriller'], dtype=object),\n",
       " array(['Drama'], dtype=object),\n",
       " array(['Thriller'], dtype=object),\n",
       " array(['War'], dtype=object),\n",
       " array(['Documentary'], dtype=object),\n",
       " array(['Drama'], dtype=object),\n",
       " array(['Documentary'], dtype=object),\n",
       " array(['Biopic'], dtype=object),\n",
       " array(['Documentary'], dtype=object),\n",
       " array(['Drama'], dtype=object),\n",
       " array(['Concert Film'], dtype=object),\n",
       " array(['War'], dtype=object),\n",
       " array(['Dance comedy'], dtype=object),\n",
       " array(['Drama'], dtype=object),\n",
       " array(['Variety show'], dtype=object),\n",
       " array(['Drama'], dtype=object),\n",
       " array(['Documentary'], dtype=object),\n",
       " array(['Zombie/Heist'], dtype=object),\n",
       " array(['Drama'], dtype=object),\n",
       " array(['Documentary'], dtype=object),\n",
       " array(['Comedy'], dtype=object),\n",
       " array(['Animation / Short'], dtype=object),\n",
       " array(['Comedy'], dtype=object),\n",
       " array(['Documentary'], dtype=object),\n",
       " array(['Christmas comedy'], dtype=object),\n",
       " array(['Comedy-drama'], dtype=object),\n",
       " array(['Horror'], dtype=object),\n",
       " array(['Romantic comedy'], dtype=object),\n",
       " array(['Documentary'], dtype=object),\n",
       " array(['Western'], dtype=object),\n",
       " array(['Documentary'], dtype=object),\n",
       " array(['Drama'], dtype=object),\n",
       " array(['Drama'], dtype=object),\n",
       " array(['Psychological thriller drama'], dtype=object),\n",
       " array(['Mystery'], dtype=object),\n",
       " array(['Documentary'], dtype=object),\n",
       " array(['Mockumentary'], dtype=object),\n",
       " array(['Action/Science fiction'], dtype=object),\n",
       " array(['Comedy'], dtype=object),\n",
       " array(['Documentary'], dtype=object),\n",
       " array(['Horror'], dtype=object),\n",
       " array(['Comedy-drama'], dtype=object),\n",
       " array(['Documentary'], dtype=object),\n",
       " array(['Drama'], dtype=object),\n",
       " array(['Historical-epic'], dtype=object),\n",
       " array(['Documentary'], dtype=object),\n",
       " array(['Crime drama'], dtype=object),\n",
       " array(['Romantic comedy'], dtype=object),\n",
       " array(['Political thriller'], dtype=object),\n",
       " array(['Documentary'], dtype=object),\n",
       " array(['Documentary'], dtype=object),\n",
       " array(['Drama'], dtype=object),\n",
       " array(['Documentary'], dtype=object),\n",
       " array(['Documentary'], dtype=object),\n",
       " array(['Comedy'], dtype=object),\n",
       " array(['Drama'], dtype=object),\n",
       " array(['Documentary'], dtype=object),\n",
       " array(['Adventure-romance'], dtype=object),\n",
       " array(['Drama'], dtype=object),\n",
       " array(['Drama'], dtype=object),\n",
       " array(['Variety Show'], dtype=object),\n",
       " array(['Documentary'], dtype=object),\n",
       " array(['Family'], dtype=object),\n",
       " array(['Musical / Short'], dtype=object),\n",
       " array(['Romantic comedy'], dtype=object),\n",
       " array(['War drama'], dtype=object),\n",
       " array(['Mockumentary'], dtype=object),\n",
       " array(['Documentary'], dtype=object),\n",
       " array(['Documentary'], dtype=object),\n",
       " array(['Drama'], dtype=object),\n",
       " array(['Documentary'], dtype=object),\n",
       " array(['Documentary'], dtype=object),\n",
       " array(['Stop Motion'], dtype=object),\n",
       " array(['Horror thriller'], dtype=object),\n",
       " array(['Thriller'], dtype=object),\n",
       " array(['Comedy-drama'], dtype=object),\n",
       " array(['Comedy'], dtype=object),\n",
       " array(['Aftershow / Interview'], dtype=object),\n",
       " array(['Comedy'], dtype=object),\n",
       " array(['Comedy-drama'], dtype=object),\n",
       " array(['Action-adventure'], dtype=object),\n",
       " array(['Documentary'], dtype=object),\n",
       " array(['Comedy'], dtype=object),\n",
       " array(['Action comedy'], dtype=object),\n",
       " array(['Anime/Science fiction'], dtype=object),\n",
       " array(['Concert Film'], dtype=object),\n",
       " array(['Documentary'], dtype=object),\n",
       " array(['Comedy'], dtype=object),\n",
       " array(['Drama'], dtype=object),\n",
       " array(['Comedy'], dtype=object),\n",
       " array(['Comedy'], dtype=object),\n",
       " array(['Romantic comedy'], dtype=object),\n",
       " array(['Animation / Short'], dtype=object),\n",
       " array(['Comedy-drama'], dtype=object),\n",
       " array(['Documentary'], dtype=object),\n",
       " array(['Romance'], dtype=object),\n",
       " array(['Comedy-drama'], dtype=object),\n",
       " array(['Animation'], dtype=object),\n",
       " array(['Documentary'], dtype=object),\n",
       " array(['Documentary'], dtype=object),\n",
       " array(['Romantic drama'], dtype=object),\n",
       " array(['Crime drama'], dtype=object),\n",
       " array(['Drama'], dtype=object),\n",
       " array(['Action'], dtype=object),\n",
       " array(['Documentary'], dtype=object),\n",
       " array(['Documentary'], dtype=object),\n",
       " array(['Documentary'], dtype=object),\n",
       " array(['Documentary'], dtype=object),\n",
       " array(['Documentary'], dtype=object),\n",
       " array(['Comedy'], dtype=object),\n",
       " array(['Christmas/Fantasy/Adventure/Comedy'], dtype=object),\n",
       " array(['Thriller'], dtype=object),\n",
       " array(['Anime / Short'], dtype=object),\n",
       " array(['Documentary'], dtype=object),\n",
       " array(['Documentary'], dtype=object),\n",
       " array(['Action thriller'], dtype=object),\n",
       " array(['Hidden-camera prank comedy'], dtype=object),\n",
       " array(['Christian musical'], dtype=object),\n",
       " array(['Comedy'], dtype=object),\n",
       " array(['Romantic comedy'], dtype=object),\n",
       " array(['Romance'], dtype=object),\n",
       " array(['Horror comedy'], dtype=object),\n",
       " array(['Superhero-Comedy'], dtype=object),\n",
       " array(['Thriller'], dtype=object),\n",
       " array(['Romantic comedy'], dtype=object),\n",
       " array(['Comedy'], dtype=object),\n",
       " array(['Romantic comedy'], dtype=object),\n",
       " array(['Documentary'], dtype=object),\n",
       " array(['Biopic'], dtype=object),\n",
       " array(['Psychological horror'], dtype=object),\n",
       " array(['Drama'], dtype=object),\n",
       " array(['One-man show'], dtype=object),\n",
       " array(['Crime drama'], dtype=object),\n",
       " array(['Family/Christmas musical'], dtype=object),\n",
       " array(['Romantic comedy'], dtype=object),\n",
       " array(['Documentary'], dtype=object),\n",
       " array(['Mystery'], dtype=object),\n",
       " array(['Documentary'], dtype=object),\n",
       " array(['Romantic comedy'], dtype=object),\n",
       " array(['Fantasy'], dtype=object),\n",
       " array(['Drama'], dtype=object),\n",
       " array(['Comedy'], dtype=object),\n",
       " array(['Crime drama'], dtype=object),\n",
       " array(['Documentary'], dtype=object),\n",
       " array(['Documentary'], dtype=object),\n",
       " array(['Documentary'], dtype=object),\n",
       " array(['Comedy'], dtype=object),\n",
       " array(['Biopic'], dtype=object),\n",
       " array(['Documentary'], dtype=object),\n",
       " array(['Thriller'], dtype=object),\n",
       " array(['Psychological thriller'], dtype=object),\n",
       " array(['Documentary'], dtype=object),\n",
       " array(['Documentary'], dtype=object),\n",
       " array(['Drama'], dtype=object),\n",
       " array(['Action comedy'], dtype=object),\n",
       " array(['Action-thriller'], dtype=object),\n",
       " array(['Urban fantasy'], dtype=object),\n",
       " array(['Romantic comedy'], dtype=object),\n",
       " array(['Science fiction thriller'], dtype=object),\n",
       " array(['Thriller'], dtype=object),\n",
       " array(['Romantic drama'], dtype=object),\n",
       " array(['Documentary'], dtype=object),\n",
       " array(['Biopic'], dtype=object),\n",
       " array(['Comedy'], dtype=object),\n",
       " array(['Crime drama'], dtype=object),\n",
       " array(['Romantic comedy'], dtype=object),\n",
       " array(['Sports film'], dtype=object),\n",
       " array(['One-man show'], dtype=object),\n",
       " array(['Romantic comedy'], dtype=object),\n",
       " array(['Anime/Science fiction'], dtype=object),\n",
       " array(['Romantic comedy'], dtype=object),\n",
       " array(['Drama'], dtype=object),\n",
       " array(['Documentary'], dtype=object),\n",
       " array(['Documentary'], dtype=object),\n",
       " array(['Spy thriller'], dtype=object),\n",
       " array(['Horror'], dtype=object),\n",
       " array(['Thriller'], dtype=object),\n",
       " array(['Documentary'], dtype=object),\n",
       " array(['Musical comedy'], dtype=object),\n",
       " array(['Drama'], dtype=object),\n",
       " array(['Documentary'], dtype=object),\n",
       " array(['Animation'], dtype=object),\n",
       " array(['Thriller'], dtype=object),\n",
       " array(['Drama'], dtype=object),\n",
       " array(['Crime drama'], dtype=object),\n",
       " array(['Drama'], dtype=object),\n",
       " array(['Documentary'], dtype=object),\n",
       " array(['Horror thriller'], dtype=object),\n",
       " array(['Animation / Science Fiction'], dtype=object),\n",
       " array(['Comedy horror'], dtype=object),\n",
       " array(['Comedy'], dtype=object),\n",
       " array(['Comedy'], dtype=object),\n",
       " array(['Documentary'], dtype=object),\n",
       " array(['Science fiction/Action'], dtype=object),\n",
       " array(['Documentary'], dtype=object),\n",
       " array(['Documentary'], dtype=object),\n",
       " array(['Romantic comedy'], dtype=object),\n",
       " array(['Documentary'], dtype=object),\n",
       " array(['Documentary'], dtype=object),\n",
       " array(['Romantic comedy'], dtype=object),\n",
       " array(['Documentary'], dtype=object),\n",
       " array(['Drama'], dtype=object),\n",
       " array(['Documentary'], dtype=object),\n",
       " array(['Musical comedy'], dtype=object),\n",
       " array(['Science fiction/Thriller'], dtype=object),\n",
       " array(['Romantic teen drama'], dtype=object),\n",
       " array(['Comedy-drama'], dtype=object),\n",
       " array(['Documentary'], dtype=object),\n",
       " array(['Romance'], dtype=object),\n",
       " array(['Documentary'], dtype=object),\n",
       " array(['Musical/Western/Fantasy'], dtype=object),\n",
       " array(['Romantic comedy'], dtype=object),\n",
       " array(['Drama'], dtype=object),\n",
       " array(['Biopic'], dtype=object),\n",
       " array(['Adventure'], dtype=object),\n",
       " array(['Drama-Comedy'], dtype=object),\n",
       " array(['Family film'], dtype=object),\n",
       " array(['Documentary'], dtype=object),\n",
       " array(['Superhero'], dtype=object),\n",
       " array(['Comedy'], dtype=object),\n",
       " array(['Drama'], dtype=object),\n",
       " array(['Documentary'], dtype=object),\n",
       " array(['Documentary'], dtype=object),\n",
       " array(['Comedy'], dtype=object),\n",
       " array(['Documentary'], dtype=object),\n",
       " array(['Thriller'], dtype=object),\n",
       " array(['Romantic comedy'], dtype=object),\n",
       " array(['Comedy'], dtype=object),\n",
       " array(['Comedy'], dtype=object),\n",
       " array(['Documentary'], dtype=object),\n",
       " array(['Documentary'], dtype=object),\n",
       " array(['Documentary'], dtype=object),\n",
       " array(['Dark comedy'], dtype=object),\n",
       " array(['Musical'], dtype=object),\n",
       " array(['Documentary'], dtype=object),\n",
       " array(['Romantic comedy'], dtype=object),\n",
       " array(['Animation / Musicial'], dtype=object),\n",
       " array(['Romantic comedy-drama'], dtype=object),\n",
       " array(['Science fiction/Drama'], dtype=object),\n",
       " array(['Making-of'], dtype=object),\n",
       " array(['Romantic comedy'], dtype=object),\n",
       " array(['Documentary'], dtype=object),\n",
       " array(['Romantic thriller'], dtype=object),\n",
       " array(['Drama'], dtype=object),\n",
       " array(['Animation'], dtype=object),\n",
       " array(['Documentary'], dtype=object),\n",
       " array(['Concert Film'], dtype=object),\n",
       " array(['Romantic comedy'], dtype=object),\n",
       " array(['Romantic teenage drama'], dtype=object),\n",
       " array(['Romance'], dtype=object),\n",
       " array(['Documentary'], dtype=object),\n",
       " array(['Documentary'], dtype=object),\n",
       " array(['Comedy'], dtype=object),\n",
       " array(['Documentary'], dtype=object),\n",
       " array(['Drama'], dtype=object),\n",
       " array(['Romantic comedy'], dtype=object),\n",
       " array(['Drama'], dtype=object),\n",
       " array(['Drama'], dtype=object),\n",
       " array(['Horror-thriller'], dtype=object),\n",
       " array(['Family'], dtype=object),\n",
       " array(['Documentary'], dtype=object),\n",
       " array(['Drama'], dtype=object),\n",
       " array(['Drama'], dtype=object),\n",
       " array(['Documentary'], dtype=object),\n",
       " array(['Documentary'], dtype=object),\n",
       " array(['Animated musical comedy'], dtype=object),\n",
       " array(['Drama'], dtype=object),\n",
       " array(['Comedy-drama'], dtype=object),\n",
       " array(['Animation / Comedy'], dtype=object),\n",
       " array(['Drama'], dtype=object),\n",
       " array(['Drama'], dtype=object),\n",
       " array(['Comedy-drama'], dtype=object),\n",
       " array(['Drama'], dtype=object),\n",
       " array(['Drama'], dtype=object),\n",
       " array(['Drama'], dtype=object),\n",
       " array(['Comedy-drama'], dtype=object),\n",
       " array(['Drama'], dtype=object),\n",
       " array(['Horror'], dtype=object),\n",
       " array(['Drama / Short'], dtype=object),\n",
       " array(['Romantic comedy'], dtype=object),\n",
       " array(['Animation'], dtype=object),\n",
       " array(['Documentary'], dtype=object),\n",
       " array(['Family/Comedy-drama'], dtype=object),\n",
       " array(['Variety show'], dtype=object),\n",
       " array(['Drama'], dtype=object),\n",
       " array(['Documentary'], dtype=object),\n",
       " array(['Comedy / Musical'], dtype=object),\n",
       " array(['Science fiction/Thriller'], dtype=object),\n",
       " array(['Drama'], dtype=object),\n",
       " array(['Documentary'], dtype=object),\n",
       " array(['Adventure/Comedy'], dtype=object),\n",
       " array(['War-Comedy'], dtype=object),\n",
       " array(['Thriller'], dtype=object),\n",
       " array(['Romantic comedy'], dtype=object),\n",
       " array(['Documentary'], dtype=object),\n",
       " array(['Thriller'], dtype=object),\n",
       " array(['Documentary'], dtype=object),\n",
       " array(['Aftershow / Interview'], dtype=object),\n",
       " array(['Biopic'], dtype=object),\n",
       " array(['Thriller'], dtype=object),\n",
       " array(['Documentary'], dtype=object),\n",
       " array(['Documentary'], dtype=object),\n",
       " array(['Documentary'], dtype=object),\n",
       " array(['Adventure'], dtype=object),\n",
       " array(['Crime drama'], dtype=object),\n",
       " array(['Romantic comedy'], dtype=object),\n",
       " array(['Aftershow / Interview'], dtype=object),\n",
       " array(['Comedy'], dtype=object),\n",
       " array(['Comedy-drama'], dtype=object),\n",
       " array(['Drama'], dtype=object),\n",
       " array(['Drama'], dtype=object),\n",
       " array(['Documentary'], dtype=object),\n",
       " array(['Satire'], dtype=object),\n",
       " array(['Thriller'], dtype=object),\n",
       " array(['Making-of'], dtype=object),\n",
       " array(['Documentary'], dtype=object),\n",
       " array(['Documentary'], dtype=object),\n",
       " array(['Comedy-drama'], dtype=object),\n",
       " array(['Mentalism special'], dtype=object),\n",
       " array(['Comedy'], dtype=object),\n",
       " array(['Drama'], dtype=object),\n",
       " array(['Science fiction'], dtype=object),\n",
       " array(['Drama'], dtype=object),\n",
       " array(['Animation / Short'], dtype=object),\n",
       " array(['Horror'], dtype=object),\n",
       " array(['Science fiction'], dtype=object),\n",
       " array(['Documentary'], dtype=object),\n",
       " array(['Thriller'], dtype=object),\n",
       " array(['Documentary'], dtype=object),\n",
       " array(['Animation/Superhero'], dtype=object),\n",
       " array(['One-man show'], dtype=object),\n",
       " array(['Comedy'], dtype=object),\n",
       " array(['Drama'], dtype=object),\n",
       " array(['Drama'], dtype=object),\n",
       " array(['Comedy'], dtype=object),\n",
       " array(['Thriller'], dtype=object),\n",
       " array(['Thriller'], dtype=object),\n",
       " array(['Comedy'], dtype=object),\n",
       " array(['Documentary'], dtype=object),\n",
       " array(['Thriller'], dtype=object),\n",
       " array(['Heist film/Thriller'], dtype=object),\n",
       " array(['Comedy'], dtype=object),\n",
       " array(['Comedy-drama'], dtype=object),\n",
       " array(['Psychological thriller'], dtype=object),\n",
       " array(['Animation'], dtype=object),\n",
       " array(['Action'], dtype=object),\n",
       " array(['Documentary'], dtype=object),\n",
       " array(['Documentary'], dtype=object),\n",
       " array(['Crime drama'], dtype=object),\n",
       " array(['Documentary'], dtype=object),\n",
       " array(['Thriller'], dtype=object),\n",
       " array(['Documentary'], dtype=object),\n",
       " array(['Thriller'], dtype=object),\n",
       " array(['Black comedy'], dtype=object),\n",
       " array(['Documentary'], dtype=object),\n",
       " array(['Romantic comedy/Holiday'], dtype=object),\n",
       " array(['Documentary'], dtype=object),\n",
       " array(['Thriller'], dtype=object),\n",
       " array(['Aftershow / Interview'], dtype=object),\n",
       " array(['Thriller'], dtype=object),\n",
       " array(['Action'], dtype=object),\n",
       " array(['Romance'], dtype=object),\n",
       " array(['Documentary'], dtype=object),\n",
       " array(['Superhero'], dtype=object),\n",
       " array(['Comedy'], dtype=object),\n",
       " array(['Documentary'], dtype=object),\n",
       " array(['Drama'], dtype=object),\n",
       " array(['Drama'], dtype=object),\n",
       " array(['Animation/Comedy/Adventure'], dtype=object),\n",
       " array(['Drama'], dtype=object),\n",
       " array(['Documentary'], dtype=object),\n",
       " array(['Biographical/Comedy'], dtype=object),\n",
       " array(['Comedy'], dtype=object),\n",
       " array(['Documentary'], dtype=object),\n",
       " array(['Documentary'], dtype=object),\n",
       " array(['Thriller'], dtype=object),\n",
       " array(['Documentary'], dtype=object),\n",
       " array(['Documentary'], dtype=object),\n",
       " array(['Drama'], dtype=object),\n",
       " array(['Documentary'], dtype=object),\n",
       " array(['Comedy'], dtype=object),\n",
       " array(['Action-thriller'], dtype=object),\n",
       " array(['Drama'], dtype=object),\n",
       " array(['Documentary'], dtype=object),\n",
       " array(['Concert Film'], dtype=object),\n",
       " array(['Action'], dtype=object),\n",
       " array(['Action comedy'], dtype=object),\n",
       " array(['Concert Film'], dtype=object),\n",
       " array(['Drama'], dtype=object),\n",
       " array(['Documentary'], dtype=object),\n",
       " array(['Comedy'], dtype=object),\n",
       " array(['Comedy/Fantasy/Family'], dtype=object),\n",
       " array(['Thriller'], dtype=object),\n",
       " array(['Drama'], dtype=object),\n",
       " array(['Drama/Horror'], dtype=object),\n",
       " array(['Crime drama'], dtype=object),\n",
       " array(['Romantic comedy'], dtype=object),\n",
       " array(['Documentary'], dtype=object),\n",
       " array(['Romantic comedy'], dtype=object),\n",
       " array(['Documentary'], dtype=object),\n",
       " array(['Aftershow / Interview'], dtype=object),\n",
       " array(['Documentary'], dtype=object),\n",
       " array(['Thriller'], dtype=object),\n",
       " array(['Horror thriller'], dtype=object),\n",
       " array(['Documentary'], dtype=object),\n",
       " array(['Comedy'], dtype=object),\n",
       " array(['Drama'], dtype=object),\n",
       " array(['Crime thriller'], dtype=object),\n",
       " array(['Science fiction/Drama'], dtype=object),\n",
       " array(['Romantic comedy'], dtype=object),\n",
       " array(['Documentary'], dtype=object),\n",
       " array(['Documentary'], dtype=object),\n",
       " array(['Horror anthology'], dtype=object),\n",
       " array(['Documentary'], dtype=object),\n",
       " array(['Animation / Short'], dtype=object),\n",
       " array(['Documentary'], dtype=object),\n",
       " array(['Documentary'], dtype=object),\n",
       " array(['Animation/Christmas/Comedy/Adventure'], dtype=object),\n",
       " array(['Drama'], dtype=object),\n",
       " array(['Drama'], dtype=object),\n",
       " array(['Drama'], dtype=object)]"
      ]
     },
     "execution_count": 103,
     "metadata": {},
     "output_type": "execute_result"
    }
   ],
   "source": [
    "cat_encoder.categories_"
   ]
  },
  {
   "cell_type": "markdown",
   "metadata": {},
   "source": [
    "Let's create a custom transformer to add extra attributes:"
   ]
  },
  {
   "cell_type": "markdown",
   "metadata": {},
   "source": [
    "\"IMDB Score\", \"runtime_cat\", \"Runtime\",\"days_since_premiere\""
   ]
  },
  {
   "cell_type": "code",
   "execution_count": 104,
   "metadata": {},
   "outputs": [
    {
     "ename": "IndentationError",
     "evalue": "unexpected indent (<ipython-input-104-459b57d952b7>, line 13)",
     "output_type": "error",
     "traceback": [
      "\u001b[0;36m  File \u001b[0;32m\"<ipython-input-104-459b57d952b7>\"\u001b[0;36m, line \u001b[0;32m13\u001b[0m\n\u001b[0;31m    date1 = netflix_data[\"Premiere\"]\u001b[0m\n\u001b[0m    ^\u001b[0m\n\u001b[0;31mIndentationError\u001b[0m\u001b[0;31m:\u001b[0m unexpected indent\n"
     ]
    }
   ],
   "source": [
    "from sklearn.base import BaseEstimator, TransformerMixin\n",
    "\n",
    "# column index\n",
    "imdb_ix, runtime_ix, days_since_premiere_ix = 3, 4, 5, 6\n",
    "\n",
    "class CombinedAttributesAdder(BaseEstimator, TransformerMixin):\n",
    "    def __init__(self, add_days_since_premiere = True): # no *args or **kargs\n",
    "        self.add_days_since_premiere = add_days_since_premiere\n",
    "    def fit(self, X, y=None):\n",
    "        return self  # nothing else to do\n",
    "    def transform(self, X, y=None):\n",
    "        days_since_premiere = X[:, rooms_ix] / X[:, household_ix]\n",
    "            date1 = netflix_data[\"Premiere\"]\n",
    "            date2 = pd.Series(data=date.today(), index=np.arange(len(date1)), name=\"Today\").values.astype('datetime64[D]')\n",
    "            date1 = pd.to_datetime(date1).values.astype('datetime64[D]')\n",
    "            date_df = pd.DataFrame(dict(Start_date = date1, End_date = date2))\n",
    "            date_df['diff_days'] = date_df['End_date'] - date_df['Start_date']\n",
    "            date_df['diff_days'] = date_df['diff_days'] / np.timedelta64(1,'D')\n",
    "            netflix_data['days_since_premiere'] = date_df['diff_days']\n",
    "            netflix_data.head()\n",
    "        \n",
    "        population_per_household = X[:, population_ix] / X[:, household_ix]\n",
    "        if self.add_bedrooms_per_room:\n",
    "            bedrooms_per_room = X[:, bedrooms_ix] / X[:, rooms_ix]\n",
    "            return np.c_[X, rooms_per_household, population_per_household,\n",
    "                         bedrooms_per_room]\n",
    "        else:\n",
    "            return np.c_[X, rooms_per_household, population_per_household]\n",
    "\n",
    "attr_adder = CombinedAttributesAdder(add_bedrooms_per_room=False)\n",
    "housing_extra_attribs = attr_adder.transform(housing.values)"
   ]
  },
  {
   "cell_type": "code",
   "execution_count": 105,
   "metadata": {},
   "outputs": [
    {
     "ename": "NameError",
     "evalue": "name 'housing_extra_attribs' is not defined",
     "output_type": "error",
     "traceback": [
      "\u001b[0;31m---------------------------------------------------------------------------\u001b[0m",
      "\u001b[0;31mNameError\u001b[0m                                 Traceback (most recent call last)",
      "\u001b[0;32m<ipython-input-105-38f758271fae>\u001b[0m in \u001b[0;36m<module>\u001b[0;34m()\u001b[0m\n\u001b[1;32m      1\u001b[0m housing_extra_attribs = pd.DataFrame(\n\u001b[0;32m----> 2\u001b[0;31m     \u001b[0mhousing_extra_attribs\u001b[0m\u001b[0;34m,\u001b[0m\u001b[0;34m\u001b[0m\u001b[0m\n\u001b[0m\u001b[1;32m      3\u001b[0m     columns=list(housing.columns)+[\"rooms_per_household\", \"population_per_household\"])\n\u001b[1;32m      4\u001b[0m \u001b[0mhousing_extra_attribs\u001b[0m\u001b[0;34m.\u001b[0m\u001b[0mhead\u001b[0m\u001b[0;34m(\u001b[0m\u001b[0;34m)\u001b[0m\u001b[0;34m\u001b[0m\u001b[0m\n",
      "\u001b[0;31mNameError\u001b[0m: name 'housing_extra_attribs' is not defined"
     ]
    }
   ],
   "source": [
    "housing_extra_attribs = pd.DataFrame(\n",
    "    housing_extra_attribs,\n",
    "    columns=list(housing.columns)+[\"rooms_per_household\", \"population_per_household\"])\n",
    "housing_extra_attribs.head()"
   ]
  },
  {
   "cell_type": "markdown",
   "metadata": {},
   "source": [
    "Now let's build a pipeline for preprocessing the numerical attributes:"
   ]
  },
  {
   "cell_type": "code",
   "execution_count": 107,
   "metadata": {},
   "outputs": [],
   "source": [
    "from sklearn.pipeline import Pipeline\n",
    "from sklearn.preprocessing import StandardScaler\n",
    "\n",
    "num_pipeline = Pipeline([\n",
    "        ('imputer', SimpleImputer(strategy=\"median\")),\n",
    "#         ('attribs_adder', CombinedAttributesAdder()),\n",
    "        ('std_scaler', StandardScaler()),\n",
    "    ])\n",
    "\n",
    "netflix_num_tr = num_pipeline.fit_transform(netflix_num)"
   ]
  },
  {
   "cell_type": "code",
   "execution_count": 108,
   "metadata": {},
   "outputs": [
    {
     "data": {
      "text/plain": [
       "array([[ 0.23757285, -0.81105452, -0.07066831],\n",
       "       [-0.06812751, -1.32626297, -0.07066831],\n",
       "       [ 0.54327321,  1.11099618, -0.79813616],\n",
       "       ...,\n",
       "       [ 0.54327321, -0.95744216, -0.07066831],\n",
       "       [ 0.33947297, -1.29014134, -0.07066831],\n",
       "       [-0.27192775,  0.79920952,  0.65679955]])"
      ]
     },
     "execution_count": 108,
     "metadata": {},
     "output_type": "execute_result"
    }
   ],
   "source": [
    "netflix_num_tr"
   ]
  },
  {
   "cell_type": "code",
   "execution_count": 109,
   "metadata": {
    "collapsed": true
   },
   "outputs": [],
   "source": [
    "from sklearn.base import BaseEstimator, TransformerMixin\n",
    "\n",
    "# Create a class to select numerical or categorical columns \n",
    "# since Scikit-Learn doesn't handle DataFrames yet\n",
    "class DataFrameSelector(BaseEstimator, TransformerMixin):\n",
    "    def __init__(self, attribute_names):\n",
    "        self.attribute_names = attribute_names\n",
    "    def fit(self, X, y=None):\n",
    "        return self\n",
    "    def transform(self, X):\n",
    "        return X[self.attribute_names].values"
   ]
  },
  {
   "cell_type": "markdown",
   "metadata": {},
   "source": [
    "Now let's join all these components into a big pipeline that will preprocess both the numerical and the categorical features:"
   ]
  },
  {
   "cell_type": "code",
   "execution_count": 111,
   "metadata": {},
   "outputs": [],
   "source": [
    "num_attribs = list(netflix_num)\n",
    "cat_attribs = [\"Genre\"]\n",
    "\n",
    "num_pipeline = Pipeline([\n",
    "        ('selector', DataFrameSelector(num_attribs)),\n",
    "        ('imputer', SimpleImputer(strategy=\"median\")),\n",
    "#         ('attribs_adder', CombinedAttributesAdder()),\n",
    "        ('std_scaler', StandardScaler()),\n",
    "    ])\n",
    "\n",
    "cat_pipeline = Pipeline([\n",
    "        ('selector', DataFrameSelector(cat_attribs)),\n",
    "        ('cat_encoder', OneHotEncoder(sparse=False)),\n",
    "    ])"
   ]
  },
  {
   "cell_type": "code",
   "execution_count": 112,
   "metadata": {
    "collapsed": true
   },
   "outputs": [],
   "source": [
    "from sklearn.pipeline import FeatureUnion\n",
    "\n",
    "full_pipeline = FeatureUnion(transformer_list=[\n",
    "        (\"num_pipeline\", num_pipeline),\n",
    "        (\"cat_pipeline\", cat_pipeline),\n",
    "    ])"
   ]
  },
  {
   "cell_type": "code",
   "execution_count": 113,
   "metadata": {},
   "outputs": [
    {
     "data": {
      "text/plain": [
       "array([[ 0.23757285, -0.81105452, -0.07066831, ...,  0.        ,\n",
       "         0.        ,  0.        ],\n",
       "       [-0.06812751, -1.32626297, -0.07066831, ...,  0.        ,\n",
       "         0.        ,  0.        ],\n",
       "       [ 0.54327321,  1.11099618, -0.79813616, ...,  0.        ,\n",
       "         0.        ,  0.        ],\n",
       "       ...,\n",
       "       [ 0.54327321, -0.95744216, -0.07066831, ...,  0.        ,\n",
       "         0.        ,  0.        ],\n",
       "       [ 0.33947297, -1.29014134, -0.07066831, ...,  0.        ,\n",
       "         0.        ,  0.        ],\n",
       "       [-0.27192775,  0.79920952,  0.65679955, ...,  0.        ,\n",
       "         0.        ,  0.        ]])"
      ]
     },
     "execution_count": 113,
     "metadata": {},
     "output_type": "execute_result"
    }
   ],
   "source": [
    "netflix_prepared = full_pipeline.fit_transform(netflix)\n",
    "netflix_prepared"
   ]
  },
  {
   "cell_type": "code",
   "execution_count": 114,
   "metadata": {},
   "outputs": [
    {
     "data": {
      "text/plain": [
       "(525, 112)"
      ]
     },
     "execution_count": 114,
     "metadata": {},
     "output_type": "execute_result"
    }
   ],
   "source": [
    "netflix_prepared.shape"
   ]
  },
  {
   "cell_type": "code",
   "execution_count": 115,
   "metadata": {},
   "outputs": [
    {
     "data": {
      "text/plain": [
       "(525,)"
      ]
     },
     "execution_count": 115,
     "metadata": {},
     "output_type": "execute_result"
    }
   ],
   "source": [
    "netflix_labels.shape"
   ]
  },
  {
   "cell_type": "markdown",
   "metadata": {},
   "source": [
    "# Select and train a model"
   ]
  },
  {
   "cell_type": "code",
   "execution_count": 116,
   "metadata": {},
   "outputs": [
    {
     "data": {
      "text/plain": [
       "LinearRegression()"
      ]
     },
     "execution_count": 116,
     "metadata": {},
     "output_type": "execute_result"
    }
   ],
   "source": [
    "from sklearn.linear_model import LinearRegression\n",
    "\n",
    "lin_reg = LinearRegression()\n",
    "lin_reg.fit(netflix_prepared, netflix_labels)"
   ]
  },
  {
   "cell_type": "code",
   "execution_count": 117,
   "metadata": {},
   "outputs": [
    {
     "name": "stdout",
     "output_type": "stream",
     "text": [
      "Predictions: [92.86694336 93.49609375 72.27612305 91.05444336 91.13830566]\n"
     ]
    }
   ],
   "source": [
    "# let's try the full pipeline on a few training instances\n",
    "some_data = netflix.iloc[:5]\n",
    "some_labels = netflix_labels.iloc[:5]\n",
    "some_data_prepared = full_pipeline.transform(some_data)\n",
    "\n",
    "print(\"Predictions:\", lin_reg.predict(some_data_prepared))"
   ]
  },
  {
   "cell_type": "markdown",
   "metadata": {},
   "source": [
    "Compare against the actual values:"
   ]
  },
  {
   "cell_type": "code",
   "execution_count": 118,
   "metadata": {},
   "outputs": [
    {
     "name": "stdout",
     "output_type": "stream",
     "text": [
      "Labels: [93, 92, 73, 95, 87]\n"
     ]
    }
   ],
   "source": [
    "print(\"Labels:\", list(some_labels))"
   ]
  },
  {
   "cell_type": "code",
   "execution_count": 119,
   "metadata": {},
   "outputs": [
    {
     "data": {
      "text/plain": [
       "array([[ 0.23757285, -0.81105452, -0.07066831,  0.        ,  0.        ,\n",
       "         0.        ,  0.        ,  0.        ,  0.        ,  0.        ,\n",
       "         0.        ,  0.        ,  0.        ,  0.        ,  0.        ,\n",
       "         0.        ,  0.        ,  0.        ,  0.        ,  0.        ,\n",
       "         0.        ,  0.        ,  0.        ,  0.        ,  0.        ,\n",
       "         0.        ,  0.        ,  0.        ,  0.        ,  0.        ,\n",
       "         0.        ,  0.        ,  0.        ,  0.        ,  0.        ,\n",
       "         0.        ,  0.        ,  0.        ,  0.        ,  0.        ,\n",
       "         0.        ,  0.        ,  0.        ,  0.        ,  0.        ,\n",
       "         0.        ,  1.        ,  0.        ,  0.        ,  0.        ,\n",
       "         0.        ,  0.        ,  0.        ,  0.        ,  0.        ,\n",
       "         0.        ,  0.        ,  0.        ,  0.        ,  0.        ,\n",
       "         0.        ,  0.        ,  0.        ,  0.        ,  0.        ,\n",
       "         0.        ,  0.        ,  0.        ,  0.        ,  0.        ,\n",
       "         0.        ,  0.        ,  0.        ,  0.        ,  0.        ,\n",
       "         0.        ,  0.        ,  0.        ,  0.        ,  0.        ,\n",
       "         0.        ,  0.        ,  0.        ,  0.        ,  0.        ,\n",
       "         0.        ,  0.        ,  0.        ,  0.        ,  0.        ,\n",
       "         0.        ,  0.        ,  0.        ,  0.        ,  0.        ,\n",
       "         0.        ,  0.        ,  0.        ,  0.        ,  0.        ,\n",
       "         0.        ,  0.        ,  0.        ,  0.        ,  0.        ,\n",
       "         0.        ,  0.        ,  0.        ,  0.        ,  0.        ,\n",
       "         0.        ,  0.        ],\n",
       "       [-0.06812751, -1.32626297, -0.07066831,  0.        ,  0.        ,\n",
       "         0.        ,  0.        ,  0.        ,  0.        ,  0.        ,\n",
       "         0.        ,  0.        ,  0.        ,  0.        ,  0.        ,\n",
       "         0.        ,  0.        ,  0.        ,  0.        ,  0.        ,\n",
       "         0.        ,  0.        ,  0.        ,  0.        ,  0.        ,\n",
       "         0.        ,  0.        ,  0.        ,  1.        ,  0.        ,\n",
       "         0.        ,  0.        ,  0.        ,  0.        ,  0.        ,\n",
       "         0.        ,  0.        ,  0.        ,  0.        ,  0.        ,\n",
       "         0.        ,  0.        ,  0.        ,  0.        ,  0.        ,\n",
       "         0.        ,  0.        ,  0.        ,  0.        ,  0.        ,\n",
       "         0.        ,  0.        ,  0.        ,  0.        ,  0.        ,\n",
       "         0.        ,  0.        ,  0.        ,  0.        ,  0.        ,\n",
       "         0.        ,  0.        ,  0.        ,  0.        ,  0.        ,\n",
       "         0.        ,  0.        ,  0.        ,  0.        ,  0.        ,\n",
       "         0.        ,  0.        ,  0.        ,  0.        ,  0.        ,\n",
       "         0.        ,  0.        ,  0.        ,  0.        ,  0.        ,\n",
       "         0.        ,  0.        ,  0.        ,  0.        ,  0.        ,\n",
       "         0.        ,  0.        ,  0.        ,  0.        ,  0.        ,\n",
       "         0.        ,  0.        ,  0.        ,  0.        ,  0.        ,\n",
       "         0.        ,  0.        ,  0.        ,  0.        ,  0.        ,\n",
       "         0.        ,  0.        ,  0.        ,  0.        ,  0.        ,\n",
       "         0.        ,  0.        ,  0.        ,  0.        ,  0.        ,\n",
       "         0.        ,  0.        ],\n",
       "       [ 0.54327321,  1.11099618, -0.79813616,  0.        ,  0.        ,\n",
       "         0.        ,  0.        ,  0.        ,  0.        ,  0.        ,\n",
       "         0.        ,  0.        ,  0.        ,  0.        ,  0.        ,\n",
       "         0.        ,  0.        ,  0.        ,  0.        ,  0.        ,\n",
       "         0.        ,  0.        ,  0.        ,  0.        ,  0.        ,\n",
       "         0.        ,  0.        ,  0.        ,  0.        ,  0.        ,\n",
       "         0.        ,  0.        ,  0.        ,  0.        ,  0.        ,\n",
       "         0.        ,  0.        ,  0.        ,  0.        ,  0.        ,\n",
       "         0.        ,  0.        ,  0.        ,  0.        ,  0.        ,\n",
       "         1.        ,  0.        ,  0.        ,  0.        ,  0.        ,\n",
       "         0.        ,  0.        ,  0.        ,  0.        ,  0.        ,\n",
       "         0.        ,  0.        ,  0.        ,  0.        ,  0.        ,\n",
       "         0.        ,  0.        ,  0.        ,  0.        ,  0.        ,\n",
       "         0.        ,  0.        ,  0.        ,  0.        ,  0.        ,\n",
       "         0.        ,  0.        ,  0.        ,  0.        ,  0.        ,\n",
       "         0.        ,  0.        ,  0.        ,  0.        ,  0.        ,\n",
       "         0.        ,  0.        ,  0.        ,  0.        ,  0.        ,\n",
       "         0.        ,  0.        ,  0.        ,  0.        ,  0.        ,\n",
       "         0.        ,  0.        ,  0.        ,  0.        ,  0.        ,\n",
       "         0.        ,  0.        ,  0.        ,  0.        ,  0.        ,\n",
       "         0.        ,  0.        ,  0.        ,  0.        ,  0.        ,\n",
       "         0.        ,  0.        ,  0.        ,  0.        ,  0.        ,\n",
       "         0.        ,  0.        ],\n",
       "       [-0.98522859,  0.70225147, -0.07066831,  0.        ,  0.        ,\n",
       "         0.        ,  0.        ,  0.        ,  0.        ,  0.        ,\n",
       "         0.        ,  0.        ,  0.        ,  0.        ,  0.        ,\n",
       "         0.        ,  0.        ,  0.        ,  0.        ,  0.        ,\n",
       "         0.        ,  0.        ,  0.        ,  0.        ,  0.        ,\n",
       "         0.        ,  0.        ,  0.        ,  0.        ,  0.        ,\n",
       "         0.        ,  0.        ,  0.        ,  0.        ,  0.        ,\n",
       "         0.        ,  0.        ,  0.        ,  0.        ,  0.        ,\n",
       "         0.        ,  0.        ,  0.        ,  0.        ,  0.        ,\n",
       "         0.        ,  0.        ,  0.        ,  0.        ,  0.        ,\n",
       "         0.        ,  0.        ,  0.        ,  0.        ,  0.        ,\n",
       "         0.        ,  0.        ,  0.        ,  0.        ,  0.        ,\n",
       "         0.        ,  0.        ,  0.        ,  0.        ,  0.        ,\n",
       "         0.        ,  0.        ,  0.        ,  0.        ,  0.        ,\n",
       "         0.        ,  0.        ,  0.        ,  0.        ,  0.        ,\n",
       "         0.        ,  0.        ,  0.        ,  0.        ,  0.        ,\n",
       "         0.        ,  1.        ,  0.        ,  0.        ,  0.        ,\n",
       "         0.        ,  0.        ,  0.        ,  0.        ,  0.        ,\n",
       "         0.        ,  0.        ,  0.        ,  0.        ,  0.        ,\n",
       "         0.        ,  0.        ,  0.        ,  0.        ,  0.        ,\n",
       "         0.        ,  0.        ,  0.        ,  0.        ,  0.        ,\n",
       "         0.        ,  0.        ,  0.        ,  0.        ,  0.        ,\n",
       "         0.        ,  0.        ],\n",
       "       [ 0.03377261,  0.17373506, -0.07066831,  0.        ,  0.        ,\n",
       "         0.        ,  0.        ,  0.        ,  0.        ,  0.        ,\n",
       "         0.        ,  0.        ,  0.        ,  0.        ,  0.        ,\n",
       "         0.        ,  0.        ,  0.        ,  0.        ,  0.        ,\n",
       "         0.        ,  0.        ,  0.        ,  0.        ,  0.        ,\n",
       "         0.        ,  0.        ,  0.        ,  0.        ,  0.        ,\n",
       "         0.        ,  0.        ,  0.        ,  0.        ,  0.        ,\n",
       "         0.        ,  0.        ,  0.        ,  0.        ,  0.        ,\n",
       "         0.        ,  0.        ,  0.        ,  0.        ,  0.        ,\n",
       "         1.        ,  0.        ,  0.        ,  0.        ,  0.        ,\n",
       "         0.        ,  0.        ,  0.        ,  0.        ,  0.        ,\n",
       "         0.        ,  0.        ,  0.        ,  0.        ,  0.        ,\n",
       "         0.        ,  0.        ,  0.        ,  0.        ,  0.        ,\n",
       "         0.        ,  0.        ,  0.        ,  0.        ,  0.        ,\n",
       "         0.        ,  0.        ,  0.        ,  0.        ,  0.        ,\n",
       "         0.        ,  0.        ,  0.        ,  0.        ,  0.        ,\n",
       "         0.        ,  0.        ,  0.        ,  0.        ,  0.        ,\n",
       "         0.        ,  0.        ,  0.        ,  0.        ,  0.        ,\n",
       "         0.        ,  0.        ,  0.        ,  0.        ,  0.        ,\n",
       "         0.        ,  0.        ,  0.        ,  0.        ,  0.        ,\n",
       "         0.        ,  0.        ,  0.        ,  0.        ,  0.        ,\n",
       "         0.        ,  0.        ,  0.        ,  0.        ,  0.        ,\n",
       "         0.        ,  0.        ]])"
      ]
     },
     "execution_count": 119,
     "metadata": {},
     "output_type": "execute_result"
    }
   ],
   "source": [
    "some_data_prepared"
   ]
  },
  {
   "cell_type": "code",
   "execution_count": 120,
   "metadata": {},
   "outputs": [
    {
     "data": {
      "text/plain": [
       "6.291104426853073"
      ]
     },
     "execution_count": 120,
     "metadata": {},
     "output_type": "execute_result"
    }
   ],
   "source": [
    "from sklearn.metrics import mean_squared_error\n",
    "\n",
    "netflix_predictions = lin_reg.predict(netflix_prepared)\n",
    "lin_mse = mean_squared_error(netflix_labels, netflix_predictions)\n",
    "lin_rmse = np.sqrt(lin_mse)\n",
    "lin_rmse"
   ]
  },
  {
   "cell_type": "code",
   "execution_count": 121,
   "metadata": {},
   "outputs": [
    {
     "data": {
      "text/plain": [
       "4.382465122767857"
      ]
     },
     "execution_count": 121,
     "metadata": {},
     "output_type": "execute_result"
    }
   ],
   "source": [
    "from sklearn.metrics import mean_absolute_error\n",
    "\n",
    "lin_mae = mean_absolute_error(netflix_labels, netflix_predictions)\n",
    "lin_mae"
   ]
  },
  {
   "cell_type": "code",
   "execution_count": 147,
   "metadata": {},
   "outputs": [
    {
     "data": {
      "text/plain": [
       "DecisionTreeRegressor(random_state=42)"
      ]
     },
     "execution_count": 147,
     "metadata": {},
     "output_type": "execute_result"
    }
   ],
   "source": [
    "from sklearn.tree import DecisionTreeRegressor\n",
    "\n",
    "tree_reg = DecisionTreeRegressor(random_state=42)\n",
    "tree_reg.fit(netflix_prepared, netflix_labels)"
   ]
  },
  {
   "cell_type": "code",
   "execution_count": 148,
   "metadata": {},
   "outputs": [
    {
     "data": {
      "text/plain": [
       "0.0"
      ]
     },
     "execution_count": 148,
     "metadata": {},
     "output_type": "execute_result"
    }
   ],
   "source": [
    "netflix_predictions = tree_reg.predict(netflix_prepared)\n",
    "tree_mse = mean_squared_error(netflix_labels, netflix_predictions)\n",
    "tree_rmse = np.sqrt(tree_mse)\n",
    "tree_rmse"
   ]
  },
  {
   "cell_type": "markdown",
   "metadata": {},
   "source": [
    "# Fine-tune your model"
   ]
  },
  {
   "cell_type": "code",
   "execution_count": 149,
   "metadata": {
    "collapsed": true
   },
   "outputs": [],
   "source": [
    "from sklearn.model_selection import cross_val_score\n",
    "\n",
    "scores = cross_val_score(tree_reg, netflix_prepared, netflix_labels,\n",
    "                         scoring=\"neg_mean_squared_error\", cv=10)\n",
    "tree_rmse_scores = np.sqrt(-scores)"
   ]
  },
  {
   "cell_type": "code",
   "execution_count": 150,
   "metadata": {},
   "outputs": [
    {
     "name": "stdout",
     "output_type": "stream",
     "text": [
      "Scores: [ 8.15533163 10.56248256 20.77870826  8.68310005  8.84243627 14.23632948\n",
      "  9.44213144  9.03092976 15.33974225  7.0492771 ]\n",
      "Mean: 11.21204687933915\n",
      "Standard deviation: 4.058321789597893\n"
     ]
    }
   ],
   "source": [
    "def display_scores(scores):\n",
    "    print(\"Scores:\", scores)\n",
    "    print(\"Mean:\", scores.mean())\n",
    "    print(\"Standard deviation:\", scores.std())\n",
    "\n",
    "display_scores(tree_rmse_scores)"
   ]
  },
  {
   "cell_type": "code",
   "execution_count": 151,
   "metadata": {},
   "outputs": [
    {
     "name": "stdout",
     "output_type": "stream",
     "text": [
      "Scores: [2.81310025e+12 3.18809211e+11 2.59129914e+13 2.15374775e+13\n",
      " 3.74414230e+12 4.63405185e+12 3.02745805e+12 2.16345868e+12\n",
      " 1.25702016e+01 1.11062307e+13]\n",
      "Mean: 7525771988018.722\n",
      "Standard deviation: 8658384630662.583\n"
     ]
    }
   ],
   "source": [
    "lin_scores = cross_val_score(lin_reg, netflix_prepared, netflix_labels,\n",
    "                             scoring=\"neg_mean_squared_error\", cv=10)\n",
    "lin_rmse_scores = np.sqrt(-lin_scores)\n",
    "display_scores(lin_rmse_scores)"
   ]
  },
  {
   "cell_type": "code",
   "execution_count": 152,
   "metadata": {},
   "outputs": [
    {
     "data": {
      "text/plain": [
       "RandomForestRegressor(random_state=42)"
      ]
     },
     "execution_count": 152,
     "metadata": {},
     "output_type": "execute_result"
    }
   ],
   "source": [
    "from sklearn.ensemble import RandomForestRegressor\n",
    "\n",
    "forest_reg = RandomForestRegressor(random_state=42)\n",
    "forest_reg.fit(netflix_prepared, netflix_labels)"
   ]
  },
  {
   "cell_type": "code",
   "execution_count": 153,
   "metadata": {},
   "outputs": [
    {
     "data": {
      "text/plain": [
       "2.8277052449611775"
      ]
     },
     "execution_count": 153,
     "metadata": {},
     "output_type": "execute_result"
    }
   ],
   "source": [
    "netflix_predictions = forest_reg.predict(netflix_prepared)\n",
    "forest_mse = mean_squared_error(netflix_labels, netflix_predictions)\n",
    "forest_rmse = np.sqrt(forest_mse)\n",
    "forest_rmse"
   ]
  },
  {
   "cell_type": "code",
   "execution_count": 129,
   "metadata": {},
   "outputs": [
    {
     "name": "stdout",
     "output_type": "stream",
     "text": [
      "Scores: [ 5.74422039  7.67312475 11.5266162   6.23295275  6.93722785  8.45592009\n",
      "  6.39328524  7.03003392 12.25223763  6.19934565]\n",
      "Mean: 7.844496447919118\n",
      "Standard deviation: 2.160940734522787\n"
     ]
    }
   ],
   "source": [
    "from sklearn.model_selection import cross_val_score\n",
    "\n",
    "forest_scores = cross_val_score(forest_reg, netflix_prepared, netflix_labels,\n",
    "                                scoring=\"neg_mean_squared_error\", cv=10)\n",
    "forest_rmse_scores = np.sqrt(-forest_scores)\n",
    "display_scores(forest_rmse_scores)"
   ]
  },
  {
   "cell_type": "code",
   "execution_count": 130,
   "metadata": {},
   "outputs": [
    {
     "data": {
      "text/plain": [
       "count    1.000000e+01\n",
       "mean     7.525772e+12\n",
       "std      9.126739e+12\n",
       "min      1.257020e+01\n",
       "25%      2.325869e+12\n",
       "50%      3.385800e+12\n",
       "75%      9.488186e+12\n",
       "max      2.591299e+13\n",
       "dtype: float64"
      ]
     },
     "execution_count": 130,
     "metadata": {},
     "output_type": "execute_result"
    }
   ],
   "source": [
    "scores = cross_val_score(lin_reg, netflix_prepared, netflix_labels, scoring=\"neg_mean_squared_error\", cv=10)\n",
    "pd.Series(np.sqrt(-scores)).describe()"
   ]
  },
  {
   "cell_type": "code",
   "execution_count": 131,
   "metadata": {},
   "outputs": [
    {
     "data": {
      "text/plain": [
       "15.869845808767508"
      ]
     },
     "execution_count": 131,
     "metadata": {},
     "output_type": "execute_result"
    }
   ],
   "source": [
    "from sklearn.svm import SVR\n",
    "\n",
    "svm_reg_rbf = SVR(kernel=\"rbf\")\n",
    "svm_reg_rbf.fit(netflix_prepared, netflix_labels)\n",
    "netflix_predictions = svm_reg_rbf.predict(netflix_prepared)\n",
    "svm_mse = mean_squared_error(netflix_labels, netflix_predictions)\n",
    "svm_rmse = np.sqrt(svm_mse)\n",
    "svm_rmse"
   ]
  },
  {
   "cell_type": "code",
   "execution_count": 132,
   "metadata": {},
   "outputs": [
    {
     "data": {
      "text/plain": [
       "15.869845808767508"
      ]
     },
     "execution_count": 132,
     "metadata": {},
     "output_type": "execute_result"
    }
   ],
   "source": [
    "from sklearn.svm import SVR\n",
    "\n",
    "svm_reg = SVR(kernel=\"linear\")\n",
    "svm_reg.fit(netflix_prepared, netflix_labels)\n",
    "housing_predictions = svm_reg.predict(netflix_prepared)\n",
    "svm_mse = mean_squared_error(netflix_labels, netflix_predictions)\n",
    "svm_rmse = np.sqrt(svm_mse)\n",
    "svm_rmse"
   ]
  },
  {
   "cell_type": "code",
   "execution_count": 133,
   "metadata": {},
   "outputs": [
    {
     "data": {
      "text/plain": [
       "GridSearchCV(cv=5, estimator=RandomForestRegressor(random_state=42),\n",
       "             param_grid=[{'max_features': [2, 4, 6, 8],\n",
       "                          'n_estimators': [3, 10, 30]},\n",
       "                         {'bootstrap': [False], 'max_features': [2, 3, 4],\n",
       "                          'n_estimators': [3, 10]}],\n",
       "             return_train_score=True, scoring='neg_mean_squared_error')"
      ]
     },
     "execution_count": 133,
     "metadata": {},
     "output_type": "execute_result"
    }
   ],
   "source": [
    "from sklearn.model_selection import GridSearchCV\n",
    "\n",
    "param_grid = [\n",
    "    # try 12 (3×4) combinations of hyperparameters\n",
    "    {'n_estimators': [3, 10, 30], 'max_features': [2, 4, 6, 8]},\n",
    "    # then try 6 (2×3) combinations with bootstrap set as False\n",
    "    {'bootstrap': [False], 'n_estimators': [3, 10], 'max_features': [2, 3, 4]},\n",
    "  ]\n",
    "\n",
    "forest_reg = RandomForestRegressor(random_state=42)\n",
    "# train across 5 folds, that's a total of (12+6)*5=90 rounds of training \n",
    "grid_search = GridSearchCV(forest_reg, param_grid, cv=5,\n",
    "                           scoring='neg_mean_squared_error', return_train_score=True)\n",
    "grid_search.fit(netflix_prepared, netflix_labels)"
   ]
  },
  {
   "cell_type": "markdown",
   "metadata": {},
   "source": [
    "The best hyperparameter combination found:"
   ]
  },
  {
   "cell_type": "code",
   "execution_count": 134,
   "metadata": {},
   "outputs": [
    {
     "data": {
      "text/plain": [
       "{'max_features': 8, 'n_estimators': 30}"
      ]
     },
     "execution_count": 134,
     "metadata": {},
     "output_type": "execute_result"
    }
   ],
   "source": [
    "grid_search.best_params_"
   ]
  },
  {
   "cell_type": "code",
   "execution_count": 135,
   "metadata": {},
   "outputs": [
    {
     "data": {
      "text/plain": [
       "RandomForestRegressor(max_features=8, n_estimators=30, random_state=42)"
      ]
     },
     "execution_count": 135,
     "metadata": {},
     "output_type": "execute_result"
    }
   ],
   "source": [
    "grid_search.best_estimator_"
   ]
  },
  {
   "cell_type": "markdown",
   "metadata": {},
   "source": [
    "Let's look at the score of each hyperparameter combination tested during the grid search:"
   ]
  },
  {
   "cell_type": "code",
   "execution_count": 136,
   "metadata": {},
   "outputs": [
    {
     "name": "stdout",
     "output_type": "stream",
     "text": [
      "13.78315819162828 {'max_features': 2, 'n_estimators': 3}\n",
      "12.490888107508036 {'max_features': 2, 'n_estimators': 10}\n",
      "11.382491521082422 {'max_features': 2, 'n_estimators': 30}\n",
      "14.157518988697982 {'max_features': 4, 'n_estimators': 3}\n",
      "12.230603302489095 {'max_features': 4, 'n_estimators': 10}\n",
      "11.295545406563866 {'max_features': 4, 'n_estimators': 30}\n",
      "13.323917310114638 {'max_features': 6, 'n_estimators': 3}\n",
      "11.662792281847594 {'max_features': 6, 'n_estimators': 10}\n",
      "10.875145319226116 {'max_features': 6, 'n_estimators': 30}\n",
      "14.19038350880568 {'max_features': 8, 'n_estimators': 3}\n",
      "11.505669823840684 {'max_features': 8, 'n_estimators': 10}\n",
      "10.784726805771774 {'max_features': 8, 'n_estimators': 30}\n",
      "14.743370853606857 {'bootstrap': False, 'max_features': 2, 'n_estimators': 3}\n",
      "12.749138532988548 {'bootstrap': False, 'max_features': 2, 'n_estimators': 10}\n",
      "13.307284077670001 {'bootstrap': False, 'max_features': 3, 'n_estimators': 3}\n",
      "12.035192838781882 {'bootstrap': False, 'max_features': 3, 'n_estimators': 10}\n",
      "13.34115643512417 {'bootstrap': False, 'max_features': 4, 'n_estimators': 3}\n",
      "11.298308132931526 {'bootstrap': False, 'max_features': 4, 'n_estimators': 10}\n"
     ]
    }
   ],
   "source": [
    "cvres = grid_search.cv_results_\n",
    "for mean_score, params in zip(cvres[\"mean_test_score\"], cvres[\"params\"]):\n",
    "    print(np.sqrt(-mean_score), params)"
   ]
  },
  {
   "cell_type": "code",
   "execution_count": 137,
   "metadata": {},
   "outputs": [
    {
     "data": {
      "text/html": [
       "<div>\n",
       "<style scoped>\n",
       "    .dataframe tbody tr th:only-of-type {\n",
       "        vertical-align: middle;\n",
       "    }\n",
       "\n",
       "    .dataframe tbody tr th {\n",
       "        vertical-align: top;\n",
       "    }\n",
       "\n",
       "    .dataframe thead th {\n",
       "        text-align: right;\n",
       "    }\n",
       "</style>\n",
       "<table border=\"1\" class=\"dataframe\">\n",
       "  <thead>\n",
       "    <tr style=\"text-align: right;\">\n",
       "      <th></th>\n",
       "      <th>mean_fit_time</th>\n",
       "      <th>std_fit_time</th>\n",
       "      <th>mean_score_time</th>\n",
       "      <th>std_score_time</th>\n",
       "      <th>param_max_features</th>\n",
       "      <th>param_n_estimators</th>\n",
       "      <th>param_bootstrap</th>\n",
       "      <th>params</th>\n",
       "      <th>split0_test_score</th>\n",
       "      <th>split1_test_score</th>\n",
       "      <th>...</th>\n",
       "      <th>mean_test_score</th>\n",
       "      <th>std_test_score</th>\n",
       "      <th>rank_test_score</th>\n",
       "      <th>split0_train_score</th>\n",
       "      <th>split1_train_score</th>\n",
       "      <th>split2_train_score</th>\n",
       "      <th>split3_train_score</th>\n",
       "      <th>split4_train_score</th>\n",
       "      <th>mean_train_score</th>\n",
       "      <th>std_train_score</th>\n",
       "    </tr>\n",
       "  </thead>\n",
       "  <tbody>\n",
       "    <tr>\n",
       "      <th>0</th>\n",
       "      <td>0.018456</td>\n",
       "      <td>0.011509</td>\n",
       "      <td>0.001657</td>\n",
       "      <td>0.000369</td>\n",
       "      <td>2</td>\n",
       "      <td>3</td>\n",
       "      <td>NaN</td>\n",
       "      <td>{'max_features': 2, 'n_estimators': 3}</td>\n",
       "      <td>-145.171429</td>\n",
       "      <td>-225.543915</td>\n",
       "      <td>...</td>\n",
       "      <td>-189.975450</td>\n",
       "      <td>27.666404</td>\n",
       "      <td>15</td>\n",
       "      <td>-45.204762</td>\n",
       "      <td>-69.165873</td>\n",
       "      <td>-45.107937</td>\n",
       "      <td>-51.160317</td>\n",
       "      <td>-51.291005</td>\n",
       "      <td>-52.385979</td>\n",
       "      <td>8.818229</td>\n",
       "    </tr>\n",
       "    <tr>\n",
       "      <th>1</th>\n",
       "      <td>0.036467</td>\n",
       "      <td>0.012270</td>\n",
       "      <td>0.002604</td>\n",
       "      <td>0.000482</td>\n",
       "      <td>2</td>\n",
       "      <td>10</td>\n",
       "      <td>NaN</td>\n",
       "      <td>{'max_features': 2, 'n_estimators': 10}</td>\n",
       "      <td>-110.900095</td>\n",
       "      <td>-184.801143</td>\n",
       "      <td>...</td>\n",
       "      <td>-156.022286</td>\n",
       "      <td>30.047132</td>\n",
       "      <td>10</td>\n",
       "      <td>-22.781714</td>\n",
       "      <td>-36.469071</td>\n",
       "      <td>-26.586762</td>\n",
       "      <td>-30.978810</td>\n",
       "      <td>-25.947214</td>\n",
       "      <td>-28.552714</td>\n",
       "      <td>4.743684</td>\n",
       "    </tr>\n",
       "    <tr>\n",
       "      <th>2</th>\n",
       "      <td>0.353753</td>\n",
       "      <td>0.116244</td>\n",
       "      <td>0.021931</td>\n",
       "      <td>0.005729</td>\n",
       "      <td>2</td>\n",
       "      <td>30</td>\n",
       "      <td>NaN</td>\n",
       "      <td>{'max_features': 2, 'n_estimators': 30}</td>\n",
       "      <td>-97.230169</td>\n",
       "      <td>-134.723429</td>\n",
       "      <td>...</td>\n",
       "      <td>-129.561113</td>\n",
       "      <td>26.104218</td>\n",
       "      <td>5</td>\n",
       "      <td>-19.209913</td>\n",
       "      <td>-25.434865</td>\n",
       "      <td>-22.055712</td>\n",
       "      <td>-20.261651</td>\n",
       "      <td>-17.686667</td>\n",
       "      <td>-20.929761</td>\n",
       "      <td>2.664043</td>\n",
       "    </tr>\n",
       "    <tr>\n",
       "      <th>3</th>\n",
       "      <td>0.059721</td>\n",
       "      <td>0.023219</td>\n",
       "      <td>0.009372</td>\n",
       "      <td>0.003650</td>\n",
       "      <td>4</td>\n",
       "      <td>3</td>\n",
       "      <td>NaN</td>\n",
       "      <td>{'max_features': 4, 'n_estimators': 3}</td>\n",
       "      <td>-120.953439</td>\n",
       "      <td>-165.455026</td>\n",
       "      <td>...</td>\n",
       "      <td>-200.435344</td>\n",
       "      <td>82.976824</td>\n",
       "      <td>16</td>\n",
       "      <td>-40.400529</td>\n",
       "      <td>-31.047619</td>\n",
       "      <td>-60.716667</td>\n",
       "      <td>-41.798942</td>\n",
       "      <td>-67.457407</td>\n",
       "      <td>-48.284233</td>\n",
       "      <td>13.590354</td>\n",
       "    </tr>\n",
       "    <tr>\n",
       "      <th>4</th>\n",
       "      <td>0.086109</td>\n",
       "      <td>0.006774</td>\n",
       "      <td>0.011445</td>\n",
       "      <td>0.005758</td>\n",
       "      <td>4</td>\n",
       "      <td>10</td>\n",
       "      <td>NaN</td>\n",
       "      <td>{'max_features': 4, 'n_estimators': 10}</td>\n",
       "      <td>-123.113810</td>\n",
       "      <td>-97.421524</td>\n",
       "      <td>...</td>\n",
       "      <td>-149.587657</td>\n",
       "      <td>57.960124</td>\n",
       "      <td>9</td>\n",
       "      <td>-23.781833</td>\n",
       "      <td>-17.082667</td>\n",
       "      <td>-28.214571</td>\n",
       "      <td>-22.503238</td>\n",
       "      <td>-45.335714</td>\n",
       "      <td>-27.383605</td>\n",
       "      <td>9.652656</td>\n",
       "    </tr>\n",
       "    <tr>\n",
       "      <th>5</th>\n",
       "      <td>0.284619</td>\n",
       "      <td>0.036014</td>\n",
       "      <td>0.028025</td>\n",
       "      <td>0.017011</td>\n",
       "      <td>4</td>\n",
       "      <td>30</td>\n",
       "      <td>NaN</td>\n",
       "      <td>{'max_features': 4, 'n_estimators': 30}</td>\n",
       "      <td>-114.199439</td>\n",
       "      <td>-100.856296</td>\n",
       "      <td>...</td>\n",
       "      <td>-127.589346</td>\n",
       "      <td>38.143413</td>\n",
       "      <td>3</td>\n",
       "      <td>-20.444730</td>\n",
       "      <td>-17.618653</td>\n",
       "      <td>-18.089124</td>\n",
       "      <td>-18.010545</td>\n",
       "      <td>-25.114659</td>\n",
       "      <td>-19.855542</td>\n",
       "      <td>2.811881</td>\n",
       "    </tr>\n",
       "    <tr>\n",
       "      <th>6</th>\n",
       "      <td>0.030724</td>\n",
       "      <td>0.004398</td>\n",
       "      <td>0.005249</td>\n",
       "      <td>0.001461</td>\n",
       "      <td>6</td>\n",
       "      <td>3</td>\n",
       "      <td>NaN</td>\n",
       "      <td>{'max_features': 6, 'n_estimators': 3}</td>\n",
       "      <td>-65.736508</td>\n",
       "      <td>-236.198942</td>\n",
       "      <td>...</td>\n",
       "      <td>-177.526772</td>\n",
       "      <td>64.430254</td>\n",
       "      <td>13</td>\n",
       "      <td>-30.713492</td>\n",
       "      <td>-71.186243</td>\n",
       "      <td>-56.849735</td>\n",
       "      <td>-45.492063</td>\n",
       "      <td>-47.147619</td>\n",
       "      <td>-50.277831</td>\n",
       "      <td>13.385192</td>\n",
       "    </tr>\n",
       "    <tr>\n",
       "      <th>7</th>\n",
       "      <td>0.119526</td>\n",
       "      <td>0.040310</td>\n",
       "      <td>0.009238</td>\n",
       "      <td>0.001985</td>\n",
       "      <td>6</td>\n",
       "      <td>10</td>\n",
       "      <td>NaN</td>\n",
       "      <td>{'max_features': 6, 'n_estimators': 10}</td>\n",
       "      <td>-89.850381</td>\n",
       "      <td>-124.624286</td>\n",
       "      <td>...</td>\n",
       "      <td>-136.020724</td>\n",
       "      <td>37.445087</td>\n",
       "      <td>7</td>\n",
       "      <td>-25.378690</td>\n",
       "      <td>-27.556000</td>\n",
       "      <td>-23.909119</td>\n",
       "      <td>-28.172595</td>\n",
       "      <td>-23.956357</td>\n",
       "      <td>-25.794552</td>\n",
       "      <td>1.781266</td>\n",
       "    </tr>\n",
       "    <tr>\n",
       "      <th>8</th>\n",
       "      <td>0.263660</td>\n",
       "      <td>0.039900</td>\n",
       "      <td>0.017405</td>\n",
       "      <td>0.002581</td>\n",
       "      <td>6</td>\n",
       "      <td>30</td>\n",
       "      <td>NaN</td>\n",
       "      <td>{'max_features': 6, 'n_estimators': 30}</td>\n",
       "      <td>-97.578807</td>\n",
       "      <td>-105.300878</td>\n",
       "      <td>...</td>\n",
       "      <td>-118.268786</td>\n",
       "      <td>22.897397</td>\n",
       "      <td>2</td>\n",
       "      <td>-20.343466</td>\n",
       "      <td>-20.186307</td>\n",
       "      <td>-17.957630</td>\n",
       "      <td>-19.744796</td>\n",
       "      <td>-13.294206</td>\n",
       "      <td>-18.305281</td>\n",
       "      <td>2.645615</td>\n",
       "    </tr>\n",
       "    <tr>\n",
       "      <th>9</th>\n",
       "      <td>0.032615</td>\n",
       "      <td>0.006785</td>\n",
       "      <td>0.005355</td>\n",
       "      <td>0.002237</td>\n",
       "      <td>8</td>\n",
       "      <td>3</td>\n",
       "      <td>NaN</td>\n",
       "      <td>{'max_features': 8, 'n_estimators': 3}</td>\n",
       "      <td>-127.681481</td>\n",
       "      <td>-198.247619</td>\n",
       "      <td>...</td>\n",
       "      <td>-201.366984</td>\n",
       "      <td>45.995502</td>\n",
       "      <td>17</td>\n",
       "      <td>-26.715873</td>\n",
       "      <td>-42.741005</td>\n",
       "      <td>-40.212963</td>\n",
       "      <td>-66.487566</td>\n",
       "      <td>-50.438360</td>\n",
       "      <td>-45.319153</td>\n",
       "      <td>13.062236</td>\n",
       "    </tr>\n",
       "    <tr>\n",
       "      <th>10</th>\n",
       "      <td>0.088516</td>\n",
       "      <td>0.020176</td>\n",
       "      <td>0.007524</td>\n",
       "      <td>0.000941</td>\n",
       "      <td>8</td>\n",
       "      <td>10</td>\n",
       "      <td>NaN</td>\n",
       "      <td>{'max_features': 8, 'n_estimators': 10}</td>\n",
       "      <td>-88.013619</td>\n",
       "      <td>-129.432286</td>\n",
       "      <td>...</td>\n",
       "      <td>-132.380438</td>\n",
       "      <td>38.846618</td>\n",
       "      <td>6</td>\n",
       "      <td>-16.025833</td>\n",
       "      <td>-24.300857</td>\n",
       "      <td>-20.468429</td>\n",
       "      <td>-25.667595</td>\n",
       "      <td>-29.880190</td>\n",
       "      <td>-23.268581</td>\n",
       "      <td>4.708131</td>\n",
       "    </tr>\n",
       "    <tr>\n",
       "      <th>11</th>\n",
       "      <td>0.316308</td>\n",
       "      <td>0.074900</td>\n",
       "      <td>0.021003</td>\n",
       "      <td>0.004937</td>\n",
       "      <td>8</td>\n",
       "      <td>30</td>\n",
       "      <td>NaN</td>\n",
       "      <td>{'max_features': 8, 'n_estimators': 30}</td>\n",
       "      <td>-91.725820</td>\n",
       "      <td>-104.829005</td>\n",
       "      <td>...</td>\n",
       "      <td>-116.310332</td>\n",
       "      <td>29.592997</td>\n",
       "      <td>1</td>\n",
       "      <td>-15.873839</td>\n",
       "      <td>-16.480860</td>\n",
       "      <td>-17.638926</td>\n",
       "      <td>-18.728368</td>\n",
       "      <td>-17.028270</td>\n",
       "      <td>-17.150052</td>\n",
       "      <td>0.981982</td>\n",
       "    </tr>\n",
       "    <tr>\n",
       "      <th>12</th>\n",
       "      <td>0.032264</td>\n",
       "      <td>0.003474</td>\n",
       "      <td>0.006418</td>\n",
       "      <td>0.001584</td>\n",
       "      <td>2</td>\n",
       "      <td>3</td>\n",
       "      <td>False</td>\n",
       "      <td>{'bootstrap': False, 'max_features': 2, 'n_est...</td>\n",
       "      <td>-130.406349</td>\n",
       "      <td>-208.106878</td>\n",
       "      <td>...</td>\n",
       "      <td>-217.366984</td>\n",
       "      <td>73.678172</td>\n",
       "      <td>18</td>\n",
       "      <td>-0.000529</td>\n",
       "      <td>-0.000529</td>\n",
       "      <td>-0.000529</td>\n",
       "      <td>-0.000000</td>\n",
       "      <td>-0.000529</td>\n",
       "      <td>-0.000423</td>\n",
       "      <td>0.000212</td>\n",
       "    </tr>\n",
       "    <tr>\n",
       "      <th>13</th>\n",
       "      <td>0.082737</td>\n",
       "      <td>0.024092</td>\n",
       "      <td>0.007701</td>\n",
       "      <td>0.000687</td>\n",
       "      <td>2</td>\n",
       "      <td>10</td>\n",
       "      <td>False</td>\n",
       "      <td>{'bootstrap': False, 'max_features': 2, 'n_est...</td>\n",
       "      <td>-117.095238</td>\n",
       "      <td>-171.470381</td>\n",
       "      <td>...</td>\n",
       "      <td>-162.540533</td>\n",
       "      <td>28.434103</td>\n",
       "      <td>11</td>\n",
       "      <td>-0.000429</td>\n",
       "      <td>-0.000048</td>\n",
       "      <td>-1.620190</td>\n",
       "      <td>-0.000000</td>\n",
       "      <td>-0.000238</td>\n",
       "      <td>-0.324181</td>\n",
       "      <td>0.648005</td>\n",
       "    </tr>\n",
       "    <tr>\n",
       "      <th>14</th>\n",
       "      <td>0.034292</td>\n",
       "      <td>0.006402</td>\n",
       "      <td>0.008318</td>\n",
       "      <td>0.005287</td>\n",
       "      <td>3</td>\n",
       "      <td>3</td>\n",
       "      <td>False</td>\n",
       "      <td>{'bootstrap': False, 'max_features': 3, 'n_est...</td>\n",
       "      <td>-128.692063</td>\n",
       "      <td>-166.933333</td>\n",
       "      <td>...</td>\n",
       "      <td>-177.083810</td>\n",
       "      <td>27.845522</td>\n",
       "      <td>12</td>\n",
       "      <td>-0.002116</td>\n",
       "      <td>-0.000000</td>\n",
       "      <td>-0.000000</td>\n",
       "      <td>-0.000000</td>\n",
       "      <td>-0.000000</td>\n",
       "      <td>-0.000423</td>\n",
       "      <td>0.000847</td>\n",
       "    </tr>\n",
       "    <tr>\n",
       "      <th>15</th>\n",
       "      <td>0.096610</td>\n",
       "      <td>0.020766</td>\n",
       "      <td>0.009412</td>\n",
       "      <td>0.001821</td>\n",
       "      <td>3</td>\n",
       "      <td>10</td>\n",
       "      <td>False</td>\n",
       "      <td>{'bootstrap': False, 'max_features': 3, 'n_est...</td>\n",
       "      <td>-90.740190</td>\n",
       "      <td>-118.211524</td>\n",
       "      <td>...</td>\n",
       "      <td>-144.845867</td>\n",
       "      <td>41.254670</td>\n",
       "      <td>8</td>\n",
       "      <td>-0.000238</td>\n",
       "      <td>-0.000667</td>\n",
       "      <td>-0.000048</td>\n",
       "      <td>-0.000000</td>\n",
       "      <td>-0.004000</td>\n",
       "      <td>-0.000990</td>\n",
       "      <td>0.001523</td>\n",
       "    </tr>\n",
       "    <tr>\n",
       "      <th>16</th>\n",
       "      <td>0.034241</td>\n",
       "      <td>0.015551</td>\n",
       "      <td>0.005454</td>\n",
       "      <td>0.001495</td>\n",
       "      <td>4</td>\n",
       "      <td>3</td>\n",
       "      <td>False</td>\n",
       "      <td>{'bootstrap': False, 'max_features': 4, 'n_est...</td>\n",
       "      <td>-125.861376</td>\n",
       "      <td>-99.123810</td>\n",
       "      <td>...</td>\n",
       "      <td>-177.986455</td>\n",
       "      <td>62.583417</td>\n",
       "      <td>14</td>\n",
       "      <td>-0.000529</td>\n",
       "      <td>-0.047090</td>\n",
       "      <td>-0.002116</td>\n",
       "      <td>-0.000000</td>\n",
       "      <td>-0.010582</td>\n",
       "      <td>-0.012063</td>\n",
       "      <td>0.017925</td>\n",
       "    </tr>\n",
       "    <tr>\n",
       "      <th>17</th>\n",
       "      <td>0.087901</td>\n",
       "      <td>0.023511</td>\n",
       "      <td>0.011518</td>\n",
       "      <td>0.003968</td>\n",
       "      <td>4</td>\n",
       "      <td>10</td>\n",
       "      <td>False</td>\n",
       "      <td>{'bootstrap': False, 'max_features': 4, 'n_est...</td>\n",
       "      <td>-108.813976</td>\n",
       "      <td>-97.644381</td>\n",
       "      <td>...</td>\n",
       "      <td>-127.651767</td>\n",
       "      <td>27.480390</td>\n",
       "      <td>4</td>\n",
       "      <td>-0.007345</td>\n",
       "      <td>-0.008000</td>\n",
       "      <td>-0.000190</td>\n",
       "      <td>-0.037286</td>\n",
       "      <td>-0.033143</td>\n",
       "      <td>-0.017193</td>\n",
       "      <td>0.015025</td>\n",
       "    </tr>\n",
       "  </tbody>\n",
       "</table>\n",
       "<p>18 rows × 23 columns</p>\n",
       "</div>"
      ],
      "text/plain": [
       "    mean_fit_time  std_fit_time  mean_score_time  std_score_time  \\\n",
       "0        0.018456      0.011509         0.001657        0.000369   \n",
       "1        0.036467      0.012270         0.002604        0.000482   \n",
       "2        0.353753      0.116244         0.021931        0.005729   \n",
       "3        0.059721      0.023219         0.009372        0.003650   \n",
       "4        0.086109      0.006774         0.011445        0.005758   \n",
       "5        0.284619      0.036014         0.028025        0.017011   \n",
       "6        0.030724      0.004398         0.005249        0.001461   \n",
       "7        0.119526      0.040310         0.009238        0.001985   \n",
       "8        0.263660      0.039900         0.017405        0.002581   \n",
       "9        0.032615      0.006785         0.005355        0.002237   \n",
       "10       0.088516      0.020176         0.007524        0.000941   \n",
       "11       0.316308      0.074900         0.021003        0.004937   \n",
       "12       0.032264      0.003474         0.006418        0.001584   \n",
       "13       0.082737      0.024092         0.007701        0.000687   \n",
       "14       0.034292      0.006402         0.008318        0.005287   \n",
       "15       0.096610      0.020766         0.009412        0.001821   \n",
       "16       0.034241      0.015551         0.005454        0.001495   \n",
       "17       0.087901      0.023511         0.011518        0.003968   \n",
       "\n",
       "   param_max_features param_n_estimators param_bootstrap  \\\n",
       "0                   2                  3             NaN   \n",
       "1                   2                 10             NaN   \n",
       "2                   2                 30             NaN   \n",
       "3                   4                  3             NaN   \n",
       "4                   4                 10             NaN   \n",
       "5                   4                 30             NaN   \n",
       "6                   6                  3             NaN   \n",
       "7                   6                 10             NaN   \n",
       "8                   6                 30             NaN   \n",
       "9                   8                  3             NaN   \n",
       "10                  8                 10             NaN   \n",
       "11                  8                 30             NaN   \n",
       "12                  2                  3           False   \n",
       "13                  2                 10           False   \n",
       "14                  3                  3           False   \n",
       "15                  3                 10           False   \n",
       "16                  4                  3           False   \n",
       "17                  4                 10           False   \n",
       "\n",
       "                                               params  split0_test_score  \\\n",
       "0              {'max_features': 2, 'n_estimators': 3}        -145.171429   \n",
       "1             {'max_features': 2, 'n_estimators': 10}        -110.900095   \n",
       "2             {'max_features': 2, 'n_estimators': 30}         -97.230169   \n",
       "3              {'max_features': 4, 'n_estimators': 3}        -120.953439   \n",
       "4             {'max_features': 4, 'n_estimators': 10}        -123.113810   \n",
       "5             {'max_features': 4, 'n_estimators': 30}        -114.199439   \n",
       "6              {'max_features': 6, 'n_estimators': 3}         -65.736508   \n",
       "7             {'max_features': 6, 'n_estimators': 10}         -89.850381   \n",
       "8             {'max_features': 6, 'n_estimators': 30}         -97.578807   \n",
       "9              {'max_features': 8, 'n_estimators': 3}        -127.681481   \n",
       "10            {'max_features': 8, 'n_estimators': 10}         -88.013619   \n",
       "11            {'max_features': 8, 'n_estimators': 30}         -91.725820   \n",
       "12  {'bootstrap': False, 'max_features': 2, 'n_est...        -130.406349   \n",
       "13  {'bootstrap': False, 'max_features': 2, 'n_est...        -117.095238   \n",
       "14  {'bootstrap': False, 'max_features': 3, 'n_est...        -128.692063   \n",
       "15  {'bootstrap': False, 'max_features': 3, 'n_est...         -90.740190   \n",
       "16  {'bootstrap': False, 'max_features': 4, 'n_est...        -125.861376   \n",
       "17  {'bootstrap': False, 'max_features': 4, 'n_est...        -108.813976   \n",
       "\n",
       "    split1_test_score  ...  mean_test_score  std_test_score  rank_test_score  \\\n",
       "0         -225.543915  ...      -189.975450       27.666404               15   \n",
       "1         -184.801143  ...      -156.022286       30.047132               10   \n",
       "2         -134.723429  ...      -129.561113       26.104218                5   \n",
       "3         -165.455026  ...      -200.435344       82.976824               16   \n",
       "4          -97.421524  ...      -149.587657       57.960124                9   \n",
       "5         -100.856296  ...      -127.589346       38.143413                3   \n",
       "6         -236.198942  ...      -177.526772       64.430254               13   \n",
       "7         -124.624286  ...      -136.020724       37.445087                7   \n",
       "8         -105.300878  ...      -118.268786       22.897397                2   \n",
       "9         -198.247619  ...      -201.366984       45.995502               17   \n",
       "10        -129.432286  ...      -132.380438       38.846618                6   \n",
       "11        -104.829005  ...      -116.310332       29.592997                1   \n",
       "12        -208.106878  ...      -217.366984       73.678172               18   \n",
       "13        -171.470381  ...      -162.540533       28.434103               11   \n",
       "14        -166.933333  ...      -177.083810       27.845522               12   \n",
       "15        -118.211524  ...      -144.845867       41.254670                8   \n",
       "16         -99.123810  ...      -177.986455       62.583417               14   \n",
       "17         -97.644381  ...      -127.651767       27.480390                4   \n",
       "\n",
       "    split0_train_score  split1_train_score  split2_train_score  \\\n",
       "0           -45.204762          -69.165873          -45.107937   \n",
       "1           -22.781714          -36.469071          -26.586762   \n",
       "2           -19.209913          -25.434865          -22.055712   \n",
       "3           -40.400529          -31.047619          -60.716667   \n",
       "4           -23.781833          -17.082667          -28.214571   \n",
       "5           -20.444730          -17.618653          -18.089124   \n",
       "6           -30.713492          -71.186243          -56.849735   \n",
       "7           -25.378690          -27.556000          -23.909119   \n",
       "8           -20.343466          -20.186307          -17.957630   \n",
       "9           -26.715873          -42.741005          -40.212963   \n",
       "10          -16.025833          -24.300857          -20.468429   \n",
       "11          -15.873839          -16.480860          -17.638926   \n",
       "12           -0.000529           -0.000529           -0.000529   \n",
       "13           -0.000429           -0.000048           -1.620190   \n",
       "14           -0.002116           -0.000000           -0.000000   \n",
       "15           -0.000238           -0.000667           -0.000048   \n",
       "16           -0.000529           -0.047090           -0.002116   \n",
       "17           -0.007345           -0.008000           -0.000190   \n",
       "\n",
       "    split3_train_score  split4_train_score  mean_train_score  std_train_score  \n",
       "0           -51.160317          -51.291005        -52.385979         8.818229  \n",
       "1           -30.978810          -25.947214        -28.552714         4.743684  \n",
       "2           -20.261651          -17.686667        -20.929761         2.664043  \n",
       "3           -41.798942          -67.457407        -48.284233        13.590354  \n",
       "4           -22.503238          -45.335714        -27.383605         9.652656  \n",
       "5           -18.010545          -25.114659        -19.855542         2.811881  \n",
       "6           -45.492063          -47.147619        -50.277831        13.385192  \n",
       "7           -28.172595          -23.956357        -25.794552         1.781266  \n",
       "8           -19.744796          -13.294206        -18.305281         2.645615  \n",
       "9           -66.487566          -50.438360        -45.319153        13.062236  \n",
       "10          -25.667595          -29.880190        -23.268581         4.708131  \n",
       "11          -18.728368          -17.028270        -17.150052         0.981982  \n",
       "12           -0.000000           -0.000529         -0.000423         0.000212  \n",
       "13           -0.000000           -0.000238         -0.324181         0.648005  \n",
       "14           -0.000000           -0.000000         -0.000423         0.000847  \n",
       "15           -0.000000           -0.004000         -0.000990         0.001523  \n",
       "16           -0.000000           -0.010582         -0.012063         0.017925  \n",
       "17           -0.037286           -0.033143         -0.017193         0.015025  \n",
       "\n",
       "[18 rows x 23 columns]"
      ]
     },
     "execution_count": 137,
     "metadata": {},
     "output_type": "execute_result"
    }
   ],
   "source": [
    "pd.DataFrame(grid_search.cv_results_)"
   ]
  },
  {
   "cell_type": "code",
   "execution_count": 146,
   "metadata": {},
   "outputs": [
    {
     "data": {
      "text/plain": [
       "(59,)"
      ]
     },
     "execution_count": 146,
     "metadata": {},
     "output_type": "execute_result"
    }
   ],
   "source": [
    "y_test.shape"
   ]
  },
  {
   "cell_type": "code",
   "execution_count": 144,
   "metadata": {},
   "outputs": [
    {
     "data": {
      "text/plain": [
       "(59, 7)"
      ]
     },
     "execution_count": 144,
     "metadata": {},
     "output_type": "execute_result"
    }
   ],
   "source": [
    "X_test.shape"
   ]
  },
  {
   "cell_type": "code",
   "execution_count": 142,
   "metadata": {},
   "outputs": [
    {
     "data": {
      "text/plain": [
       "(59, 27)"
      ]
     },
     "execution_count": 142,
     "metadata": {},
     "output_type": "execute_result"
    }
   ],
   "source": [
    "X_test_prepared.shape"
   ]
  },
  {
   "cell_type": "code",
   "execution_count": null,
   "metadata": {
    "collapsed": true
   },
   "outputs": [],
   "source": [
    "final_model = grid_search.best_estimator_"
   ]
  },
  {
   "cell_type": "code",
   "execution_count": 155,
   "metadata": {},
   "outputs": [
    {
     "data": {
      "text/plain": [
       "RandomForestRegressor(max_features=8, n_estimators=30, random_state=42)"
      ]
     },
     "execution_count": 155,
     "metadata": {},
     "output_type": "execute_result"
    }
   ],
   "source": [
    "final_model"
   ]
  },
  {
   "cell_type": "code",
   "execution_count": 158,
   "metadata": {},
   "outputs": [
    {
     "ename": "ValueError",
     "evalue": "X has 27 features, but DecisionTreeRegressor is expecting 112 features as input.",
     "output_type": "error",
     "traceback": [
      "\u001b[0;31m---------------------------------------------------------------------------\u001b[0m",
      "\u001b[0;31mValueError\u001b[0m                                Traceback (most recent call last)",
      "\u001b[0;32m<ipython-input-158-67b756c77b8b>\u001b[0m in \u001b[0;36m<module>\u001b[0;34m()\u001b[0m\n\u001b[1;32m      3\u001b[0m \u001b[0;34m\u001b[0m\u001b[0m\n\u001b[1;32m      4\u001b[0m \u001b[0mX_test_prepared\u001b[0m \u001b[0;34m=\u001b[0m \u001b[0mfull_pipeline\u001b[0m\u001b[0;34m.\u001b[0m\u001b[0mfit_transform\u001b[0m\u001b[0;34m(\u001b[0m\u001b[0mX_test\u001b[0m\u001b[0;34m)\u001b[0m\u001b[0;34m\u001b[0m\u001b[0m\n\u001b[0;32m----> 5\u001b[0;31m \u001b[0mfinal_predictions\u001b[0m \u001b[0;34m=\u001b[0m \u001b[0mfinal_model\u001b[0m\u001b[0;34m.\u001b[0m\u001b[0mpredict\u001b[0m\u001b[0;34m(\u001b[0m\u001b[0mX_test_prepared\u001b[0m\u001b[0;34m)\u001b[0m\u001b[0;34m\u001b[0m\u001b[0m\n\u001b[0m\u001b[1;32m      6\u001b[0m \u001b[0;34m\u001b[0m\u001b[0m\n\u001b[1;32m      7\u001b[0m \u001b[0mfinal_mse\u001b[0m \u001b[0;34m=\u001b[0m \u001b[0mmean_squared_error\u001b[0m\u001b[0;34m(\u001b[0m\u001b[0my_test\u001b[0m\u001b[0;34m,\u001b[0m \u001b[0mfinal_predictions\u001b[0m\u001b[0;34m)\u001b[0m\u001b[0;34m\u001b[0m\u001b[0m\n",
      "\u001b[0;32m/Users/blakenicholson/anaconda/lib/python3.6/site-packages/sklearn/ensemble/_forest.py\u001b[0m in \u001b[0;36mpredict\u001b[0;34m(self, X)\u001b[0m\n\u001b[1;32m    782\u001b[0m         \u001b[0mcheck_is_fitted\u001b[0m\u001b[0;34m(\u001b[0m\u001b[0mself\u001b[0m\u001b[0;34m)\u001b[0m\u001b[0;34m\u001b[0m\u001b[0m\n\u001b[1;32m    783\u001b[0m         \u001b[0;31m# Check data\u001b[0m\u001b[0;34m\u001b[0m\u001b[0;34m\u001b[0m\u001b[0m\n\u001b[0;32m--> 784\u001b[0;31m         \u001b[0mX\u001b[0m \u001b[0;34m=\u001b[0m \u001b[0mself\u001b[0m\u001b[0;34m.\u001b[0m\u001b[0m_validate_X_predict\u001b[0m\u001b[0;34m(\u001b[0m\u001b[0mX\u001b[0m\u001b[0;34m)\u001b[0m\u001b[0;34m\u001b[0m\u001b[0m\n\u001b[0m\u001b[1;32m    785\u001b[0m \u001b[0;34m\u001b[0m\u001b[0m\n\u001b[1;32m    786\u001b[0m         \u001b[0;31m# Assign chunk of trees to jobs\u001b[0m\u001b[0;34m\u001b[0m\u001b[0;34m\u001b[0m\u001b[0m\n",
      "\u001b[0;32m/Users/blakenicholson/anaconda/lib/python3.6/site-packages/sklearn/ensemble/_forest.py\u001b[0m in \u001b[0;36m_validate_X_predict\u001b[0;34m(self, X)\u001b[0m\n\u001b[1;32m    420\u001b[0m         \u001b[0mcheck_is_fitted\u001b[0m\u001b[0;34m(\u001b[0m\u001b[0mself\u001b[0m\u001b[0;34m)\u001b[0m\u001b[0;34m\u001b[0m\u001b[0m\n\u001b[1;32m    421\u001b[0m \u001b[0;34m\u001b[0m\u001b[0m\n\u001b[0;32m--> 422\u001b[0;31m         \u001b[0;32mreturn\u001b[0m \u001b[0mself\u001b[0m\u001b[0;34m.\u001b[0m\u001b[0mestimators_\u001b[0m\u001b[0;34m[\u001b[0m\u001b[0;36m0\u001b[0m\u001b[0;34m]\u001b[0m\u001b[0;34m.\u001b[0m\u001b[0m_validate_X_predict\u001b[0m\u001b[0;34m(\u001b[0m\u001b[0mX\u001b[0m\u001b[0;34m,\u001b[0m \u001b[0mcheck_input\u001b[0m\u001b[0;34m=\u001b[0m\u001b[0;32mTrue\u001b[0m\u001b[0;34m)\u001b[0m\u001b[0;34m\u001b[0m\u001b[0m\n\u001b[0m\u001b[1;32m    423\u001b[0m \u001b[0;34m\u001b[0m\u001b[0m\n\u001b[1;32m    424\u001b[0m     \u001b[0;34m@\u001b[0m\u001b[0mproperty\u001b[0m\u001b[0;34m\u001b[0m\u001b[0m\n",
      "\u001b[0;32m/Users/blakenicholson/anaconda/lib/python3.6/site-packages/sklearn/tree/_classes.py\u001b[0m in \u001b[0;36m_validate_X_predict\u001b[0;34m(self, X, check_input)\u001b[0m\n\u001b[1;32m    406\u001b[0m         \u001b[0;32mif\u001b[0m \u001b[0mcheck_input\u001b[0m\u001b[0;34m:\u001b[0m\u001b[0;34m\u001b[0m\u001b[0m\n\u001b[1;32m    407\u001b[0m             X = self._validate_data(X, dtype=DTYPE, accept_sparse=\"csr\",\n\u001b[0;32m--> 408\u001b[0;31m                                     reset=False)\n\u001b[0m\u001b[1;32m    409\u001b[0m             if issparse(X) and (X.indices.dtype != np.intc or\n\u001b[1;32m    410\u001b[0m                                 X.indptr.dtype != np.intc):\n",
      "\u001b[0;32m/Users/blakenicholson/anaconda/lib/python3.6/site-packages/sklearn/base.py\u001b[0m in \u001b[0;36m_validate_data\u001b[0;34m(self, X, y, reset, validate_separately, **check_params)\u001b[0m\n\u001b[1;32m    435\u001b[0m \u001b[0;34m\u001b[0m\u001b[0m\n\u001b[1;32m    436\u001b[0m         \u001b[0;32mif\u001b[0m \u001b[0mcheck_params\u001b[0m\u001b[0;34m.\u001b[0m\u001b[0mget\u001b[0m\u001b[0;34m(\u001b[0m\u001b[0;34m'ensure_2d'\u001b[0m\u001b[0;34m,\u001b[0m \u001b[0;32mTrue\u001b[0m\u001b[0;34m)\u001b[0m\u001b[0;34m:\u001b[0m\u001b[0;34m\u001b[0m\u001b[0m\n\u001b[0;32m--> 437\u001b[0;31m             \u001b[0mself\u001b[0m\u001b[0;34m.\u001b[0m\u001b[0m_check_n_features\u001b[0m\u001b[0;34m(\u001b[0m\u001b[0mX\u001b[0m\u001b[0;34m,\u001b[0m \u001b[0mreset\u001b[0m\u001b[0;34m=\u001b[0m\u001b[0mreset\u001b[0m\u001b[0;34m)\u001b[0m\u001b[0;34m\u001b[0m\u001b[0m\n\u001b[0m\u001b[1;32m    438\u001b[0m \u001b[0;34m\u001b[0m\u001b[0m\n\u001b[1;32m    439\u001b[0m         \u001b[0;32mreturn\u001b[0m \u001b[0mout\u001b[0m\u001b[0;34m\u001b[0m\u001b[0m\n",
      "\u001b[0;32m/Users/blakenicholson/anaconda/lib/python3.6/site-packages/sklearn/base.py\u001b[0m in \u001b[0;36m_check_n_features\u001b[0;34m(self, X, reset)\u001b[0m\n\u001b[1;32m    364\u001b[0m         \u001b[0;32mif\u001b[0m \u001b[0mn_features\u001b[0m \u001b[0;34m!=\u001b[0m \u001b[0mself\u001b[0m\u001b[0;34m.\u001b[0m\u001b[0mn_features_in_\u001b[0m\u001b[0;34m:\u001b[0m\u001b[0;34m\u001b[0m\u001b[0m\n\u001b[1;32m    365\u001b[0m             raise ValueError(\n\u001b[0;32m--> 366\u001b[0;31m                 \u001b[0;34mf\"X has {n_features} features, but {self.__class__.__name__} \"\u001b[0m\u001b[0;34m\u001b[0m\u001b[0m\n\u001b[0m\u001b[1;32m    367\u001b[0m                 f\"is expecting {self.n_features_in_} features as input.\")\n\u001b[1;32m    368\u001b[0m \u001b[0;34m\u001b[0m\u001b[0m\n",
      "\u001b[0;31mValueError\u001b[0m: X has 27 features, but DecisionTreeRegressor is expecting 112 features as input."
     ]
    }
   ],
   "source": [
    "X_test = strat_test_set.drop(\"Runtime\", axis=1)\n",
    "y_test = strat_test_set[\"Runtime\"].copy()\n",
    "\n",
    "X_test_prepared = full_pipeline.fit_transform(X_test)\n",
    "final_predictions = final_model.predict(X_test_prepared)\n",
    "\n",
    "final_mse = mean_squared_error(y_test, final_predictions)\n",
    "final_rmse = np.sqrt(final_mse)"
   ]
  },
  {
   "cell_type": "code",
   "execution_count": null,
   "metadata": {},
   "outputs": [],
   "source": [
    "final_rmse"
   ]
  },
  {
   "cell_type": "code",
   "execution_count": null,
   "metadata": {
    "collapsed": true
   },
   "outputs": [],
   "source": [
    "from scipy import stats"
   ]
  },
  {
   "cell_type": "code",
   "execution_count": null,
   "metadata": {},
   "outputs": [],
   "source": [
    "confidence = 0.95\n",
    "squared_errors = (final_predictions - y_test) ** 2\n",
    "mean = squared_errors.mean()\n",
    "m = len(squared_errors)\n",
    "\n",
    "np.sqrt(stats.t.interval(confidence, m - 1,\n",
    "                         loc=np.mean(squared_errors),\n",
    "                         scale=stats.sem(squared_errors)))"
   ]
  },
  {
   "cell_type": "code",
   "execution_count": null,
   "metadata": {},
   "outputs": [],
   "source": [
    "tscore = stats.t.ppf((1 + confidence) / 2, df=m - 1)\n",
    "tmargin = tscore * squared_errors.std(ddof=1) / np.sqrt(m)\n",
    "np.sqrt(mean - tmargin), np.sqrt(mean + tmargin)"
   ]
  },
  {
   "cell_type": "markdown",
   "metadata": {},
   "source": [
    "Alternatively, we could use a z-scores rather than t-scores:"
   ]
  },
  {
   "cell_type": "code",
   "execution_count": null,
   "metadata": {},
   "outputs": [],
   "source": [
    "zscore = stats.norm.ppf((1 + confidence) / 2)\n",
    "zmargin = zscore * squared_errors.std(ddof=1) / np.sqrt(m)\n",
    "np.sqrt(mean - zmargin), np.sqrt(mean + zmargin)"
   ]
  },
  {
   "cell_type": "markdown",
   "metadata": {},
   "source": [
    "#  ----"
   ]
  },
  {
   "cell_type": "code",
   "execution_count": null,
   "metadata": {},
   "outputs": [],
   "source": [
    "# create a pipeline objectb\n",
    "pipe = make_pipeline(\n",
    "    StandardScaler(),\n",
    "    LogisticRegression()\n",
    ")\n",
    "\n",
    "X, y = load_iris(return_X_y=True)\n",
    "\n",
    "X_train, X_test, y_train, y_test = train_test_split(X, y, random_state=0)\n",
    "\n",
    "# fit the whole pipeline\n",
    "pipe.fit(X_train, y_train)\n",
    "\n",
    "score = accuracy_score(pipe.predict(X_test), y_test)\n",
    "\n",
    "print(score)"
   ]
  },
  {
   "cell_type": "code",
   "execution_count": null,
   "metadata": {
    "collapsed": true
   },
   "outputs": [],
   "source": []
  },
  {
   "cell_type": "code",
   "execution_count": null,
   "metadata": {
    "collapsed": true
   },
   "outputs": [],
   "source": []
  }
 ],
 "metadata": {
  "kernelspec": {
   "display_name": "Python 3",
   "language": "python",
   "name": "python3"
  },
  "language_info": {
   "codemirror_mode": {
    "name": "ipython",
    "version": 3
   },
   "file_extension": ".py",
   "mimetype": "text/x-python",
   "name": "python",
   "nbconvert_exporter": "python",
   "pygments_lexer": "ipython3",
   "version": "3.6.1"
  }
 },
 "nbformat": 4,
 "nbformat_minor": 2
}
